{
 "cells": [
  {
   "cell_type": "markdown",
   "id": "675c1c29-5b74-4116-af49-85d11c98de99",
   "metadata": {},
   "source": [
    "# ECOSTRESS Files Concurrent with BioSCape"
   ]
  },
  {
   "cell_type": "markdown",
   "id": "c13d9f41-758c-4a71-bc6c-90c6f71d16a3",
   "metadata": {},
   "source": [
    "## BioSCape Data Skills Workshop: From the Field to the Image\n",
    "![Bioscape](images/121229-87.png)\n",
    "\n",
    "[**BioSCape**](https://www.bioscape.io/), the Biodiversity Survey of the Cape, is NASA’s first biodiversity-focused airborne and field campaign that was conducted in South Africa in 2023. BioSCape’s primary objective is to study the structure, function, and composition of the region’s ecosystems, and how and why they are changing. \n",
    "\n",
    "BioSCape's airborne dataset is unprecedented, with `AVIRIS-NG`, `PRISM`, and `HyTES` imaging spectrometers capturing spectral data across the UV, visible and infrared at high resolution and `LVIS` acquiring coincident full-waveform lidar. BioSCape's `field dataset` is equally impressive, with 18 PI-led projects collecting data ranging from the diversity and phylogeny of plants, kelp and phytoplankton, eDNA, landscape acoustics, plant traits, blue carbon accounting, and more\n",
    "\n",
    "This workshop will equip participants with the skills to find, subset, and visualize the various BioSCape field and airborne (imaging spectroscopy and full-waveform lidar) data sets. Participants will learn data skills through worked examples in terrestrial and aquatic ecosystems, including: wrangling lidar data, performing band math calculations, calculating spectral diversity metrics, machine learning and image classification, and mapping functional traits using partial least squares regression. The workshop format is a mix of expert talks and interactive coding notebooks and will be run through the BioSCape Cloud computing environment.\n",
    "\n",
    "**Date:** October 9 - 11, 2024 Cape Town, South Africa</center>\n",
    "\n",
    "**Host:** NASA’s Oak Ridge National Laboratory Distributed Active Archive Center (ORNL DAAC), in close collaboration with BioSCape, the South African Environmental Observation Network (SAEON), the University of Wisconsin Madison (Phil Townsend), The Nature Conservancy (Glenn Moncrieff), the University of California Merced (Erin Hestir), the University of Cape Town (Jasper Slingsby), Jet Propulsion Laboratory (Kerry Cawse-Nicholson), and UNESCO.\n",
    "\n",
    "**Instructors:** \n",
    "- In-person contributors: Anabelle Cardoso, Erin Hestir, Phil Townsend, Henry Frye, Glenn Moncrieff, Jasper Slingsby, Michele Thornton, Rupesh Shrestha\n",
    "- Virtual contributors: Kerry Cawse-Nicholson, Nico Stork, Kyle Kovach\n",
    "\n",
    "**Audience:** This training is primarily intended for government natural resource management agency representatives and field technicians in South Africa, as well as local academics and students, especially those connected to the BioSCape Team. "
   ]
  },
  {
   "cell_type": "markdown",
   "id": "172b872c-b551-40f9-96a3-35daea7dd6da",
   "metadata": {},
   "source": [
    "## Overview \n",
    "This tutorial will demonstrate how to discover ECOSTRESS data that is available from NASA Earthdata that are concurrent with the temporal range of the BioSCape Campaign.  \n",
    "\n",
    "### Learning Objectives\n",
    "1.  Using the Python **`earthaccess`** library to programmatically search and discover granules of ECOSTRESS data concurrent with the BioSCape airborne and field campaign."
   ]
  },
  {
   "cell_type": "markdown",
   "id": "1576d978-0950-430f-90bd-e331fd1d7a99",
   "metadata": {},
   "source": [
    "### Load Python Modules"
   ]
  },
  {
   "cell_type": "code",
   "execution_count": null,
   "id": "62b21a7d-c903-45e9-b83d-882657b9d4cc",
   "metadata": {},
   "outputs": [],
   "source": [
    "import rioxarray as rxr\n",
    "import hvplot.xarray\n",
    "import earthaccess\n",
    "from glob import glob"
   ]
  },
  {
   "cell_type": "markdown",
   "id": "7bd48701-c827-4ea5-bc7c-0a3dcc8d76ce",
   "metadata": {},
   "source": [
    "### Earthdata:  ECOSTRESS Tiled Land Surface Temperature and Emissivity \n",
    "[ECOSTRESS Tiled Land Surface Temperature and Emissivity Instantaneous L2 Global 70 m V002](https://search.earthdata.nasa.gov/search/granules?p=C2076090826-LPCLOUD&pg[0][v]=f&pg[0][gsk]=-start_date&q=ecostress&tl=1728383162.465!3!!)\n",
    "\n",
    "There are over **`4.5 Million`** granules in this collection"
   ]
  },
  {
   "cell_type": "markdown",
   "id": "e8d8d551-7f15-4e8f-af2c-659afc314feb",
   "metadata": {},
   "source": [
    "![Bioscape](images/earthdatalogos.PNG)\n",
    "\n",
    "**`earthaccess`**\n",
    "- Using the bounds of a BioSCape PRISM scene for the spatial extent of ECOSTRESS search\n",
    "- Using the date the PRISM scene was acquired for the temporal extent of the ECOSTRESS search"
   ]
  },
  {
   "cell_type": "code",
   "execution_count": null,
   "id": "42686140-3d1c-45ca-b287-156706c63cb6",
   "metadata": {},
   "outputs": [],
   "source": [
    "# start/end dates\n",
    "temporal = (\"2023-11-10\", \"2023-11-20\")\n",
    "\n",
    "# bounds of a BioSCape PRISM scene found at /shared/users/mthornton/BioSCape_workshop_sa/PRISM/prism_rgb_gordonsbay.tif\n",
    "# lower_left_lon, lower_left_lat, upper_right_lon, upper_right_lat\n",
    "bounds =  (18.745473042, -34.229074023, 18.929915660, -34.104690291)\n",
    "\n",
    "# doi of ECOSTRESS Tiled Land Surface Temperature and Emissivity \n",
    "# Instantaneous L2 Global 70 m V002\n",
    "doi = \"10.5067/ECOSTRESS/ECO_L2T_LSTE.002\"\n",
    "granules = earthaccess.search_data(\n",
    "    count=-1, # needed to retrieve all granules\n",
    "    doi=doi,\n",
    "    temporal=temporal, # Bioscape campaign dates\n",
    "    bounding_box = bounds\n",
    ")"
   ]
  },
  {
   "cell_type": "code",
   "execution_count": null,
   "id": "e9d237a4-8fc4-4253-8efd-86a35254021d",
   "metadata": {},
   "outputs": [],
   "source": [
    "# print one granule\n",
    "granules[4]"
   ]
  },
  {
   "cell_type": "markdown",
   "id": "7e5d0039-b8bf-406f-887f-987a00288d03",
   "metadata": {},
   "source": [
    "### RECALL: We've already created a persistent earthdata login"
   ]
  },
  {
   "cell_type": "code",
   "execution_count": null,
   "id": "0da52a3c-da6e-4ab8-bc0a-41d0f9da53a1",
   "metadata": {},
   "outputs": [],
   "source": [
    "# earthaccess login\n",
    "earthaccess.login(strategy=\"interactive\", persist=True)\n",
    "# download files\n",
    "earthaccess.download(granules[4], \"downloads\")"
   ]
  },
  {
   "cell_type": "code",
   "execution_count": null,
   "id": "0b6643ee-014b-4b2f-883a-9bdfc98f0112",
   "metadata": {},
   "outputs": [],
   "source": [
    "# finding LST file\n",
    "LST_f = glob(\"downloads/ECO*LST.tif\")[0]\n",
    "LST_f"
   ]
  },
  {
   "cell_type": "code",
   "execution_count": null,
   "id": "a3062a42-a604-4e88-9166-34a282755cf8",
   "metadata": {},
   "outputs": [],
   "source": [
    "# open LST file\n",
    "ds = rxr.open_rasterio(LST_f, chunked=True, masked=True).squeeze('band', drop=True)\n",
    "ds"
   ]
  },
  {
   "cell_type": "code",
   "execution_count": null,
   "id": "d81e15b1-7216-4cde-a39f-f5f84625b3cb",
   "metadata": {},
   "outputs": [],
   "source": [
    "# plot LST\n",
    "ds.hvplot.image(x='x', y='y', cmap='YlOrRd', crs=ds.rio.crs)"
   ]
  },
  {
   "cell_type": "code",
   "execution_count": null,
   "id": "4ed234e3-c502-452d-88e1-0e7bc35746bf",
   "metadata": {},
   "outputs": [],
   "source": []
  }
 ],
 "metadata": {
  "kernelspec": {
   "display_name": "global-global-BioSCape",
   "language": "python",
   "name": "conda-env-global-global-BioSCape-py"
  },
  "language_info": {
   "codemirror_mode": {
    "name": "ipython",
    "version": 3
   },
   "file_extension": ".py",
   "mimetype": "text/x-python",
   "name": "python",
   "nbconvert_exporter": "python",
   "pygments_lexer": "ipython3",
   "version": "3.12.3"
  }
 },
 "nbformat": 4,
 "nbformat_minor": 5
}

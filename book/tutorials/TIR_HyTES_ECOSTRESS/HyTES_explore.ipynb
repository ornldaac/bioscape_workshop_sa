{
 "cells": [
  {
   "cell_type": "markdown",
   "id": "6f8e03e1-5cb2-4355-85fe-f1878fa44f90",
   "metadata": {},
   "source": [
    "# Accessing and Visualizing HyTES data"
   ]
  },
  {
   "cell_type": "markdown",
   "id": "b8a9c900-c47a-4f30-9e79-893f37d0d1b0",
   "metadata": {},
   "source": [
    "## BioSCape Data Skills Workshop: From the Field to the Image\n",
    "![Bioscape](images/121229-87.png)\n",
    "\n",
    "[**BioSCape**](https://www.bioscape.io/), the Biodiversity Survey of the Cape, is NASA’s first biodiversity-focused airborne and field campaign that was conducted in South Africa in 2023. BioSCape’s primary objective is to study the structure, function, and composition of the region’s ecosystems, and how and why they are changing. \n",
    "\n",
    "BioSCape's airborne dataset is unprecedented, with `AVIRIS-NG`, `PRISM`, and `HyTES` imaging spectrometers capturing spectral data across the UV, visible and infrared at high resolution and `LVIS` acquiring coincident full-waveform lidar. BioSCape's `field dataset` is equally impressive, with 18 PI-led projects collecting data ranging from the diversity and phylogeny of plants, kelp and phytoplankton, eDNA, landscape acoustics, plant traits, blue carbon accounting, and more\n",
    "\n",
    "This workshop will equip participants with the skills to find, subset, and visualize the various BioSCape field and airborne (imaging spectroscopy and full-waveform lidar) data sets. Participants will learn data skills through worked examples in terrestrial and aquatic ecosystems, including: wrangling lidar data, performing band math calculations, calculating spectral diversity metrics, machine learning and image classification, and mapping functional traits using partial least squares regression. The workshop format is a mix of expert talks and interactive coding notebooks and will be run through the BioSCape Cloud computing environment.\n",
    "\n",
    "**Date:** October 9 - 11, 2024 Cape Town, South Africa</center>\n",
    "\n",
    "**Host:** NASA’s Oak Ridge National Laboratory Distributed Active Archive Center (ORNL DAAC), in close collaboration with BioSCape, the South African Environmental Observation Network (SAEON), the University of Wisconsin Madison (Phil Townsend), The Nature Conservancy (Glenn Moncrieff), the University of California Merced (Erin Hestir), the University of Cape Town (Jasper Slingsby), Jet Propulsion Laboratory (Kerry Cawse-Nicholson), and UNESCO.\n",
    "\n",
    "**Instructors:** \n",
    "- In-person contributors: Anabelle Cardoso, Erin Hestir, Phil Townsend, Henry Frye, Glenn Moncrieff, Jasper Slingsby, Michele Thornton, Rupesh Shrestha\n",
    "- Virtual contributors: Kerry Cawse-Nicholson, Nico Stork, Kyle Kovach\n",
    "\n",
    "**Audience:** This training is primarily intended for government natural resource management agency representatives and field technicians in South Africa, as well as local academics and students, especially those connected to the BioSCape Team. \n"
   ]
  },
  {
   "cell_type": "markdown",
   "id": "ddf22a67-8f3f-4600-ad9d-ba15a763ad12",
   "metadata": {},
   "source": [
    "## Overview \n",
    "In this tutorial, we will access and visualize the airborne Hyperspectral Thermal Emission Spectrometer (HyTES) data for a flight line\n",
    "- data were ordered from the [**NASA JPL HyTES website**](https://hytes.jpl.nasa.gov/order).\n",
    "\n",
    "The Hyperspectral Thermal Emission Spectrometer (HyTES) is an airborne imaging spectrometer with 256 spectral channels between 7.5 and 12 micrometers in the thermal infrared (TIR) part of the electromagnetic spectrum and 512 pixels cross-track.\n",
    "\n",
    "- HyTES provides high spatial and high spectral resolution data on **`surface temperature`** and **`emissivity`**\n",
    "- HyTES acquires data in the thermal infrared (TIR)\n",
    "    - TIR data are used to measure land surface temperature (LST), which informs models of water flux from land surface through processes such as evapotranspiration "
   ]
  },
  {
   "cell_type": "markdown",
   "id": "f38e789f-24db-412e-b900-290124073db6",
   "metadata": {},
   "source": [
    "### Load Python Modules"
   ]
  },
  {
   "cell_type": "code",
   "execution_count": null,
   "id": "0f315a4e-6ac0-44d5-9a93-29ff359de205",
   "metadata": {},
   "outputs": [],
   "source": [
    "import xarray as xr\n",
    "import hvplot.xarray\n",
    "from os import path\n",
    "import geopandas as gpd\n",
    "from glob import glob"
   ]
  },
  {
   "cell_type": "markdown",
   "id": "05b1b363-3083-4345-acb9-97c77e09fa84",
   "metadata": {},
   "source": [
    "## HyTES Flights\n",
    "A GeoJSON of the HyTES flight lines for the BioSCape project is available at the `shared` directory. Let's plot the Hytes dataset here."
   ]
  },
  {
   "cell_type": "code",
   "execution_count": null,
   "id": "c4bb5d7c-a696-4d9f-b8ed-395d5a2c729a",
   "metadata": {},
   "outputs": [],
   "source": [
    "hytes_dir = \"/shared/users/bioscape_ZA24workshop_data/RS_data/HyTES/\"\n",
    "hytes_flight = \"HyTES.json\"\n",
    "hytes_gdf = gpd.read_file(path.join(hytes_dir, hytes_flight))\n",
    "hytes_gdf.explore()"
   ]
  },
  {
   "cell_type": "markdown",
   "id": "53df8546-ec91-4d4f-9e3b-29a79bdd5d5e",
   "metadata": {},
   "source": [
    "## HyTES Download\n",
    "Currently, selected HyTES flights are available for download from the [JPL HyTES Website](https://hytes.jpl.nasa.gov/order).\n",
    "\n",
    "We have placed an order and downloaded the HyTES data for a flight line at Table Mountain Box1ZA for 2023-11-13. They are at the `shared` folder as shown below:"
   ]
  },
  {
   "cell_type": "code",
   "execution_count": null,
   "id": "123b9d87-439c-4b21-bda7-3166e2c8ae07",
   "metadata": {},
   "outputs": [],
   "source": [
    "hytes_orderid = \"20231113t102619_TableMountainBox1ZA\"\n",
    "hytes_dir = path.join(hytes_dir, hytes_orderid)\n",
    "hytes_dir"
   ]
  },
  {
   "cell_type": "code",
   "execution_count": null,
   "id": "dfcb89d4-eb28-4f3e-bbc0-943cb8b075fa",
   "metadata": {},
   "outputs": [],
   "source": [
    "# find all hytes L1/L2 files\n",
    "hytes_f = sorted(glob(path.join(hytes_dir, \"*.hdf5\")))\n",
    "# print\n",
    "for f in hytes_f:\n",
    "    print(path.basename(f))"
   ]
  },
  {
   "cell_type": "markdown",
   "id": "efec5e3b-a06b-4049-b032-9a4a264b8b2f",
   "metadata": {},
   "source": [
    "As we see above, there are two levels of HyTES products currently available for download.\n",
    "- **Level 1 (L1)** product provides calibrated HyTES data in radiance units of W/m^2/µm/sr. The product also contains locational metadata from the instruments NGDCS, and per-pixel geolocation information, namely latitude, longitude, height, and number of steps taken during ray-casting\n",
    "- **Level 2 (L2)** product contains following data:\n",
    "    - Emissivity (L2_Emissivity: HyTES emissivity spectral data from 8-11.5 µm\n",
    "    - PC Regression Emissivity  (L2_Emissivity_PC): HyTES emissivity data from 7.4-12 µm. L2_Emissivity_PC uses a Principal Component (PC) eigenvector regression approach to produce emissivity for all HyTES channels.\n",
    "    - Land Surface Temperature (L2_LST): HyTES Land Surface Temperature (LST) data in units of Kelvin. Derived from atmospherically corrected level-1 radiance data using the TES algorithm.\n",
    "\n",
    "### HyTES L1 product\n",
    "Let's open the Level 1 file and plot the `radiance` band."
   ]
  },
  {
   "cell_type": "code",
   "execution_count": null,
   "id": "a5ab7fe2-1012-45bb-abc7-ce73b8583f50",
   "metadata": {},
   "outputs": [],
   "source": [
    "hytes_l1 = [f for f in hytes_f if \"_L1\" in f][0]\n",
    "# open dataset\n",
    "ds_l1 = xr.open_dataset(path.join(hytes_dir, hytes_l1), engine=\"h5netcdf\", phony_dims='access')\n",
    "# renaming dimensions to sensible names\n",
    "ds_l1 = ds_l1.rename({'phony_dim_0': 'y','phony_dim_1': 'x', 'phony_dim_2': 'bands'})\n",
    "ds_l1"
   ]
  },
  {
   "cell_type": "markdown",
   "id": "239593f7-a302-4d5f-9b17-6ec6f972069b",
   "metadata": {},
   "source": [
    "### Plotting L1 Radiance\n",
    "Let's plot one of the radiance bands."
   ]
  },
  {
   "cell_type": "code",
   "execution_count": null,
   "id": "5491acc8-3d91-4b0c-a264-f0c7472ce9ae",
   "metadata": {},
   "outputs": [],
   "source": [
    "ds_l1.sel(bands=60).radiance_data.hvplot.image(width=300, height=600, cmap='viridis',\n",
    "                                              clim = (5, 18)).opts(invert_yaxis=True)"
   ]
  },
  {
   "cell_type": "markdown",
   "id": "f78db9b9-86ea-474e-97dc-e3c21492f9db",
   "metadata": {},
   "source": [
    "### HyTES L2 product\n",
    "Let's open the L2 file."
   ]
  },
  {
   "cell_type": "code",
   "execution_count": null,
   "id": "60370090-9da9-4a41-b727-96cf41450dbb",
   "metadata": {},
   "outputs": [],
   "source": [
    "hytes_l2 = [f for f in hytes_f if \"_L2\" in f][0]\n",
    "# open dataset\n",
    "ds_l2 = xr.open_dataset(path.join(hytes_dir, hytes_l2), engine=\"h5netcdf\", phony_dims='access')\n",
    "# renaming dimensions to sensible names\n",
    "ds_l2 = ds_l2.rename({'phony_dim_0': 'bands','phony_dim_1': 'y', \n",
    "                      'phony_dim_2': 'x', 'phony_dim_3': 'bands_emis'})\n",
    "ds_l2"
   ]
  },
  {
   "cell_type": "markdown",
   "id": "2e024019-9987-4de3-99e9-4f1a438a0ccf",
   "metadata": {},
   "source": [
    "### Plotting L2 LST\n",
    "Plot the variables `Land Surface Temperature (LST)`."
   ]
  },
  {
   "cell_type": "code",
   "execution_count": null,
   "id": "bbb64c88-2c34-4c3a-a6be-e23264830c0f",
   "metadata": {},
   "outputs": [],
   "source": [
    "ds_l2.L2_LST.hvplot.image(width=300, height=600,cmap='seismic',\n",
    "             clim = (250, 350)).opts(invert_yaxis=True)"
   ]
  },
  {
   "cell_type": "code",
   "execution_count": null,
   "id": "98ae7d77-7814-4e9d-a0c1-5cccb3562ce7",
   "metadata": {},
   "outputs": [],
   "source": []
  }
 ],
 "metadata": {
  "kernelspec": {
   "display_name": "global-global-BioSCape",
   "language": "python",
   "name": "conda-env-global-global-BioSCape-py"
  },
  "language_info": {
   "codemirror_mode": {
    "name": "ipython",
    "version": 3
   },
   "file_extension": ".py",
   "mimetype": "text/x-python",
   "name": "python",
   "nbconvert_exporter": "python",
   "pygments_lexer": "ipython3",
   "version": "3.12.3"
  }
 },
 "nbformat": 4,
 "nbformat_minor": 5
}

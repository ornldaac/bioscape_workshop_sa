{
 "cells": [
  {
   "cell_type": "markdown",
   "id": "67b687d4-d0c7-4686-a970-cb32c095e4ea",
   "metadata": {},
   "source": [
    "## Exploring EMIT data and inspecting spectra for alien species\n",
    "----\n",
    "\n",
    "### Overview \n",
    "----\n",
    "\n",
    "In this notebook,  we will start analysing satellite imaging spectroscopy data. We will open data from [The Earth Surface Mineral Dust Source Investigation (EMIT)](https://earth.jpl.nasa.gov/emit/) stored remotely on AWS and explore it. We will then extract some spectra for invasive plant species and visualize these.\n",
    "\n",
    "- \n",
    "### Learning Objectives\n",
    "1. Understand how to access data direclty from AWS s3 storage\n",
    "2. Load, mask, orthorectify, and visualize EMIT data\n",
    "3. Extract spectra at locations with and without aline plant and inspect these\n",
    "\n",
    "----"
   ]
  },
  {
   "cell_type": "markdown",
   "id": "7fbf12a5-3e3d-43d1-961e-a5466b969b87",
   "metadata": {
    "tags": []
   },
   "source": [
    "#### Load libraries"
   ]
  },
  {
   "cell_type": "code",
   "execution_count": null,
   "id": "d25af780-a4c6-450d-acb5-01b58719d42a",
   "metadata": {
    "tags": []
   },
   "outputs": [],
   "source": [
    "#imports\n",
    "import xarray as xr\n",
    "import hvplot.xarray\n",
    "import hvplot.pandas\n",
    "import holoviews as hv\n",
    "import pandas as pd\n",
    "import numpy as np\n",
    "import math\n",
    "import geopandas as gpd\n",
    "import panel as pn\n",
    "import xvec\n",
    "#our modules\n",
    "import emit_tools #from https://github.com/nasa/EMIT-Data-Resources/blob/main/python/modules/emit_tools.py\n",
    "\n",
    "# Function to adjust gamma across all bands - adjust brightness\n",
    "def gamma_adjust(rgb_ds, bright=0.2, white_background=False):\n",
    "    array = rgb_ds.reflectance.data\n",
    "    gamma = math.log(bright)/math.log(np.nanmean(array)) # Create exponent for gamma scaling - can be adjusted by changing 0.2 \n",
    "    scaled = np.power(array,gamma).clip(0,1) # Apply scaling and clip to 0-1 range\n",
    "    if white_background == True:\n",
    "        scaled = np.nan_to_num(scaled, nan = 1) # Assign NA's to 1 so they appear white in plots\n",
    "    rgb_ds.reflectance.data = scaled\n",
    "    return rgb_ds"
   ]
  },
  {
   "cell_type": "markdown",
   "id": "92d11e01-4c1e-41d3-aea3-cfd55c2db496",
   "metadata": {},
   "source": [
    "#### Authenticate with NASA Earthdata portal\n",
    "Earthaccess is a python library to search, download or stream NASA Earth science data. You will also need an account on NASA's Earthdata data portal\n",
    "https://search.earthdata.nasa.gov/"
   ]
  },
  {
   "cell_type": "code",
   "execution_count": null,
   "id": "96564acb-6375-4e7f-a9a0-69a318d5c28a",
   "metadata": {
    "tags": []
   },
   "outputs": [],
   "source": [
    "import earthaccess\n",
    "auth = earthaccess.login(persist=True)"
   ]
  },
  {
   "cell_type": "markdown",
   "id": "f8ec817d-0213-47d0-8aaa-a114d0c47cb3",
   "metadata": {},
   "source": [
    "##### Accessing data on AWS S3\n",
    "\n",
    "The emit files are stored on Amazon S3 object storage. We will access these directly without needing to download them as we can stream s3 files. Also, because we are using xarray with dask and our data is stored in a chunked file format `netcdf`, we only need to stream the chunks we are currently working on and not the entire file at once.\n",
    "  \n",
    "The best way to access the data is on a virtual machine located in `us-west-2`. This is where the data is located and this mean that will get the fastest reading and writing of data possible, and all read/writes will be free. If your machine is not in `us-west-2` or you are on a local machine, I do not recommend using S3, as it might be slower and there will be costs involved."
   ]
  },
  {
   "cell_type": "markdown",
   "id": "b0f6d101-f47d-4ec9-b708-675953cc9aac",
   "metadata": {},
   "source": [
    "##### Finding data"
   ]
  },
  {
   "cell_type": "markdown",
   "id": "8ae77d15-66c9-4cdf-8723-b334d06c8e01",
   "metadata": {},
   "source": [
    "earthaccess has really convineint methods for searching and loading nasa data over S3 using `earthaccess.search_data()`. Here is an example:\n",
    "```\n",
    "results = earthaccess.search_data(\n",
    "    short_name='EMITL2ARFL',\n",
    "    point=(19.03711,-33.94747),\n",
    "    temporal=('2023-01-18','2023-01-24'),\n",
    "    count=2\n",
    ")\n"
   ]
  },
  {
   "cell_type": "markdown",
   "id": "2085bf23-23bf-4596-b2fb-aaff0dbe0720",
   "metadata": {},
   "source": [
    "you can then load the results into an xarray\n",
    "```\n",
    "files = earthaccess.open(results)\n",
    "ds = xr.open_dataset(files.f)\n"
   ]
  },
  {
   "cell_type": "markdown",
   "id": "cd933c89-bc9b-42f2-9afc-2062ac963d39",
   "metadata": {},
   "source": [
    "if you do not want to stream the data from S3 you can download the data directly using:\n",
    "```\n",
    "files = earthaccess.download(results, \"./local_folder\")\n"
   ]
  },
  {
   "cell_type": "markdown",
   "id": "cd6782c7-cee4-405b-88af-e9d2dabb4ac9",
   "metadata": {},
   "source": [
    "for more info on using earthaccess see the [docs](https://nsidc.github.io/earthaccess/)"
   ]
  },
  {
   "cell_type": "markdown",
   "id": "4dceb8a0-1713-4a5a-8e6f-f6863a7769e7",
   "metadata": {
    "tags": []
   },
   "source": [
    "#### Open the datset"
   ]
  },
  {
   "cell_type": "markdown",
   "id": "0354c84c-6bed-4a99-bfbf-9a0d3ebb8303",
   "metadata": {
    "tags": []
   },
   "source": [
    "If you are in us-west-2: Authenticate with s3 and stream data"
   ]
  },
  {
   "cell_type": "code",
   "execution_count": null,
   "id": "70b795dd-84c8-4b8c-8418-eef390510dfd",
   "metadata": {},
   "outputs": [],
   "source": [
    "results = earthaccess.search_data(\n",
    "    short_name='EMITL2ARFL',\n",
    "    point=(19.03711,-33.94747),\n",
    "    temporal=('2023-01-18','2023-01-24'),\n",
    "    count=1\n",
    ")\n",
    "file_handlers = earthaccess.open(results)\n",
    "file_handlers"
   ]
  },
  {
   "cell_type": "markdown",
   "id": "0cbcec8a",
   "metadata": {},
   "source": [
    "Inspect the raw data"
   ]
  },
  {
   "cell_type": "code",
   "execution_count": null,
   "id": "a73eface-28a5-4fca-899f-0116d321b94f",
   "metadata": {},
   "outputs": [],
   "source": [
    "xr.open_dataset(file_handlers[0].f,engine='h5netcdf',chunks='auto')"
   ]
  },
  {
   "cell_type": "markdown",
   "id": "5678b261-d875-41a0-9a77-ff52417c7174",
   "metadata": {
    "tags": []
   },
   "source": [
    "If you are not in us-west-2: Download locally"
   ]
  },
  {
   "cell_type": "raw",
   "id": "49b67151-bb5c-4bdc-a0e8-89c18d50ddda",
   "metadata": {},
   "source": [
    "#get the files we want\n",
    "results = earthaccess.search_data(\n",
    "    short_name='EMITL2ARFL',\n",
    "    point=(19.03711,-33.94747),\n",
    "    temporal=('2023-01-18','2023-01-24'),\n",
    "    count=1\n",
    ")\n",
    "#download them\n",
    "files = earthaccess.download(results, \"data/downloads\")"
   ]
  },
  {
   "cell_type": "raw",
   "id": "74964b05-ebbd-47a8-ac5e-624c7add01a7",
   "metadata": {},
   "source": [
    "# Open dataset with xarray\n",
    "fp = 'data/downloads/EMIT_L2A_RFL_001_20230119T114247_2301907_005.nc'\n",
    "fp_mask = 'data/downloads/EMIT_L2A_MASK_001_20230119T114247_2301907_005.nc'\n",
    "\n",
    "ds = xr.open_dataset(fp,engine='h5netcdf',chunks='auto')\n",
    "ds"
   ]
  },
  {
   "cell_type": "markdown",
   "id": "6ac2589c-343c-4575-9a01-ad02c1f2d229",
   "metadata": {},
   "source": [
    "#### Load the mask\n",
    "The EMIT data is composed of 3 files, the actual data, a mask that tells us about various quality issues with the data, and the reflectance uncertainties (we will ignore the uncertainty for now). We can selecting which quality filter (mask) to use. Here we used the aggregate filter - the sum of all filters to be very strict about what data we include. The `quality_mask` function provided by the EMIT team reads and processes this file for us."
   ]
  },
  {
   "cell_type": "code",
   "execution_count": null,
   "id": "d52e6825-5f13-4531-9bb2-d2dcffe0d765",
   "metadata": {
    "tags": []
   },
   "outputs": [],
   "source": [
    "flags=[7]\n",
    "mask = emit_tools.quality_mask(file_handlers[2].f,flags)"
   ]
  },
  {
   "cell_type": "markdown",
   "id": "099804ec-2f53-4096-b3d3-d08d248b81e5",
   "metadata": {
    "tags": []
   },
   "source": [
    "#### Load the data\n",
    "As you saw the raw data is the unprojected, unmasked focal plane array and does not include much metadata for us to tell what is going on.  The `emit_array` function provided by the EMIT team reads and processes this file for us. It can orthorectify the data and apply the mask too if we want.\n",
    "\n",
    "> Warning: in order to orthorectify the data, the entire array must be loaded into memory. This means you need a decent amount of RAM or the operation will fail. I found that 16GB is the minimum needed.\n"
   ]
  },
  {
   "cell_type": "code",
   "execution_count": null,
   "id": "82145bc0-fa23-47fb-9583-dc14ded063bf",
   "metadata": {
    "tags": []
   },
   "outputs": [],
   "source": [
    "ds = emit_tools.emit_xarray(file_handlers[0].f, ortho=True, qmask=mask)\n",
    "ds"
   ]
  },
  {
   "cell_type": "markdown",
   "id": "fa01e714",
   "metadata": {},
   "source": [
    "we will chunk the data so that we dont can apply any analysis to chunks rather than the entire array"
   ]
  },
  {
   "cell_type": "code",
   "execution_count": null,
   "id": "e6728d81-0c70-490e-9eff-e7461dc5975e",
   "metadata": {},
   "outputs": [],
   "source": [
    "ds = ds.chunk({'latitude':100,'longitude':100,'wavelengths':10})"
   ]
  },
  {
   "cell_type": "markdown",
   "id": "3a6596a4-d9bf-40e7-8925-8285c4bb0029",
   "metadata": {},
   "source": [
    "The first thing we do is drop the bad bands (those in the atmospheric water absorption zones) and replace -9999 which is used to code no data with nan"
   ]
  },
  {
   "cell_type": "code",
   "execution_count": null,
   "id": "5efff08c-f7dd-41ff-883e-c5ac0e27dd68",
   "metadata": {
    "tags": []
   },
   "outputs": [],
   "source": [
    "ds = ds.where(ds.good_wavelengths.compute()==1,drop=True)\n",
    "ds = ds.where(ds.reflectance != -9999)"
   ]
  },
  {
   "cell_type": "markdown",
   "id": "8426974c-4377-486a-bb71-b94f45cef95a",
   "metadata": {},
   "source": [
    "#### Quick plot"
   ]
  },
  {
   "cell_type": "code",
   "execution_count": null,
   "id": "0ed2f601-4f1d-41b4-92b9-5bf56c228299",
   "metadata": {
    "tags": []
   },
   "outputs": [],
   "source": [
    "#select rgb\n",
    "rgb = ds.sel(wavelengths=[650, 560, 470], method='nearest')\n",
    "#make colors nicer\n",
    "rgb = gamma_adjust(rgb)"
   ]
  },
  {
   "cell_type": "markdown",
   "id": "48b56dff",
   "metadata": {},
   "source": [
    "plot natural colors"
   ]
  },
  {
   "cell_type": "code",
   "execution_count": null,
   "id": "290d1299-3e46-4573-9f4e-6d2b598ff623",
   "metadata": {
    "tags": []
   },
   "outputs": [],
   "source": [
    "rgb.hvplot.rgb(x='longitude', y='latitude', bands='wavelengths', frame_width=400,rasterize=True, data_aspect=1)"
   ]
  },
  {
   "cell_type": "markdown",
   "id": "a90f6984",
   "metadata": {},
   "source": [
    "plot a single wavelength"
   ]
  },
  {
   "cell_type": "code",
   "execution_count": null,
   "id": "1f482b36-bc4a-479c-a4b4-4b70c1d59906",
   "metadata": {},
   "outputs": [],
   "source": [
    "ds.sel(wavelengths=850, method='nearest').hvplot(cmap='Magma', geo=True, \n",
    "                                                 tiles='ESRI', rasterize=True, alpha=0.8, \n",
    "                                                 frame_height=600,clim =(0,0.7)\n",
    "                                                ).opts(title=f\"Reflectance at 850nm (Orthorectified)\")"
   ]
  },
  {
   "cell_type": "markdown",
   "id": "f07f55d4",
   "metadata": {},
   "source": [
    "We can make nice interactive plots in python. Here we can use a slider to select the wavelength we want to view"
   ]
  },
  {
   "cell_type": "code",
   "execution_count": null,
   "id": "1c2b0ea1-5d55-41da-a64c-51c678d48ee1",
   "metadata": {},
   "outputs": [],
   "source": [
    "def plot_reflectance(wavelength):\n",
    "    return ds.sel(wavelengths=wavelength, method='nearest').hvplot(\n",
    "        cmap='Magma', geo=True, tiles='ESRI', rasterize=True, alpha=0.8,\n",
    "        frame_height=600, clim=(0, 0.7)\n",
    "    ).opts(title=f\"Reflectance at {wavelength}nm (Orthorectified)\")\n",
    "\n",
    "wavelength_slider = pn.widgets.IntSlider(name='Wavelength (nm)', start=int(min(ds.wavelengths.values)), end=int(max(ds.wavelengths.values)), step=5, value=850)\n",
    "\n",
    "interactive_plot = pn.bind(plot_reflectance, wavelength=wavelength_slider)\n",
    "\n",
    "pn.Column(wavelength_slider, interactive_plot)\n"
   ]
  },
  {
   "cell_type": "markdown",
   "id": "6124ef90-0cad-4c44-a1c3-b5b72e26d077",
   "metadata": {
    "tags": []
   },
   "source": [
    "#### Extract points"
   ]
  },
  {
   "cell_type": "markdown",
   "id": "1a84aaef",
   "metadata": {},
   "source": [
    "We will load a small dataset of points for Fynbos and Pine covered sites across the EMIT image we are working with."
   ]
  },
  {
   "cell_type": "code",
   "execution_count": null,
   "id": "2682f4c6-c9b1-470a-a500-1db8cfbc3e1d",
   "metadata": {
    "tags": []
   },
   "outputs": [],
   "source": [
    "#load points\n",
    "gdf = gpd.read_file(\"shared/users/gmoncrieff/data/emit_unmix.gpkg\")\n",
    "#explore the data\n",
    "gdf[['Category','geometry']].explore('Category')"
   ]
  },
  {
   "cell_type": "markdown",
   "id": "c111973f",
   "metadata": {},
   "source": [
    "The xvec package will extract data at a point or area within an xarray and return the data as an xarray"
   ]
  },
  {
   "cell_type": "code",
   "execution_count": null,
   "id": "ec5a64bc-b69a-44d8-ba5c-c4cf66506066",
   "metadata": {},
   "outputs": [],
   "source": [
    "extracted = ds.xvec.extract_points(gdf['geometry'], x_coords=\"longitude\", y_coords=\"latitude\",index=True)\n",
    "extracted\n"
   ]
  },
  {
   "cell_type": "markdown",
   "id": "b59163cb",
   "metadata": {},
   "source": [
    "Lets turn our xarray into a dataframe, and join it with the original dataset"
   ]
  },
  {
   "cell_type": "code",
   "execution_count": null,
   "id": "ebdca302-8ad2-42b2-be35-dafcd66ad1b9",
   "metadata": {},
   "outputs": [],
   "source": [
    "extracted = (extracted\n",
    "             .to_dataframe() #turn into a dataframe\n",
    "             .reset_index() #convert the row names to a column\n",
    "             .merge( #merge with the original dataset\n",
    "                 gdf.reset_index(),on='index')\n",
    "            )\n",
    "#select the columns we want\n",
    "extracted = extracted[['wavelengths','reflectance','geometry_x','Category','index']]\n",
    "extracted"
   ]
  },
  {
   "cell_type": "markdown",
   "id": "266805f2",
   "metadata": {},
   "source": [
    "Finally lets select a class and plot the spectra for all points of that class"
   ]
  },
  {
   "cell_type": "code",
   "execution_count": null,
   "id": "b6f82184-bfb5-43c9-9286-ce1bc0916e0a",
   "metadata": {},
   "outputs": [],
   "source": [
    "extracted_plot = extracted.query('Category == \"FYNBOS\"')\n",
    "extracted_plot.hvplot.line(y='reflectance',x='wavelengths',by='index',\n",
    "                                    color='green',ylim=(0,0.5),alpha=0.5,legend=False)"
   ]
  },
  {
   "cell_type": "markdown",
   "id": "59c12525-e658-4c72-a4c6-eb8d3177b7fc",
   "metadata": {},
   "source": [
    "### credits\n",
    "\n",
    "This lesson has borrowed from:    \n",
    "\n",
    "[the EMIT-Data-Resources repository by LPDAAC/ the EMIT team](https://github.com/nasa/EMIT-Data-Resources) \n"
   ]
  }
 ],
 "metadata": {
  "kernelspec": {
   "display_name": "ispython",
   "language": "python",
   "name": "python3"
  },
  "language_info": {
   "codemirror_mode": {
    "name": "ipython",
    "version": 3
   },
   "file_extension": ".py",
   "mimetype": "text/x-python",
   "name": "python",
   "nbconvert_exporter": "python",
   "pygments_lexer": "ipython3",
   "version": "3.10.12"
  }
 },
 "nbformat": 4,
 "nbformat_minor": 5
}

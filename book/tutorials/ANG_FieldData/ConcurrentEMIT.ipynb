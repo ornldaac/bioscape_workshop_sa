{
 "cells": [
  {
   "cell_type": "markdown",
   "id": "0325bf96-9292-4ce8-980f-ee9452ec5158",
   "metadata": {},
   "source": [
    "# EMIT Files Concurrent with BioSCape"
   ]
  },
  {
   "cell_type": "markdown",
   "id": "74791378-5713-42cf-a30d-71b16cc79b05",
   "metadata": {},
   "source": [
    "## <center>BioSCape Data Skills Workshop: From the Field to the Image</center>\n",
    "![Bioscape](images/121229-87.png)\n",
    "\n",
    "[**BioSCape**](https://www.bioscape.io/), the Biodiversity Survey of the Cape, is NASA’s first biodiversity-focused airborne and field campaign that was conducted in South Africa in 2023. BioSCape’s primary objective is to study the structure, function, and composition of the region’s ecosystems, and how and why they are changing. \n",
    "\n",
    "BioSCape's airborne dataset is unprecedented, with `AVIRIS-NG`, `PRISM`, and `HyTES` imaging spectrometers capturing spectral data across the UV, visible and infrared at high resolution and `LVIS` acquiring coincident full-waveform lidar. BioSCape's `field dataset` is equally impressive, with 18 PI-led projects collecting data ranging from the diversity and phylogeny of plants, kelp and phytoplankton, eDNA, landscape acoustics, plant traits, blue carbon accounting, and more\n",
    "\n",
    "This workshop will equip participants with the skills to find, subset, and visualize the various BioSCape field and airborne (imaging spectroscopy and full-waveform lidar) data sets. Participants will learn data skills through worked examples in terrestrial and aquatic ecosystems, including: wrangling lidar data, performing band math calculations, calculating spectral diversity metrics, machine learning and image classification, and mapping functional traits using partial least squares regression. The workshop format is a mix of expert talks and interactive coding notebooks and will be run through the BioSCape Cloud computing environment.\n",
    "\n",
    "**Date:** October 9 - 11, 2024 Cape Town, South Africa</center>\n",
    "\n",
    "**Host:** NASA’s Oak Ridge National Laboratory Distributed Active Archive Center (ORNL DAAC), in close collaboration with BioSCape, the South African Environmental Observation Network (SAEON), the University of Wisconsin Madison (Phil Townsend), The Nature Conservancy (Glenn Moncrieff), the University of California Merced (Erin Hestir), the University of Cape Town (Jasper Slingsby), Jet Propulsion Laboratory (Kerry Cawse-Nicholson), and UNESCO.\n",
    "\n",
    "**Instructors:** \n",
    "- In-person contributors: Anabelle Cardoso, Erin Hestir, Phil Townsend, Henry Frye, Glenn Moncrieff, Jasper Slingsby, Michele Thornton, Rupesh Shrestha\n",
    "- Virtual contributors: Kerry Cawse-Nicholson, Nico Stork, Kyle Kovach\n",
    "\n",
    "**Audience:** This training is primarily intended for government natural resource management agency representatives and field technicians in South Africa, as well as local academics and students, especially those connected to the BioSCape Team. \n",
    "\n",
    "----"
   ]
  },
  {
   "cell_type": "markdown",
   "id": "74d1c1a8-3c8d-48fd-91aa-c1f34b592233",
   "metadata": {},
   "source": [
    "## Overview \n",
    "----\n",
    "This tutorial will demonstrate how to discover EMIT Reflectance data that is available from NASA Earthdata that are concurrent with the temporal range of the BioSCape Campaign.  \n",
    "\n",
    "### Learning Objectives\n",
    "1.  Using the Python earthaccess library to programmatically search and discover granules of EMIT data concurrent with the BioSCape airborne and field campaign."
   ]
  },
  {
   "cell_type": "markdown",
   "id": "29f35a95-9768-45cd-921c-3f1d3cca9c6a",
   "metadata": {},
   "source": [
    "### Load Python Modules"
   ]
  },
  {
   "cell_type": "code",
   "execution_count": null,
   "id": "5f905c16-ce19-488a-bd3f-7c5cef56d1b7",
   "metadata": {},
   "outputs": [],
   "source": [
    "import rioxarray as rxr\n",
    "import hvplot.xarray\n",
    "import earthaccess\n",
    "from glob import glob"
   ]
  },
  {
   "cell_type": "markdown",
   "id": "1c0d6c87-828a-4aa3-b00d-d664062b593f",
   "metadata": {},
   "source": [
    "### EMIT L2A Reflectance \n",
    "[EMIT L2A Estimated Surface Reflectance and Uncertainty and Masks 60 m V001](https://search.earthdata.nasa.gov/search/granules?p=C2408750690-LPCLOUD&pg[0][v]=f&pg[0][gsk]=-start_date&q=EMIT&tl=1728377459!3!!)\n",
    "\n",
    "There are over **`107,000`** granules in this collection"
   ]
  },
  {
   "cell_type": "markdown",
   "id": "be44bcd1-7af6-4e4f-bfe8-cf3428146110",
   "metadata": {},
   "source": [
    "![Bioscape](images/earthdatalogos.PNG)"
   ]
  },
  {
   "cell_type": "code",
   "execution_count": null,
   "id": "e661c483-201f-415b-a232-8a491dd175a6",
   "metadata": {},
   "outputs": [],
   "source": [
    "# BioSCape approx start/end dates\n",
    "temporal = (\"2023-10-01\", \"2023-11-30\")\n",
    "\n",
    "# approx bounds - Cape Peninsula\n",
    "# lower_left_lon, lower_left_lat, upper_right_lon, upper_right_lat\n",
    "bounds =  (18.3007, -34.3645, 18.5113, -34.0274)\n",
    "\n",
    "# EMIT L2A Estimated Surface Reflectance and Uncertainty and Masks 60 m V001 \n",
    "\n",
    "doi = \"10.5067/EMIT/EMITL2ARFL.001\"\n",
    "granules = earthaccess.search_data(\n",
    "    count=-1, # needed to retrieve all granules\n",
    "    doi=doi,\n",
    "    temporal=temporal, # Bioscape campaign dates\n",
    "    bounding_box = bounds\n",
    ")"
   ]
  },
  {
   "cell_type": "code",
   "execution_count": null,
   "id": "9ae59922-ab38-431d-ad20-855d6beade69",
   "metadata": {},
   "outputs": [],
   "source": [
    "for g in granules:\n",
    "    print(g.data_links(access=\"external\"))"
   ]
  },
  {
   "cell_type": "code",
   "execution_count": null,
   "id": "7a88ab53-5cc5-4c0e-9ff3-57b79190c768",
   "metadata": {},
   "outputs": [],
   "source": [
    "# print one granule\n",
    "granules[0]"
   ]
  },
  {
   "cell_type": "markdown",
   "id": "c6811dee-7816-42c5-8542-99ecfe69ec9c",
   "metadata": {},
   "source": [
    "### HINT:  Click on the browse image for a larger browse file"
   ]
  },
  {
   "cell_type": "code",
   "execution_count": null,
   "id": "982c746c-64c9-4dab-85a8-0760cce8cd0c",
   "metadata": {},
   "outputs": [],
   "source": [
    "granules[4]"
   ]
  },
  {
   "cell_type": "code",
   "execution_count": null,
   "id": "39e3f48b-e29b-480a-a50d-f7d3afb98d6b",
   "metadata": {},
   "outputs": [],
   "source": []
  }
 ],
 "metadata": {
  "kernelspec": {
   "display_name": "global-global-BioSCape",
   "language": "python",
   "name": "conda-env-global-global-BioSCape-py"
  },
  "language_info": {
   "codemirror_mode": {
    "name": "ipython",
    "version": 3
   },
   "file_extension": ".py",
   "mimetype": "text/x-python",
   "name": "python",
   "nbconvert_exporter": "python",
   "pygments_lexer": "ipython3",
   "version": "3.12.3"
  }
 },
 "nbformat": 4,
 "nbformat_minor": 5
}

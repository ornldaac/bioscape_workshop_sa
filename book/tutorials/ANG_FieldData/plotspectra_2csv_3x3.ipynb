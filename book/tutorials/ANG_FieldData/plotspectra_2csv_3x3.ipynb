{
 "cells": [
  {
   "cell_type": "markdown",
   "id": "0cb8bcdd-3f26-480d-8b81-b54ace7eca8c",
   "metadata": {},
   "source": [
    "# Extract, Export to CSV, and Visualize Vegetation Plot Reflectance from AVIRIS-NG "
   ]
  },
  {
   "cell_type": "markdown",
   "id": "de2586e7-8467-4d15-b457-c2618ac2715b",
   "metadata": {},
   "source": [
    "## <center>BioSCape Data Skills Workshop: From the Field to the Image</center>\n",
    "![Bioscape](images/121229-87.png)\n",
    "\n",
    "[**BioSCape**](https://www.bioscape.io/), the Biodiversity Survey of the Cape, is NASA’s first biodiversity-focused airborne and field campaign that was conducted in South Africa in 2023. BioSCape’s primary objective is to study the structure, function, and composition of the region’s ecosystems, and how and why they are changing. \n",
    "\n",
    "BioSCape's airborne dataset is unprecedented, with `AVIRIS-NG`, `PRISM`, and `HyTES` imaging spectrometers capturing spectral data across the UV, visible and infrared at high resolution and `LVIS` acquiring coincident full-waveform lidar. BioSCape's `field dataset` is equally impressive, with 18 PI-led projects collecting data ranging from the diversity and phylogeny of plants, kelp and phytoplankton, eDNA, landscape acoustics, plant traits, blue carbon accounting, and more\n",
    "\n",
    "This workshop will equip participants with the skills to find, subset, and visualize the various BioSCape field and airborne (imaging spectroscopy and full-waveform lidar) data sets. Participants will learn data skills through worked examples in terrestrial and aquatic ecosystems, including: wrangling lidar data, performing band math calculations, calculating spectral diversity metrics, machine learning and image classification, and mapping functional traits using partial least squares regression. The workshop format is a mix of expert talks and interactive coding notebooks and will be run through the BioSCape Cloud computing environment.\n",
    "\n",
    "**Date:** October 9 - 11, 2024 Cape Town, South Africa</center>\n",
    "\n",
    "**Host:** NASA’s Oak Ridge National Laboratory Distributed Active Archive Center (ORNL DAAC), in close collaboration with BioSCape, the South African Environmental Observation Network (SAEON), the University of Wisconsin Madison (Phil Townsend), The Nature Conservancy (Glenn Moncrieff), the University of California Merced (Erin Hestir), the University of Cape Town (Jasper Slingsby), Jet Propulsion Laboratory (Kerry Cawse-Nicholson), and UNESCO.\n",
    "\n",
    "**Instructors:** \n",
    "- In-person contributors: Anabelle Cardoso, Erin Hestir, Phil Townsend, Henry Frye, Glenn Moncrieff, Jasper Slingsby, Michele Thornton, Rupesh Shrestha\n",
    "- Virtual contributors: Kerry Cawse-Nicholson, Nico Stork, Kyle Kovach\n",
    "\n",
    "**Audience:** This training is primarily intended for government natural resource management agency representatives and field technicians in South Africa, as well as local academics and students, especially those connected to the BioSCape Team. "
   ]
  },
  {
   "cell_type": "markdown",
   "id": "5e3f2fe3-8b33-4435-8ab0-e3821728bdac",
   "metadata": {},
   "source": [
    "## Overview \n",
    "----\n",
    "This tutorial will explore BioSCape Campaign discover, plot, and export to csv AVIRIS-NG spectral data for vegetation plot locations. In addition, for each plot location, a 3x3 pixel block of spectral data will be extracted and graphed by mean and standard deviation. \n",
    "\n",
    "### Learning Objectives\n",
    "1. Obtain the x,y values of the vegetation plot centers of interest\n",
    "2. Determine which AVIRIS-NG scene corresponds to each of the vegetation center's location\n",
    "3. Extract and save the spectral values for each AVIRIS-NG band to a csv file for each vegetation center plot location\n",
    "4. Extract the AVIRIS-NG spectral values for a 3x3 buffer around the center vegetation plot pixel\n",
    "5. Graph the 3x3 mean and standard deviation"
   ]
  },
  {
   "cell_type": "markdown",
   "id": "f3ede96f-08df-4529-b551-2d4c5409c0b5",
   "metadata": {},
   "source": [
    "### Load Python Modules"
   ]
  },
  {
   "cell_type": "code",
   "execution_count": null,
   "id": "b3184274-eb6f-4bb8-b751-240f0312c657",
   "metadata": {},
   "outputs": [],
   "source": [
    "# import python modules\n",
    "from os import path\n",
    "import numpy as np\n",
    "import geopandas as gpd\n",
    "import pandas as pd\n",
    "import s3fs\n",
    "import rioxarray\n",
    "from pyproj import Proj\n",
    "import matplotlib.pyplot as plt\n",
    "\n",
    "# initialize S3 file system\n",
    "s3 = s3fs.S3FileSystem(anon=False)"
   ]
  },
  {
   "cell_type": "markdown",
   "id": "3bb2b986-e51e-4e89-87e0-80b1922f7920",
   "metadata": {},
   "source": [
    "## Read Vegetation centers\n",
    "The **`CapePeninsulaVegCenters.geojson`** contains the centroids of all vegetation plots within the Cape Peninsula region."
   ]
  },
  {
   "cell_type": "code",
   "execution_count": null,
   "id": "289f6488-6bc2-4a5f-98a4-9edffec6d396",
   "metadata": {},
   "outputs": [],
   "source": [
    "vegcenter = 'data/DominantFamPlotCenters.geojson'\n",
    "v_gdf = gpd.read_file(vegcenter)\n",
    "# keep only the columns we need\n",
    "v_gdf = v_gdf[['BScpPID','Region','Name', 'QltyFlg', 'DominantFamily', 'geometry']]\n",
    "print(f\"total plots: {len(v_gdf.index)}\")"
   ]
  },
  {
   "cell_type": "code",
   "execution_count": null,
   "id": "d6e37e5b-fc62-417a-9b88-1b4c64ece784",
   "metadata": {},
   "outputs": [],
   "source": [
    "# subsetting to five plots\n",
    "v_gdf = v_gdf[v_gdf.BScpPID.isin(['T081', 'T093', 'T201', 'T069', 'T195'])]\n",
    "v_gdf"
   ]
  },
  {
   "cell_type": "markdown",
   "id": "1926b474-c4ec-4179-a49b-2def20f98ce9",
   "metadata": {},
   "source": [
    "## Read AVIRIS-NG Bounding Polygons\n",
    "The **`ANG_Coverage.geojson`** file contains two columns `fid` and `scid` which will help us identify the AVIRIS-NG granules and their folder structure."
   ]
  },
  {
   "cell_type": "code",
   "execution_count": null,
   "id": "f39f27bd-47d1-45ca-b8b2-a61ab47e6729",
   "metadata": {},
   "outputs": [],
   "source": [
    "ang_cov = 'data/ANG_Coverage.geojson'\n",
    "a_gdf = gpd.read_file(ang_cov)\n",
    "# keep only the columns we need\n",
    "a_gdf = a_gdf[['fid', 'scid', 'start_time', 'geometry']]\n",
    "a_gdf['start_time'] = pd.to_datetime(a_gdf['start_time']) # formatting start_time\n",
    "a_gdf.head()"
   ]
  },
  {
   "cell_type": "markdown",
   "id": "59b9da4c-3b25-4e0b-abb9-c63cd6dbef36",
   "metadata": {},
   "source": [
    "## Get AVIRIS-NG spectra for each vegetation center coordinates\n",
    "We will retrieve AVIRIS-NG spectra of the center veg plot coordinates and __save it as a CSV file__.\n",
    "\n",
    "First, find the vegetation points that are within the AVIRIS-NG polygons."
   ]
  },
  {
   "cell_type": "code",
   "execution_count": null,
   "id": "5466a5c0-6f98-4022-a597-5199b75b2fff",
   "metadata": {},
   "outputs": [],
   "source": [
    "# spatial join of the veg plots and the ANG polygons dataframes\n",
    "veg_ang_df = gpd.sjoin(v_gdf, a_gdf, predicate = 'within')\n",
    "# adding X, Y columns\n",
    "veg_ang_df['X'] = veg_ang_df.geometry.x\n",
    "veg_ang_df['Y'] = veg_ang_df.geometry.y\n",
    "# print\n",
    "ang_plots_n = len(veg_ang_df.scid.unique())\n",
    "ang_n = len(a_gdf.scid.unique())\n",
    "print(f\"{ang_plots_n} of {ang_n} AVIRIS-NG files overlaps with the veg plots\")"
   ]
  },
  {
   "cell_type": "markdown",
   "id": "b16172d8-c9eb-4f31-8b2d-a81e2f03e3b3",
   "metadata": {},
   "source": [
    "We'll narrow the AVIRIS-NG to scenes defined for this exercise"
   ]
  },
  {
   "cell_type": "code",
   "execution_count": null,
   "id": "ee9e28e8-c58f-4983-949f-e67dcf44e50f",
   "metadata": {},
   "outputs": [],
   "source": [
    "veg_ang_df = veg_ang_df[veg_ang_df.fid.str.startswith(\"ang20231109t13\")]\n",
    "veg_ang_df = veg_ang_df[veg_ang_df.fid != \"ang20231109t130728\"]\n",
    "veg_ang_df"
   ]
  },
  {
   "cell_type": "markdown",
   "id": "7cbae163-abbe-483d-8183-e99ae58ed487",
   "metadata": {},
   "source": [
    "Let's first define two python functions."
   ]
  },
  {
   "cell_type": "code",
   "execution_count": null,
   "id": "9aba6686-370e-4616-a6c7-09ce7bcb871c",
   "metadata": {},
   "outputs": [],
   "source": [
    "def get_rfl_path(fid_str, scid_str):\n",
    "    \"\"\"returns s3 paths from fid and scid for aviris-ng files\"\"\"\n",
    "    # list the ANG files\n",
    "    a_fs = s3.ls(f'bioscape-data/AVNG/{fid_str}/{scid_str}')\n",
    "    # loop through the file list and find the RFL file\n",
    "    a_rfl = [a_f for a_f in a_fs if a_f.endswith(\"_RFL_ORT\")][0]\n",
    "    return path.join('s3://', a_rfl)\n",
    "\n",
    "def subset_avirisng(rfl_xr, a_df):\n",
    "    \"\"\"returns a pandas dataframe with band names and spectral value \n",
    "    for a pixel\"\"\"\n",
    "    # Proj class instance with AVN CRS. preserve_units false to ensure \n",
    "    # that input coordinates are in meters\n",
    "    p = Proj(rfl_xr.rio.crs, preserve_units=False)\n",
    "    # converts the lon,lat veg plot coordinates to the ANG map projection\n",
    "    x, y = p(a_df.X, a_df.Y)\n",
    "    # get the spectra of the ANG pixel nearest to the veg plot\n",
    "    rfl_val = rfl_xr.sel(y=y, x=x, method='nearest').to_numpy()\n",
    "    # get band names\n",
    "    band_names = [f'Band_{i}' for i in a_rfl_xr.band.to_numpy()] \n",
    "    # convert band and spectra into a dataframe\n",
    "    rfl_dict = dict(zip(band_names, rfl_val))\n",
    "    rfl_df = pd.DataFrame([rfl_dict])  \n",
    "     # add Name, scid columns which we will use to join dataframes later\n",
    "    rfl_df['Name'] = a_df.Name\n",
    "    rfl_df['scid'] = a_df.scid\n",
    "    return rfl_df"
   ]
  },
  {
   "cell_type": "markdown",
   "id": "1647096f-cd85-4da9-9325-f40a9ce92dd3",
   "metadata": {},
   "source": [
    "Now, we can run the subsetting of AVIRIS-NG files over the vegetation plots. "
   ]
  },
  {
   "cell_type": "code",
   "execution_count": null,
   "id": "83a5ba4e-7648-430b-bbc2-62fb5b3537ea",
   "metadata": {},
   "outputs": [],
   "source": [
    "# initialize a list for storing aviris dataframe\n",
    "rfl_list = []\n",
    "# total number of veg plots to process\n",
    "sub_n = len(veg_ang_df.scid.unique())\n",
    "# loop through AVNG files by scid\n",
    "for i, scid in enumerate(veg_ang_df.scid.unique()):\n",
    "    # get row(s) that matches scid\n",
    "    a_temp_df = veg_ang_df[veg_ang_df['scid']==scid]\n",
    "    # retrieve S3 path of the AVIRIS tile\n",
    "    a_rfl = get_rfl_path(a_temp_df.fid.values[0], scid)\n",
    "    print(f'reading scene {i+1} of {sub_n}: {path.basename(a_rfl)}')\n",
    "    # open the RFL file\n",
    "    a_rfl_xr = rioxarray.open_rasterio(a_rfl, drivers='ENVI', \n",
    "                                       chunks=True, parse_coordinates=True)\n",
    "    # loop through the veg plots\n",
    "    for s in a_temp_df.index:\n",
    "        # get a row\n",
    "        print(f'reading plot {s}')\n",
    "        a_temp = a_temp_df.loc[s]       \n",
    "        rfl_list.append(subset_avirisng(a_rfl_xr, a_temp))\n",
    "\n",
    "# concatenate ANG spectra dataframe\n",
    "avng_rfl_df = pd.concat(rfl_list)\n",
    "# merge it with the a_sub_gdf dataframe\n",
    "final_gdf = pd.merge(veg_ang_df, avng_rfl_df, on=[\"scid\", \"Name\"], how=\"left\")"
   ]
  },
  {
   "cell_type": "code",
   "execution_count": null,
   "id": "b49fc5a6-5616-4200-97c5-0812f5cd0746",
   "metadata": {},
   "outputs": [],
   "source": [
    "final_gdf"
   ]
  },
  {
   "cell_type": "markdown",
   "id": "99f61559-1c25-49e9-a17c-377f36005f43",
   "metadata": {},
   "source": [
    "### The following will export the pandas dataframe to a CSV file. "
   ]
  },
  {
   "cell_type": "code",
   "execution_count": null,
   "id": "f77e996c-f4b8-444f-9be5-4a3d80ec3b12",
   "metadata": {},
   "outputs": [],
   "source": [
    "# write it to CSV\n",
    "final_gdf.to_csv('ANG_RFL_CapePeninsulaVegCenters.csv', index=False)"
   ]
  },
  {
   "cell_type": "markdown",
   "id": "92be0de7-2d4e-4b50-9001-d35127497222",
   "metadata": {},
   "source": [
    "#### ^^^ Open the csv file that just wrote to your File Browser.  Just double click on the file name and it will open in a new tab."
   ]
  },
  {
   "cell_type": "markdown",
   "id": "8d8995eb-ef5b-47ee-9f69-3bb36c5b8ed6",
   "metadata": {},
   "source": [
    "### Create a spectral profile for each dominant family vegetation plot"
   ]
  },
  {
   "cell_type": "code",
   "execution_count": null,
   "id": "134c8a2e-1529-477e-a5fe-2c1a343fa120",
   "metadata": {},
   "outputs": [],
   "source": [
    "dominant = final_gdf.DominantFamily.unique()\n",
    "fig = plt.figure(figsize=(15,8), constrained_layout=True)\n",
    "columns = 2\n",
    "rows = int(len(dominant)/columns)+1\n",
    "for i, item in enumerate(dominant):\n",
    "    # transpose and plot species\n",
    "    dominant_df = final_gdf[final_gdf.DominantFamily == item]\n",
    "    dominant_df = dominant_df.filter(like='Band')\n",
    "    # drop rows with no data values\n",
    "    dominant_df = dominant_df.replace(-9999, pd.NA).dropna()\n",
    "    if not dominant_df.empty:\n",
    "        # setting tails and atmospheric window to nan values\n",
    "        dominant_df.iloc[:, np.r_[:3,194:210,285:320,422:425]] = np.nan\n",
    "        dominant_n = len(dominant_df.index)\n",
    "        ax = fig.add_subplot(rows, columns, i+1)\n",
    "        dominant_df.T.plot(ax=ax, legend=None, \n",
    "                           xlabel=\"Wavelength\", ylabel=\"Reflectance\")\n",
    "        # ax.set_xticks(a_rfl_xr.wavelength.values.tolist())\n",
    "        ax.set_title(f\"Dominant Family: {item}. Total spectra={len(dominant_df.index)}\", \n",
    "                     fontsize=10)\n",
    "\n",
    "plt.show()"
   ]
  },
  {
   "cell_type": "markdown",
   "id": "4dc200b8-1f83-404a-bf8a-b758b722a1d4",
   "metadata": {},
   "source": [
    "## Get AVIRIS-NG spectra for a buffer around the vegetation plot coordinates\n",
    "We will now retrieve AVIRIS-NG spectra of a 1-pixel buffer (3 x 3 pixels) around the center veg plot coordinates and save it as a CSV file.\n",
    "\n",
    "![Bioscape](images/3x3plot_bands.PNG)\n",
    "\n",
    "### First, find the vegetation points that are within the AVIRIS-NG scenes."
   ]
  },
  {
   "cell_type": "code",
   "execution_count": null,
   "id": "44d7294d-1d3f-452f-9b96-e8fcbba35336",
   "metadata": {},
   "outputs": [],
   "source": [
    "def subset_avirisng_buffer(rfl_xr, a_df, b):\n",
    "    \"\"\"returns a pandas dataframe with band names and spectral value \n",
    "    for a pixel\"\"\"\n",
    "    # Proj class instance with AVN CRS. preserve_units false to ensure \n",
    "    # that input coordinates are in meters\n",
    "    p = Proj(rfl_xr.rio.crs, preserve_units=False)\n",
    "    # converts the lon,lat veg plot coordinates to the ANG map projection\n",
    "    x, y = p(a_df.X, a_df.Y)\n",
    "    # get the spectra of the ANG pixel nearest to the veg plot\n",
    "    ix = list(a_rfl_xr.x.values).index(a_rfl_xr.sel(x=x, method='nearest').x)\n",
    "    iy = list(a_rfl_xr.y.values).index(a_rfl_xr.sel(y=y, method='nearest').y)\n",
    "    rfl_val = a_rfl_xr.isel(y=slice(iy-b, iy+b+1), \n",
    "                            x=slice(ix-b, ix+b+1)).values\n",
    "    # get band names\n",
    "    band_names = [f'Band_{i}' for i in a_rfl_xr.band.to_numpy()] \n",
    "    # convert band and spectra into a dataframe\n",
    "    rfl_dict = dict(zip(band_names, rfl_val))\n",
    "    rfl_df = pd.DataFrame([rfl_dict])  \n",
    "     # add Name, scid columns which we will use to join dataframes later\n",
    "    rfl_df['Name'] = a_df.Name\n",
    "    rfl_df['scid'] = a_df.scid\n",
    "    return rfl_df"
   ]
  },
  {
   "cell_type": "markdown",
   "id": "c46f5995-9021-4022-acce-9f2ef250f274",
   "metadata": {},
   "source": [
    "### For each vegetation plot, extract and create a csv file with each 3x3 pixel spectral value for each band"
   ]
  },
  {
   "cell_type": "code",
   "execution_count": null,
   "id": "8bbb6f9b-aef6-4f77-9f4e-1edeebf9421f",
   "metadata": {},
   "outputs": [],
   "source": [
    "# initialize a list for storing aviris dataframe\n",
    "rfl_list = []\n",
    "# total number of veg plots to process\n",
    "sub_n = len(veg_ang_df.scid.unique())\n",
    "# loop through AVNG files by scid\n",
    "for i, scid in enumerate(veg_ang_df.scid.unique()):\n",
    "    # get row(s) that matches scid\n",
    "    a_temp_df = veg_ang_df[veg_ang_df['scid']==scid]\n",
    "    # retrieve S3 path of the AVIRIS tile\n",
    "    a_rfl = get_rfl_path(a_temp_df.fid.values[0], scid)\n",
    "    print(f'reading scene {i+1} of {sub_n}: {path.basename(a_rfl)}')\n",
    "    # open the RFL file\n",
    "    a_rfl_xr = rioxarray.open_rasterio(a_rfl, drivers='ENVI', \n",
    "                                       chunks=True, parse_coordinates=True)\n",
    "    # loop through the veg plots\n",
    "    for s in a_temp_df.index:\n",
    "        # get a row\n",
    "        a_temp = a_temp_df.loc[s]\n",
    "        # subset around 1 pixel\n",
    "        rfl_list.append(subset_avirisng_buffer(a_rfl_xr, a_temp, 1))\n",
    "\n",
    "# concatenate ANG spectra dataframe\n",
    "avng_rfl_df = pd.concat(rfl_list)\n",
    "# merge it with the a_sub_gdf dataframe\n",
    "final_gdf = pd.merge(veg_ang_df, avng_rfl_df, on=[\"scid\", \"Name\"], how=\"left\")\n",
    "# write it to CSV\n",
    "final_gdf.to_csv('ANG_RFL_CapePeninsulaVegBuffer3x3.csv', index=False)"
   ]
  },
  {
   "cell_type": "markdown",
   "id": "92f2e9f2-5215-4ec6-9ef5-5a6f00af2ee2",
   "metadata": {},
   "source": [
    "#### Now we'll plot the value of the spectral mean and standard deviation of the 9-pixel block for each vegetation center"
   ]
  },
  {
   "cell_type": "code",
   "execution_count": null,
   "id": "1bc973b8-b598-4c59-89b9-f26a59d9f50a",
   "metadata": {},
   "outputs": [],
   "source": [
    "dominant = final_gdf.DominantFamily.unique()\n",
    "fig = plt.figure(figsize=(15,8), constrained_layout=True)\n",
    "columns = 2\n",
    "rows = int(len(dominant)/columns)+1\n",
    "for i, item in enumerate(dominant):\n",
    "    # transpose and plot species\n",
    "    dominant_df = final_gdf[final_gdf.DominantFamily == item]\n",
    "    dominant_df = dominant_df.filter(like='Band')\n",
    "    if not dominant_df.empty:\n",
    "        # setting tails and atmospheric window to nan values\n",
    "        dominant_df.iloc[:, np.r_[:3,194:210,285:320,422:425]] = np.nan\n",
    "        mean_df = dominant_df.map(np.mean).T\n",
    "        std_df = dominant_df.map(np.std).T\n",
    "        wavelength = a_rfl_xr.wavelength.values.tolist()\n",
    "        ax = fig.add_subplot(rows, columns, i+1)\n",
    "        ax.plot(wavelength, mean_df, '-')\n",
    "        ax.fill_between(wavelength, (mean_df - std_df)[i], (mean_df + std_df)[i], alpha=0.2)\n",
    "        ax.set_title(f\"Dominant Family: {item}. Total spectra={len(dominant_df.index)}\", \n",
    "                     fontsize=10)\n",
    "\n",
    "plt.show()"
   ]
  },
  {
   "cell_type": "code",
   "execution_count": null,
   "id": "b1d3901c-ee59-43c2-886b-2796b5c8728b",
   "metadata": {},
   "outputs": [],
   "source": []
  }
 ],
 "metadata": {
  "kernelspec": {
   "display_name": "global-global-BioSCape",
   "language": "python",
   "name": "conda-env-global-global-BioSCape-py"
  },
  "language_info": {
   "codemirror_mode": {
    "name": "ipython",
    "version": 3
   },
   "file_extension": ".py",
   "mimetype": "text/x-python",
   "name": "python",
   "nbconvert_exporter": "python",
   "pygments_lexer": "ipython3",
   "version": "3.12.3"
  }
 },
 "nbformat": 4,
 "nbformat_minor": 5
}

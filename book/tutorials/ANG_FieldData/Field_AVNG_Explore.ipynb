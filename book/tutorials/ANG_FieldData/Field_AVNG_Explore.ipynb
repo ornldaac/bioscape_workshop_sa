{
 "cells": [
  {
   "cell_type": "markdown",
   "id": "df3336b5-c701-405a-a1c8-c2ab0799b170",
   "metadata": {},
   "source": [
    "#  Exploring, Visualizing, and Plotting BioSCape Field and AVIRIS-NG Data\n",
    "## BioSCape Data Skills Workshop: From the Field to the Image\n",
    "![Bioscape](images/121229-87.png)\n",
    "\n",
    "[**BioSCape**](https://www.bioscape.io/), the Biodiversity Survey of the Cape, is NASA’s first biodiversity-focused airborne and field campaign that was conducted in South Africa in 2023. BioSCape’s primary objective is to study the structure, function, and composition of the region’s ecosystems, and how and why they are changing. \n",
    "\n",
    "BioSCape's airborne dataset is unprecedented, with `AVIRIS-NG`, `PRISM`, and `HyTES` imaging spectrometers capturing spectral data across the UV, visible and infrared at high resolution and `LVIS` acquiring coincident full-waveform lidar. BioSCape's `field dataset` is equally impressive, with 18 PI-led projects collecting data ranging from the diversity and phylogeny of plants, kelp and phytoplankton, eDNA, landscape acoustics, plant traits, blue carbon accounting, and more\n",
    "\n",
    "This workshop will equip participants with the skills to find, subset, and visualize the various BioSCape field and airborne (imaging spectroscopy and full-waveform lidar) data sets. Participants will learn data skills through worked examples in terrestrial and aquatic ecosystems, including: wrangling lidar data, performing band math calculations, calculating spectral diversity metrics, machine learning and image classification, and mapping functional traits using partial least squares regression. The workshop format is a mix of expert talks and interactive coding notebooks and will be run through the BioSCape Cloud computing environment.\n",
    "\n",
    "**Date:** October 9 - 11, 2024 Cape Town, South Africa</center>\n",
    "\n",
    "**Host:** NASA’s Oak Ridge National Laboratory Distributed Active Archive Center (ORNL DAAC), in close collaboration with BioSCape, the South African Environmental Observation Network (SAEON), the University of Wisconsin Madison (Phil Townsend), The Nature Conservancy (Glenn Moncrieff), the University of California Merced (Erin Hestir), the University of Cape Town (Jasper Slingsby), Jet Propulsion Laboratory (Kerry Cawse-Nicholson), and UNESCO.\n",
    "\n",
    "**Instructors:** \n",
    "- In-person contributors: Anabelle Cardoso, Erin Hestir, Phil Townsend, Henry Frye, Glenn Moncrieff, Jasper Slingsby, Michele Thornton, Rupesh Shrestha\n",
    "- Virtual contributors: Kerry Cawse-Nicholson, Nico Stork, Kyle Kovach\n",
    "\n",
    "**Audience:** This training is primarily intended for government natural resource management agency representatives and field technicians in South Africa, as well as local academics and students, especially those connected to the BioSCape Team. "
   ]
  },
  {
   "cell_type": "markdown",
   "id": "c682a2b8-b005-4dbb-841a-2a0b8b448e55",
   "metadata": {},
   "source": [
    "## Overview \n",
    "This tutorial will explore BioSCape Campaign `airborne data` currently available on the BioSCape SMCE S3 storage as well as preliminary `vegetation plot data`. Participants will learn to access cloud-based storage and explore files.  Analysis will occur with combinations of data available on S3 storage as well as vector plot and polygon data brought to the Hub. Demonstrations will provide methods to locate AVIRIS-NG scenes associated with vegetation plot data.  Vegetation spectral profiles will be extracted and graphed from projected plot locations.   \n",
    "\n",
    "### Learning Objectives\n",
    "1.  Mount BioSCape SMCE S3 BioSCape object storage and explore file content\n",
    "2.  Using BioSCape preliminary field data, model bringing your own data to a cloud-hub environment for visualization and analysis.\n",
    "3.  Visualize, plot, and subset AVIRIS-NG scene identify based on vegetation plot locations.\n",
    "4.  Examine and visualize AVIRIS-NG quick look and L2 Reflectance data using both GDAL and python libraries for raster analysis.\n",
    "6.  Project plot locations from geographic to local projection coordinate reference system.\n",
    "7.  Extract and graph vegetation plot-level spectral profiles of AVIRIS-NG data.\n",
    "\n"
   ]
  },
  {
   "cell_type": "markdown",
   "id": "afd82332-940e-47fc-bf19-cab3d742b194",
   "metadata": {},
   "source": [
    "### Load Python Modules"
   ]
  },
  {
   "cell_type": "code",
   "execution_count": null,
   "id": "03c5117c-c4d9-4dbc-9051-b754abe42cce",
   "metadata": {},
   "outputs": [],
   "source": [
    "import s3fs\n",
    "import rioxarray\n",
    "from os import path\n",
    "import matplotlib.pyplot as plt\n",
    "import rasterio\n",
    "from os import path\n",
    "import geopandas as gpd\n",
    "import xarray as xr\n",
    "import folium\n",
    "from osgeo import gdal\n",
    "import numpy as np\n",
    "from pyproj import Proj\n",
    "gdal.UseExceptions()"
   ]
  },
  {
   "cell_type": "markdown",
   "id": "fa12ccaf-658f-4428-b237-d517b78b058f",
   "metadata": {},
   "source": [
    "## Explore the BioSCape SMCE S3 data holdings\n",
    "\n",
    "Let's start by exploring the BioSCape Airborne data currently available on the cloud in Amazon Storage. This AWS S3 storage is specific to the SMCE that provides data access and analytics environment to the BioSCape Science Team as well as interested researchers.  \n",
    "We'll learn how to mount the S3 object storage on our local environment, as well as how to bring other data to the analysis.\n",
    "\n",
    "- **SMCE** = Science Managed Cloud Environment\n",
    "- **S3** = Amazon Simple Storage Service (S3) is a cloud storage service that allows users to store and retrieve data\n",
    "- **S3Fs** is a `Pythonic` open source tool that mounts S3 object storage locally.  S3Fs provides a filesystem-like interface for accessing objects on S3.\n",
    "    - The top-level class **`S3FileSystem`** holds connection information and allows typical file-system style operations like `ls`\n",
    "    - `ls` is a UNIX command to list computer files and directories"
   ]
  },
  {
   "cell_type": "code",
   "execution_count": null,
   "id": "03d1ab4d-c07e-4c8a-a1b2-82bc1530c59d",
   "metadata": {},
   "outputs": [],
   "source": [
    "# Use S3Fs to list the BioSCape data on the BioSCape SMCE S3 storaage\n",
    "s3 = s3fs.S3FileSystem(anon=False)\n",
    "files = s3.ls('bioscape-data/')\n",
    "files"
   ]
  },
  {
   "cell_type": "markdown",
   "id": "12b311fe-fb49-4760-b82a-0d30745e6469",
   "metadata": {},
   "source": [
    "## BioSCape Flight Data\n",
    "\n",
    "The BioSCape Campaign (Oct - Nov, 2023) flew 4 airborne instruments on 2 aircraft. \n",
    "\n",
    "- `Gulfstream 3`: **AVIRIS-Next Generation** and **PRISM**\n",
    "- `Gulfstream 5`: **HyTES** and **LVIS**\n",
    "\n",
    "The NASA Jet Propulsion Laboratory provides the **BioSCape Data Portal** (https://popo.jpl.nasa.gov/mmgis-aviris/?mission=BIOSCAPE) which shows flight line visualization, quick look images, and BioSCape Team Regions of Interest (ROIs).  Download access to preliminary airborne data is available.\n"
   ]
  },
  {
   "cell_type": "markdown",
   "id": "bdb845f1-f771-49f5-ae94-63d09a042942",
   "metadata": {},
   "source": [
    "### Let's look deeper into each airborne folder on the SMCE\n",
    "### **AVIRIS-Next Generation (AVNG)**\n",
    "- We'll spend a little more time looking into the AVIRIS-NG files as these data are a focus of this Notebook\n"
   ]
  },
  {
   "cell_type": "code",
   "execution_count": null,
   "id": "bab04431-8b44-4c11-b727-646830ebac3d",
   "metadata": {},
   "outputs": [],
   "source": [
    "AVNG_flightlines = s3.ls('bioscape-data/AVNG/')\n",
    "AVNG_flightlines[:10]"
   ]
  },
  {
   "cell_type": "code",
   "execution_count": null,
   "id": "87321062-06c9-44c7-85f9-810057b4b640",
   "metadata": {},
   "outputs": [],
   "source": [
    "AVNGfl_count = len(AVNG_flightlines)\n",
    "AVNGfl_count"
   ]
  },
  {
   "cell_type": "code",
   "execution_count": null,
   "id": "c86240a3-9854-466c-90cf-e952edc691d9",
   "metadata": {},
   "outputs": [],
   "source": [
    "# looking into the ang20231022t092801 folder\n",
    "AVNG_scenes = s3.ls('bioscape-data/AVNG/ang20231022t092801')\n",
    "AVNG_scenes"
   ]
  },
  {
   "cell_type": "code",
   "execution_count": null,
   "id": "590993ab-4ba8-417a-84b1-98d906d539f6",
   "metadata": {},
   "outputs": [],
   "source": [
    "# Explore the AVNG folder that holds an AVNG scene's data\n",
    "AVNG_scene_data = s3.ls('bioscape-data/AVNG/ang20231022t092801/ang20231022t092801_000')\n",
    "AVNG_scene_data"
   ]
  },
  {
   "cell_type": "markdown",
   "id": "d450f15c-e075-493d-b6a7-bf88612dc94a",
   "metadata": {},
   "source": [
    "### File **Naming Conventions** provide information about each flight line, scene, and data type.\n",
    "\n",
    "- **`L1B`** are AVIRIS-NG Surface Radiance\n",
    "- **`L2A`** are AVIRIS-NG Surface Reflectance\n",
    "\n",
    "| Dataset | Description | \n",
    "| -------- | --- |\n",
    "| *_RFL_ORT_QL.tif | Reflectance Quick Look Image (3 band) |\n",
    "| *-RFL_ORT | Reflectance ENVI binary file (425 band)|\n",
    "| *_RFL_ORT.hdr | Reflectance ENVI header file (txt file)|\n",
    "\n",
    "<center><img src=\"images/ANG_naming.jpg\"/></center>"
   ]
  },
  {
   "cell_type": "markdown",
   "id": "b90843fb-4cad-4ba9-9143-08b41a773a52",
   "metadata": {},
   "source": [
    "### **Portable Remote Imaging Spectrometer (PRISM)**"
   ]
  },
  {
   "cell_type": "code",
   "execution_count": null,
   "id": "e7b87415-a9b2-4396-990d-9a00ca17c224",
   "metadata": {},
   "outputs": [],
   "source": [
    "PRISM_flightlines = s3.ls('bioscape-data/PRISM')\n",
    "PRISM_flightlines"
   ]
  },
  {
   "cell_type": "markdown",
   "id": "bf2db29d-b87d-4eec-ae2a-6596c924a9d4",
   "metadata": {},
   "source": [
    "#### There are Level 2 (L2) for PRISM data in the SCME\n",
    "- ENVI file format in binary/header pairs\n"
   ]
  },
  {
   "cell_type": "code",
   "execution_count": null,
   "id": "d97aa509-0f66-41b1-b717-b43a318d0969",
   "metadata": {},
   "outputs": [],
   "source": [
    "PRISM_flightlines = s3.ls('bioscape-data/PRISM/L2')\n",
    "PRISM_flightlines[:10]"
   ]
  },
  {
   "cell_type": "markdown",
   "id": "c747fe8d-2671-41a8-affc-25de4f9b4b47",
   "metadata": {},
   "source": [
    "- the PRISM are available in ENVI file formats as binary/header pairs"
   ]
  },
  {
   "cell_type": "markdown",
   "id": "972597ae-21f2-4685-b6ba-cef78cd95dcf",
   "metadata": {},
   "source": [
    "### **Land, Vegetation, and Ice Sensor (LVIS)**"
   ]
  },
  {
   "cell_type": "code",
   "execution_count": null,
   "id": "01e0e50f-1a20-46f9-8ca9-522a22b9e90a",
   "metadata": {},
   "outputs": [],
   "source": [
    "LVIS_flightlines = s3.ls('bioscape-data/LVIS/')\n",
    "LVIS_flightlines"
   ]
  },
  {
   "cell_type": "markdown",
   "id": "b1059ecb-cc8e-4bf1-9f8d-27cda49c617e",
   "metadata": {},
   "source": [
    "#### Let's look into the LVIS Level 2 (L2) data"
   ]
  },
  {
   "cell_type": "code",
   "execution_count": null,
   "id": "164263c6-d792-4bbf-8435-b1347eac656e",
   "metadata": {},
   "outputs": [],
   "source": [
    "LVIS_flightlines_L2 = s3.ls('bioscape-data/LVIS/L2')\n",
    "LVIS_flightlines_L2[:10]"
   ]
  },
  {
   "cell_type": "markdown",
   "id": "fb2c97f2-d41d-4747-873b-646f6210a6bd",
   "metadata": {},
   "source": [
    "- LVIS L2 data are ASCII Text files"
   ]
  },
  {
   "cell_type": "markdown",
   "id": "6c55337c-7ce8-4aeb-a326-21521bddda3d",
   "metadata": {},
   "source": [
    "### **Hyperspectral Thermal Emissions Spectrometer (HyTES)**\n",
    "- BioSCape HyTES data is currently available from [**NASA JPL HyTES**](https://hytes.jpl.nasa.gov/order!) distribution site"
   ]
  },
  {
   "cell_type": "markdown",
   "id": "b4855ac8-198d-4a14-abd8-e621ea351971",
   "metadata": {},
   "source": [
    "## Examine Field Data Sites: Vegetation Site Data "
   ]
  },
  {
   "cell_type": "markdown",
   "id": "89d2a5cd-185f-4398-9c93-26179aa1568b",
   "metadata": {},
   "source": [
    "### Bringing your own data to the Cloud\n",
    "We know that researchers will often want to bring their own data to the cloud.  You might have files necessary for your analysis, but they are on your local machine.  \n",
    "\n",
    "For example, you might have field data in vector formats (point, polygon) that you have as local files on your personal device. \n",
    "\n",
    "On the BioSCape SMCE Hub, you can easily upload those files into your working area.  Simply click the `Upload Files` button at the top of the folder/file listing panel.  You can also drag and drop folders into the file listing panel.  \n",
    "\n",
    "![upload_button](images/upload_button.PNG)\n",
    "\n",
    "For the purpose of this Notebook, we're using a polygon shape file of Vegetation Polygons as well as point locations of the Vegetation Polygon Center for a few specific polygons in the Cape Peninsula.\n",
    "\n",
    "- Vegetation Polygons (**BioSCapeVegPolys2024_09_12.shp**) \n",
    "- Vegetation Polygon Centers (**Focal_Veg_Center_Plots.geojson**) \n",
    "\n",
    "\n"
   ]
  },
  {
   "cell_type": "markdown",
   "id": "c35b1953-441b-4f5a-85e0-8db818beaebd",
   "metadata": {},
   "source": [
    "\n",
    "\n",
    "**`Geopandas`** is an open source project to make working with geospatial data in python easier. GeoPandas extends the datatypes used by pandas to allow spatial operations on geometric types."
   ]
  },
  {
   "cell_type": "code",
   "execution_count": null,
   "id": "1dfc74c1-c970-4385-a077-1f04b39aa8de",
   "metadata": {},
   "outputs": [],
   "source": [
    "# read the BioSCapeVegPolys shape file and convert to geojson using geopandas\n",
    "\n",
    "veg_polys_gdf = gpd.read_file('data/BioSCapeVegPolys2024_09_12.shp')\n",
    "veg_polys_gdf.to_file('veg_polys_json.geojson', driver='GeoJSON')\n",
    "veg_polys_json_gdf = gpd.read_file('veg_polys_json.geojson')\n",
    "\n",
    "vegpolys_cen_new = gpd.read_file('data/Focal_Veg_Center_Plots.geojson')"
   ]
  },
  {
   "cell_type": "markdown",
   "id": "5221172d-2815-4c97-974d-1f6cbbda90a4",
   "metadata": {},
   "source": [
    "**^^^ You should see a new geojson files in your folder area**^^^"
   ]
  },
  {
   "cell_type": "code",
   "execution_count": null,
   "id": "a354ae2a-3e53-4c99-885d-956b07dd7e91",
   "metadata": {},
   "outputs": [],
   "source": [
    "# Take a look at the data in the Focal_Veg_Center_Plots file\n",
    "vegpolys_cen_new"
   ]
  },
  {
   "cell_type": "code",
   "execution_count": null,
   "id": "4c7b98fa-8e3a-419a-a0f0-d5409f9bdda4",
   "metadata": {},
   "outputs": [],
   "source": [
    "# explore the BioSCapeVegPolys data\n",
    "list(veg_polys_gdf.columns)"
   ]
  },
  {
   "cell_type": "code",
   "execution_count": null,
   "id": "1ff02b5b-ce5c-42e8-bba4-0ce07ea61b2a",
   "metadata": {},
   "outputs": [],
   "source": [
    "veg_polys_gdf"
   ]
  },
  {
   "cell_type": "code",
   "execution_count": null,
   "id": "5d2f1b58-a062-4d51-8893-f0cf5031c2ad",
   "metadata": {},
   "outputs": [],
   "source": [
    "# examine the coordinate reference system of the polygon file\n",
    "veg_polys_gdf.crs"
   ]
  },
  {
   "cell_type": "markdown",
   "id": "e0b47dcb-88ba-4547-9faa-70bd8b0c8605",
   "metadata": {},
   "source": [
    "## Visualize data\n",
    "### **`Folium`** is a powerful Python library that creates interactive Leaflet maps. It allows visualization of data in Python on an interactive map\n",
    "\n",
    "- Overlay geographic data like country borders or city boundaries from GeoJSON or TopoJSON files.\n",
    "- Folium integrates seamlessly with Jupyter Notebooks, making it easy to create and display maps in your data analysis workflow.\n",
    "- The **`explore()`** method returns a folium.Map object, which can also be passed directly (as you do with ax in plot()). You can then use folium functionality directly on the resulting map."
   ]
  },
  {
   "cell_type": "markdown",
   "id": "b83cc77c-2bf1-4265-883d-cc3231fd5ccf",
   "metadata": {},
   "source": [
    "### Let's plot the vegetation polygons and focal plot centers with folium"
   ]
  },
  {
   "cell_type": "code",
   "execution_count": null,
   "id": "342f6901-6ef9-46e0-b402-c9728911dd9d",
   "metadata": {},
   "outputs": [],
   "source": [
    "import folium\n",
    "mapObj = folium.Map(location=[-33.95, 23.52], zoom_start=7, control_scale=True)\n",
    "\n",
    "folium.GeoJson(veg_polys_gdf,\n",
    "               name=\"BioSCape Vegetation Polygons\", \n",
    "               tooltip=folium.GeoJsonTooltip(fields=[\"BScpPID\"]), \n",
    "               style_function=lambda x: {\"fillOpacity\": 0}).add_to(mapObj)\n",
    "\n",
    "folium.GeoJson(vegpolys_cen_new, \n",
    "               name=\"BioSCape Polygon Centers\", \n",
    "               marker=folium.Circle(radius=30, fill_color=\"red\", fill_opacity=0.8, color=\"red\", weight=1),\n",
    "               color=\"red\").add_to(mapObj)\n",
    "\n",
    "# create ESRI satellite base map\n",
    "#esri = 'https://server.arcgisonline.com/ArcGIS/rest/services/World_Imagery/MapServer/tile/{z}/{y}/{x}'\n",
    "#folium.TileLayer(tiles = esri, attr = 'Esri', name = 'Esri Satellite', overlay = False, control = True).add_to(mapObj)\n",
    "folium.LayerControl().add_to(mapObj)\n",
    "mapObj"
   ]
  },
  {
   "cell_type": "markdown",
   "id": "9bbab68f-0b19-47ab-878b-84de04f3e142",
   "metadata": {},
   "source": [
    "## Now let's explore a subset of polygon files that are in the Cape Peninsula region\n",
    "\n",
    "### We'll focus on 5 Cape polygons that have dominant vegetation families for the focal plots as listed below.\n",
    "\n",
    "- T081 = Proteaceae\n",
    "- T093 = Asteraceae\n",
    "- T201 = Ericaceae\n",
    "- T069 = Rosaceae\n",
    "- T195 = Restionaceae"
   ]
  },
  {
   "cell_type": "markdown",
   "id": "ebfde0ca-0ebe-4311-aefe-cf1bb22c8b8c",
   "metadata": {},
   "source": [
    "#### Start by selecting BScpPID = T081"
   ]
  },
  {
   "cell_type": "code",
   "execution_count": null,
   "id": "aac6b1b5-b6f9-4d29-b705-d3f0ad7c5a92",
   "metadata": {},
   "outputs": [],
   "source": [
    "veg_polys_gdf.loc[veg_polys_gdf['BScpPID'] == 'T081']"
   ]
  },
  {
   "cell_type": "code",
   "execution_count": null,
   "id": "f407b96e-0f6b-45f7-a682-0fffe23585af",
   "metadata": {},
   "outputs": [],
   "source": [
    "# Plot the T081 polygon and center together\n",
    "T081poly = veg_polys_json_gdf.loc[veg_polys_json_gdf['BScpPID'] == 'T081']\n",
    "T081cen = vegpolys_cen_new.loc[vegpolys_cen_new['BScpPID'] == 'T081']\n",
    "fig, ax = plt.subplots(figsize=(7,7))\n",
    "T081poly.plot(ax=ax)\n",
    "T081cen.plot(ax=ax, color='red')"
   ]
  },
  {
   "cell_type": "markdown",
   "id": "8b954ed1-d67c-477c-af75-36b4b1b90c20",
   "metadata": {},
   "source": [
    "#### Let's assign variables of the latitude / longitude coordinates of the vegetation center plot in the T081 Polygon"
   ]
  },
  {
   "cell_type": "code",
   "execution_count": null,
   "id": "98d95eee-9e8a-4bd0-8104-92ebd71e1fc9",
   "metadata": {},
   "outputs": [],
   "source": [
    "T081_point = vegpolys_cen_new.loc[vegpolys_cen_new['BScpPID'] == 'T081'].get_coordinates()\n",
    "T081lon = T081_point.x.values[0]\n",
    "T081lat = T081_point.y.values[0]\n",
    "print('T081lon: ', T081lon)\n",
    "print('T081lat: ', T081lat)"
   ]
  },
  {
   "cell_type": "markdown",
   "id": "9bf15ba6-e261-471d-9499-b23e264cfd54",
   "metadata": {},
   "source": [
    "## Demonstrate how to discover the AVIRIS-NG scenes associated with plot locations.  \n",
    "\n",
    "AVIRIS-NG scenes of of interest for the Dominant Family Polygons are:\n",
    "- ang20231109t131923_019\n",
    "- ang20231109t133124_003\n",
    "- ang20231109t133124_013"
   ]
  },
  {
   "cell_type": "markdown",
   "id": "214d4f75-40fd-43fb-86b6-0af1fcc359d7",
   "metadata": {},
   "source": [
    "### AVIRIS-NG Flight Lines\n",
    "\n",
    "#### A geoJSON of the AVIRIS-NG Flight Line's Scenes are available from the JPL BioSCape Data Portal \n",
    "- This file has been exported and is available in the BioSCape hub.\n",
    "\n",
    "![AVIRISFlightLines](images/AVNG_flightlinedownload.PNG)"
   ]
  },
  {
   "cell_type": "code",
   "execution_count": null,
   "id": "41e391c6-158b-4778-84b7-4dddc51d92cd",
   "metadata": {},
   "outputs": [],
   "source": [
    "# read and plot the AVNG coverage file\n",
    "AVNG_Coverage = gpd.read_file('data/ANG_Coverage.geojson', driver='GeoJSON')\n",
    "AVNG_Coverage.plot()"
   ]
  },
  {
   "cell_type": "code",
   "execution_count": null,
   "id": "0a9bb64b-6397-4a62-a116-76ef4256f00d",
   "metadata": {},
   "outputs": [],
   "source": [
    "list(AVNG_Coverage.columns)"
   ]
  },
  {
   "cell_type": "code",
   "execution_count": null,
   "id": "8f2dc8d2-68e8-4e82-a0cc-57ff761272e6",
   "metadata": {},
   "outputs": [],
   "source": [
    "# Let's drop some unnecessary columns that result in errors in Folium visualization\n",
    "AVNG_scenes = AVNG_Coverage.drop(columns=['LOC Download', 'LOC ORT Download', 'OBS Download', 'OBS ORT Download', 'Quicklook Download', 'RFL Download', 'RFL UNC Download', 'end_time', 'start_time', 'style'])"
   ]
  },
  {
   "cell_type": "markdown",
   "id": "08fb9374-5e5c-4981-93e5-7134df5cb56f",
   "metadata": {},
   "source": [
    "#### Let's visualize the veg polygons, veg centers, and AVIRIS-NG Flight Lines"
   ]
  },
  {
   "cell_type": "code",
   "execution_count": null,
   "id": "2b805b41-682d-4eea-b143-21c352653a8c",
   "metadata": {},
   "outputs": [],
   "source": [
    "import folium\n",
    "mapObj = folium.Map(location=[-33.95, 23.52], zoom_start=7, control_scale=True)\n",
    "\n",
    "folium.GeoJson(veg_polys_gdf, \n",
    "               name=\"BioSCape Vegetation Polygons\", \n",
    "               tooltip=folium.GeoJsonTooltip(fields=[\"BScpPID\"]), \n",
    "               style_function=lambda x: {\"fillOpacity\": 0}).add_to(mapObj)\n",
    "\n",
    "folium.GeoJson(vegpolys_cen_new, \n",
    "               name=\"BioSCape Polygon Centers\", \n",
    "               marker=folium.Circle(radius=10, fill_color=\"red\", fill_opacity=0.4, color=\"red\", weight=1),\n",
    "               color=\"red\").add_to(mapObj)\n",
    "\n",
    "folium.GeoJson(AVNG_scenes, \n",
    "               name=\"AVIRIS-NG Coverage\", \n",
    "               color=\"red\", \n",
    "               tooltip=folium.GeoJsonTooltip(fields=[\"scid\"]), \n",
    "               style_function=lambda x: {\"fillOpacity\": 0}).add_to(mapObj)\n",
    "\n",
    "\n",
    "# create ESRI satellite base map\n",
    "#esri = 'https://server.arcgisonline.com/ArcGIS/rest/services/World_Imagery/MapServer/tile/{z}/{y}/{x}'\n",
    "#folium.TileLayer(tiles = esri, attr = 'Esri', name = 'Esri Satellite', overlay = False, control = True).add_to(mapObj)\n",
    "folium.LayerControl().add_to(mapObj)\n",
    "mapObj"
   ]
  },
  {
   "cell_type": "markdown",
   "id": "46f3bf7d-8109-4a0c-b360-8ebf9d13af9c",
   "metadata": {},
   "source": [
    "#### We know that there are many AVIRIS-NG scenes in the BioSCape Campaign data.\n",
    "#### Let's discover which AVIRIS-NG scenes contain the T081 polygon "
   ]
  },
  {
   "cell_type": "code",
   "execution_count": null,
   "id": "d174f025-9128-4163-a55b-df9939cd9584",
   "metadata": {},
   "outputs": [],
   "source": [
    "AVNG_flight_scenes_T081_gdf = gpd.sjoin(veg_polys_gdf.loc[veg_polys_gdf['BScpPID'] == 'T081'], AVNG_scenes, how='inner', predicate='within')\n",
    "AVNG_flight_scenes_T081_gdf.scid\t"
   ]
  },
  {
   "cell_type": "code",
   "execution_count": null,
   "id": "0affb71a-3654-4585-ab90-d6b0a69fa823",
   "metadata": {},
   "outputs": [],
   "source": [
    "# As an example, here's the same method for the T195 vegetation polygon\n",
    "AVNG_flight_scenes_T195_gdf = gpd.sjoin(veg_polys_gdf.loc[veg_polys_gdf['BScpPID'] == 'T195'], AVNG_scenes, how='inner', predicate='within')\n",
    "AVNG_flight_scenes_T195_gdf.scid"
   ]
  },
  {
   "cell_type": "code",
   "execution_count": null,
   "id": "641a9cc2-5eda-47bb-a1c2-412fe2416d09",
   "metadata": {},
   "outputs": [],
   "source": [
    "AVNG_flight_scenes_T081_gdf"
   ]
  },
  {
   "cell_type": "code",
   "execution_count": null,
   "id": "71c2648f-63a6-4350-b5fa-b119721077dd",
   "metadata": {},
   "outputs": [],
   "source": [
    "# Lets use loc and the scid to plot just the ang20231109t131923_019\n",
    "AVNG_scenes.loc[AVNG_scenes['scid'] == 'ang20231109t131923_019'].plot()"
   ]
  },
  {
   "cell_type": "markdown",
   "id": "9553c18f-e962-47bc-b295-b1f6dee6e510",
   "metadata": {},
   "source": [
    "#### Now plot it all together with the identified AVIRIS-NG scene"
   ]
  },
  {
   "cell_type": "code",
   "execution_count": null,
   "id": "ccf7c918-fc10-44d7-9bad-516018088bb2",
   "metadata": {},
   "outputs": [],
   "source": [
    "# and now plot it all together with the identified AVIRIS-NG scene\n",
    "import folium\n",
    "mapObj = folium.Map(location=[-33.95, 23.52], zoom_start=7, control_scale=True)\n",
    "\n",
    "folium.GeoJson(veg_polys_gdf, \n",
    "               name=\"BioSCape Vegetation Polygons\", \n",
    "               tooltip=folium.GeoJsonTooltip(fields=[\"BScpPID\"]), \n",
    "               style_function=lambda x: {\"fillOpacity\": 0}).add_to(mapObj)\n",
    "\n",
    "folium.GeoJson(vegpolys_cen_new, \n",
    "               name=\"BioSCape Polygon Centers\", \n",
    "               marker=folium.Circle(radius=10, fill_color=\"red\", fill_opacity=0.4, color=\"red\", weight=1),\n",
    "               color=\"red\").add_to(mapObj)\n",
    "\n",
    "folium.GeoJson(AVNG_scenes, \n",
    "               name=\"AVIRIS-NG Coverage\", \n",
    "               color=\"red\", \n",
    "               tooltip=folium.GeoJsonTooltip(fields=[\"scid\"]), \n",
    "               style_function=lambda x: {\"fillOpacity\": 0}).add_to(mapObj)\n",
    "\n",
    "folium.GeoJson(AVNG_scenes.loc[AVNG_scenes['scid'] == 'ang20231109t131923_019'], \n",
    "               name=\"AVIRIS-NG Coverage\", \n",
    "               color=\"green\", \n",
    "               tooltip=folium.GeoJsonTooltip(fields=[\"scid\"]), \n",
    "               style_function=lambda x: {\"fillOpacity\": 0}).add_to(mapObj)\n",
    "\n",
    "# create ESRI satellite base map\n",
    "esri = 'https://server.arcgisonline.com/ArcGIS/rest/services/World_Imagery/MapServer/tile/{z}/{y}/{x}'\n",
    "folium.TileLayer(tiles = esri, attr = 'Esri', name = 'Esri Satellite', overlay = False, control = True).add_to(mapObj)\n",
    "folium.LayerControl().add_to(mapObj)\n",
    "mapObj"
   ]
  },
  {
   "cell_type": "markdown",
   "id": "a0228866-faf2-4e07-8882-bf66cbb43ea5",
   "metadata": {},
   "source": [
    "## Examine BioSCape AVIRIS-NG Files that have Vegetation Plot of Interest"
   ]
  },
  {
   "cell_type": "markdown",
   "id": "a6828913-1e50-4e76-b978-35e8dcc7b347",
   "metadata": {},
   "source": [
    "### The ang20231109t131923_019 scene is a segment of a larger flight line, ang20231109t131923"
   ]
  },
  {
   "cell_type": "code",
   "execution_count": null,
   "id": "04262d37-e541-4852-b8bc-2ccbf2204614",
   "metadata": {},
   "outputs": [],
   "source": [
    "s3.ls('bioscape-data/AVNG/ang20231109t131923')"
   ]
  },
  {
   "cell_type": "markdown",
   "id": "5946d2b2-0d9a-4529-8e13-c53e6217df1f",
   "metadata": {},
   "source": [
    "#### ^^^ There are 22 scenes in this (ang20231109t131923) flight line ^^^  "
   ]
  },
  {
   "cell_type": "code",
   "execution_count": null,
   "id": "a497f043-7ae1-454b-a4e0-b29744cab74c",
   "metadata": {},
   "outputs": [],
   "source": [
    "# List the data files in the ang20231109t131923_019 scene\n",
    "\n",
    "ang20231109t131923_019 =  s3.ls('bioscape-data/AVNG/ang20231109t131923/ang20231109t131923_019')\n",
    "ang20231109t131923_019"
   ]
  },
  {
   "cell_type": "markdown",
   "id": "36694085-a8e3-49fc-b480-4f6523a84d72",
   "metadata": {},
   "source": [
    "\n",
    "- Flight lines are provided as small, manageable sections of data referred to as \"scenes\"\n",
    "- Within a flight line, adjacent scenes are seamless\n",
    "- adjacent flight lines will have overlap\n",
    "- To date, data are in binary/header (ENVI) formats\n",
    "\n",
    "| Dataset | Description | \n",
    "| -------- | --- |\n",
    "| L1B | Resampled calibrated data in units of spectral radiance.  Observed geometry and illumination parameters |\n",
    "| L2 | Orthocorrected and atmospherically corrected reflectance data. Uncertainty data.  (425 Spectral bands)|\n",
    "| QL | A quick look geoTIFF file (3 bands)"
   ]
  },
  {
   "cell_type": "markdown",
   "id": "3371361b-4a44-463e-9675-3cca652b0f69",
   "metadata": {},
   "source": [
    "## Visualize AVIRIS-NG Reflectance Files"
   ]
  },
  {
   "cell_type": "markdown",
   "id": "197ae49b-e0a8-456c-b5ea-b54fa910a8b1",
   "metadata": {},
   "source": [
    "### Examine the Quicklook file with GDAL"
   ]
  },
  {
   "cell_type": "code",
   "execution_count": null,
   "id": "d50017fc-3c61-4487-a764-be7229fbc9d3",
   "metadata": {},
   "outputs": [],
   "source": [
    "# Define the path for a quick look image\n",
    "ang20231109t131923_019_ql_path = [x for x in ang20231109t131923_019 if x.endswith('RFL_ORT_QL.tif')][0]\n",
    "ang20231109t131923_019_ql_path"
   ]
  },
  {
   "cell_type": "markdown",
   "id": "0626522e-ecee-4adf-a2ba-da00f54b1d32",
   "metadata": {},
   "source": [
    "**There's a bit of a catch with the cloud access methods using GDAL.  The GDAL utility expects S3 links to be formated with the `GDAL virtual file system (VSI)` S3 path.  We therefore have to use the VSI path to access the files with GDAL.  What that means is shown below.  We'll substitute the S3 link with the VSI (`vsis3`) link(s).**"
   ]
  },
  {
   "cell_type": "code",
   "execution_count": null,
   "id": "4a87c115-a9fa-4e3c-af22-d30e868e9552",
   "metadata": {},
   "outputs": [],
   "source": [
    "ang20231109t131923_019_ql = gdal.Open(path.join('/vsis3', ang20231109t131923_019_ql_path))\n",
    "ang20231109t131923_019_ql"
   ]
  },
  {
   "cell_type": "code",
   "execution_count": null,
   "id": "02c1485b-943f-404b-b375-6e1dd4f2ed38",
   "metadata": {},
   "outputs": [],
   "source": [
    "# Open the AVIRIS-NG ENVI file and read the file's bands, row, cols\n",
    "#image_open = gdal.Open(gdal_url)\n",
    "\n",
    "nbands_003 = ang20231109t131923_019_ql.RasterCount\n",
    "ncols_003 = ang20231109t131923_019_ql.RasterXSize\n",
    "nrows_003 = ang20231109t131923_019_ql.RasterYSize\n",
    "\n",
    "print(f\"Bands:\\t{nbands_003}\")\n",
    "print(f\"Columns:\\t{ncols_003}\")\n",
    "print(f\"Rows:\\t{nrows_003}\")"
   ]
  },
  {
   "cell_type": "markdown",
   "id": "143a7aea-32cd-4f83-9015-3f7846ed53aa",
   "metadata": {},
   "source": [
    "### Using GDAL to read the AVIRIS-NG raster file as a numerical array\n",
    "- convert an existing **`Gdal Dataset`** or a Band into a numpy array with the `ReadAsArray()` function"
   ]
  },
  {
   "cell_type": "code",
   "execution_count": null,
   "id": "56c68198-b2f6-4460-b920-b09fcd9e11b7",
   "metadata": {},
   "outputs": [],
   "source": [
    "ang_019_ql_array = ang20231109t131923_019_ql.ReadAsArray()\n",
    "ang_019_ql_trans = ang_019_ql_array.transpose((1,2,0))  # the band arranged needs rearranged in order to plot"
   ]
  },
  {
   "cell_type": "code",
   "execution_count": null,
   "id": "1247a4aa-985f-4b4d-a305-709beeaf743a",
   "metadata": {},
   "outputs": [],
   "source": [
    "# bands 258 95 36\n",
    "plt.rcParams['figure.figsize'] = [10,10]\n",
    "plt.imshow(ang_019_ql_trans)"
   ]
  },
  {
   "cell_type": "code",
   "execution_count": null,
   "id": "813883a6-9a36-4106-8707-cfdf3bd9dc99",
   "metadata": {},
   "outputs": [],
   "source": [
    "## Quick note - you can use this get expression to download data from S3 storage to your local environment\n",
    "## We will not execute this block in the workshop.\n",
    "\n",
    "# s3.get(ang20231109t131923_019_ql_path, 'ang20231109t131923_019_ql.tif')"
   ]
  },
  {
   "cell_type": "markdown",
   "id": "5706c724-114e-45ed-a59f-90d8d8095207",
   "metadata": {},
   "source": [
    "## Examine the AVNG Reflectance file (RFL) with rioxarray"
   ]
  },
  {
   "cell_type": "markdown",
   "id": "b0384b17-541d-499a-bf26-7b7f9708f038",
   "metadata": {},
   "source": [
    "**`Rioxarray`** is a python package that is built upon `xarray` and `rasterio` python packages to facilitate the analysis of raster or xarray datasest. \n",
    "\n",
    "We'll demonstrate \n",
    "- how to read and visualize raster data using rioxarray\n",
    "- how to extract data from a point location."
   ]
  },
  {
   "cell_type": "markdown",
   "id": "c6f184e1-9c33-4c96-aebb-2a0c3ad40864",
   "metadata": {},
   "source": [
    "### First, let's examine the header file associated with the ENVI binary/header file pair\n",
    "- the header files are ascii text files"
   ]
  },
  {
   "cell_type": "code",
   "execution_count": null,
   "id": "5ec6019f-c1c2-4a94-9891-10f2d8605b34",
   "metadata": {},
   "outputs": [],
   "source": [
    "hdr_link = 'bioscape-data/AVNG/ang20231109t131923/ang20231109t131923_019/ang20231109t131923_019_L2A_OE_main_27577724_RFL_ORT.hdr'\n",
    "hdr_link"
   ]
  },
  {
   "cell_type": "code",
   "execution_count": null,
   "id": "ee29e5af-bf9f-4901-8c09-f356fa15adf4",
   "metadata": {},
   "outputs": [],
   "source": [
    "# Print the whole header file\n",
    "#with s3.open(hdr_link, mode='r') as hdr:\n",
    "#    lines = (hdr.read())\n",
    "#    print(lines)\n",
    "\n",
    "# Print the first 12 lines of the header file\n",
    "with s3.open(hdr_link, mode='r') as hdr:\n",
    "    for i in range(12):\n",
    "        line = next(hdr).strip()\n",
    "        print(line) "
   ]
  },
  {
   "cell_type": "code",
   "execution_count": null,
   "id": "ba0345c8-4be2-4574-a78d-43fa648111c9",
   "metadata": {},
   "outputs": [],
   "source": [
    "# assign the the associated L2 Reflectance file to a variable\n",
    "ang20231109t131923_019_rfl = [x for x in ang20231109t131923_019 if x.endswith('RFL_ORT')][0]\n",
    "ang20231109t131923_019_rfl"
   ]
  },
  {
   "cell_type": "code",
   "execution_count": null,
   "id": "e3cbe16f-56cf-4d07-a6f4-f33395c5bb36",
   "metadata": {},
   "outputs": [],
   "source": [
    "# open the reflectance file with rioxarray\n",
    "avng_rfl = rioxarray.open_rasterio(path.join('s3://', ang20231109t131923_019_rfl),\n",
    "                             drivers='ENVI', chunks=True, parse_coordinates=True)\n",
    "avng_rfl"
   ]
  },
  {
   "cell_type": "code",
   "execution_count": null,
   "id": "190415ab-4640-497d-b083-57adc5eb4baa",
   "metadata": {},
   "outputs": [],
   "source": [
    "# plot rgb bands - this takes a minute ...\n",
    "avng_rfl.isel(band=[57, 38, 22]).plot.imshow(rgb=\"band\", vmin=0, vmax=.15)\n",
    "plt.title(path.basename(ang20231109t131923_019_rfl))\n",
    "plt.show()"
   ]
  },
  {
   "cell_type": "markdown",
   "id": "1085845b-accc-4322-9a10-d03673941a61",
   "metadata": {},
   "source": [
    "#### Notice that the x and y listed coordinates are in projected unit (meters)"
   ]
  },
  {
   "cell_type": "code",
   "execution_count": null,
   "id": "d91281fc-69f2-4183-ae2c-1c6503eae9bd",
   "metadata": {},
   "outputs": [],
   "source": [
    "# Examine the coordinate reference system of the AVIRIS-NG file\n",
    "avng_rfl.rio.crs"
   ]
  },
  {
   "cell_type": "markdown",
   "id": "10fb7521-70de-4114-ba07-b48e98f7de47",
   "metadata": {},
   "source": [
    "**The EPSG code is 32734**"
   ]
  },
  {
   "cell_type": "code",
   "execution_count": null,
   "id": "a5b9b621-cb0b-4ad3-adac-e42b0a79f484",
   "metadata": {},
   "outputs": [],
   "source": [
    "# View the Coordinate Reference System (CRS) & spatial extent\n",
    "# explore the full definition of the EPSG code\n",
    "from pyproj import CRS\n",
    "epsg = avng_rfl.rio.crs.to_epsg()\n",
    "crs = CRS(epsg)\n",
    "crs"
   ]
  },
  {
   "cell_type": "markdown",
   "id": "1bc72ef9-f6e1-4d2d-93ca-ff8a42aa5564",
   "metadata": {},
   "source": [
    "#### This AVIRIS-NG scence is in UTM Zone 34S projection"
   ]
  },
  {
   "cell_type": "markdown",
   "id": "6c80f448-6530-4c28-8a56-350d5b0d45f6",
   "metadata": {},
   "source": [
    "## Plot a Spectral Profile from a Point of Interest"
   ]
  },
  {
   "cell_type": "markdown",
   "id": "eddcfba3-2802-49d6-9591-16a72dcd12e3",
   "metadata": {},
   "source": [
    "### We'll plot the spectral profiles for a pixel from the vegeation plot location.\n",
    "\n",
    "- Recall we saved the latitude and longitude of the T081 vegetation plot center.\n",
    "- Project point location lat/lon to UTM (zone 34S): Recall, the AVIRIS-NG Scene is in UTM zone 34S (EPSG:32734)"
   ]
  },
  {
   "cell_type": "code",
   "execution_count": null,
   "id": "98a4595e-1a66-4cfc-b42a-1af4b1c1813a",
   "metadata": {},
   "outputs": [],
   "source": [
    "# recall\n",
    "print('Plot_T081 longitude: ', T081lon)  \n",
    "print('Plot_T081 latitude: ', T081lat)"
   ]
  },
  {
   "cell_type": "markdown",
   "id": "7a008791-3c57-42eb-93cd-0344d840def9",
   "metadata": {},
   "source": [
    "#### Convert lon/lat to UTM projected x/y\n",
    "\n",
    "**`Pyproj`** is a Python interface to PROJ (cartographic projections and coordinate transformations library)"
   ]
  },
  {
   "cell_type": "code",
   "execution_count": null,
   "id": "8d8fd2ad-f9d6-418c-b794-ff78b6869e0b",
   "metadata": {},
   "outputs": [],
   "source": [
    "# translate coordinates\n",
    "\n",
    "p = Proj(\"EPSG:32734\", preserve_units=False)\n",
    "T081_x,T081_y = p(T081lon, T081lat)\n",
    "print('T081 x value in UTM meters:', T081_x)\n",
    "print('T081 y value in UTM meters:', T081_y)"
   ]
  },
  {
   "cell_type": "markdown",
   "id": "ab85f6a7-d456-4ed9-8fa7-832af914af8a",
   "metadata": {},
   "source": [
    "### Plot the Reflectance with the T081 plot location"
   ]
  },
  {
   "cell_type": "code",
   "execution_count": null,
   "id": "7b42f1c9-5665-45d0-ab0a-49d699821461",
   "metadata": {},
   "outputs": [],
   "source": [
    "# Plot the image with the T081 plot location\n",
    "\n",
    "plt.figure(figsize=(10,10))\n",
    "avng_rfl.isel(band=[57, 38, 22]).plot.imshow(rgb=\"band\", vmin=0, vmax=.25)\n",
    "plt.scatter(T081_x,T081_y, color='red')\n",
    "plt.title(path.basename(ang20231109t131923_019_rfl))\n",
    "plt.show()\n"
   ]
  },
  {
   "cell_type": "markdown",
   "id": "8adcd810-7842-436d-ac33-c922a47a1786",
   "metadata": {},
   "source": [
    "## For the  `T081` vegetation plot center location, let's extract the reflectance value from each of the 425 bands, and plot this as a spectral profile"
   ]
  },
  {
   "cell_type": "code",
   "execution_count": null,
   "id": "2f8e687e-5609-461e-acdf-41ea8b62daf1",
   "metadata": {},
   "outputs": [],
   "source": [
    "# plot spectra from the y,x pixel defined in UTM coordinates\n",
    "T081_ang_wl = avng_rfl.sel(y=T081_y, x=T081_x, method='nearest')\n",
    "\n",
    "T081_ang_wl.plot.line(ylim=(-.2,.4), color = 'g')\n",
    "plt.rcParams['figure.figsize'] = [8,6]\n",
    "plt.xlabel(\"band\")\n",
    "plt.ylabel(\"reflectance\")\n",
    "plt.show()\n"
   ]
  },
  {
   "cell_type": "code",
   "execution_count": null,
   "id": "17c7a88f-5b5d-4316-9639-ee623c0ce561",
   "metadata": {},
   "outputs": [],
   "source": [
    "# Define a list of wavelengths that are \"bad\" \n",
    "import numpy as np\n",
    "bblist = np.ones((425,))  # create a 1D array with values ones\n",
    "# set tails and atmospheric window to zero\n",
    "bblist[0:14] = 0        # tail\n",
    "bblist[193:210] = 0     # atmospheric window\n",
    "bblist[281:320] = 0     # atmospheric window\n",
    "bblist[405:] = 0        # tail"
   ]
  },
  {
   "cell_type": "code",
   "execution_count": null,
   "id": "71da24bf-dd70-4e95-9d50-8aeb19df685c",
   "metadata": {},
   "outputs": [],
   "source": [
    "T081_ang_wl[bblist == 0] = np.nan\n",
    "\n",
    "plt.rcParams['figure.figsize'] = [8,6]\n",
    "T081_ang_wl.plot.line(ylim=(0,.3), color = 'g')  \n",
    "plt.xlabel(\"band\")\n",
    "plt.ylabel(\"reflectance\")\n",
    "plt.legend([\"Proteaceae\"])\n",
    "plt.show()"
   ]
  },
  {
   "cell_type": "markdown",
   "id": "2603f93f-e056-4c2f-a828-6572e1a89e19",
   "metadata": {},
   "source": [
    "## Plot the Spectral Profiles from each of Sample plots"
   ]
  },
  {
   "cell_type": "markdown",
   "id": "5a57bfb0-4c0d-4104-b3b0-4f8c15ccbf39",
   "metadata": {},
   "source": [
    "AVIRIS-NG scenes of of interest for the Dominant Family Polygons are:\n",
    "\n",
    "- T081 = Proteaceae ------ AVNG = ang20231109t131923_019_rfl\n",
    "- T093 = Asteraceae ------ AVNG = ang20231109t133124_003_rfl\n",
    "- T201 = Ericaceae -------- AVNG = ang20231109t133124_013_rfl\n",
    "- T069 = Rosaceae -------- AVNG = ang20231109t133124_013_rfl\n",
    "- T195 = Restionaceae ---- AVNG = ang20231109t133124_013_rfl\n"
   ]
  },
  {
   "cell_type": "code",
   "execution_count": null,
   "id": "101d9c21-6797-4d76-a6d5-9ebc80e67755",
   "metadata": {},
   "outputs": [],
   "source": [
    "\n",
    "# T081 from above\n",
    "\n",
    "T093_point = vegpolys_cen_new.loc[vegpolys_cen_new['BScpPID'] == 'T093'].get_coordinates()\n",
    "T093lon = T093_point.x.values[0]\n",
    "T093lat = T093_point.y.values[0]\n",
    "\n",
    "T201_point = vegpolys_cen_new.loc[vegpolys_cen_new['BScpPID'] == 'T201'].get_coordinates()\n",
    "T201lon = T201_point.x.values[0]\n",
    "T201lat = T201_point.y.values[0]\n",
    "\n",
    "T069_point = vegpolys_cen_new.loc[vegpolys_cen_new['BScpPID'] == 'T069'].get_coordinates()\n",
    "T069lon = T069_point.x.values[0]\n",
    "T069lat = T069_point.y.values[0]\n",
    "\n",
    "T195_point = vegpolys_cen_new.loc[vegpolys_cen_new['BScpPID'] == 'T195'].get_coordinates()\n",
    "T195lon = T195_point.x.values[0]\n",
    "T195lat = T195_point.y.values[0]\n",
    "\n",
    "# Reproject point from lon/Lat to UTM\n",
    "p = Proj(\"EPSG:32734\", preserve_units=False)\n",
    "T093_x,T093_y = p(T093lon, T093lat)\n",
    "T201_x,T201_y = p(T201lon, T201lat)\n",
    "T069_x,T069_y = p(T069lon, T069lat)\n",
    "T195_x,T195_y = p(T195lon, T195lat)\n",
    "\n",
    "avng_rfl_081_path = 'bioscape-data/AVNG/ang20231109t131923/ang20231109t131923_019/ang20231109t131923_019_L2A_OE_main_27577724_RFL_ORT'\n",
    "avng_rfl_093_path = 'bioscape-data/AVNG/ang20231109t133124/ang20231109t133124_003/ang20231109t133124_003_L2A_OE_main_27577724_RFL_ORT'\n",
    "avng_rfl_201_path = 'bioscape-data/AVNG/ang20231109t133124/ang20231109t133124_013/ang20231109t133124_013_L2A_OE_main_27577724_RFL_ORT'\n",
    "\n",
    "# Read the reflectance file\n",
    "\n",
    "#avng_rfl_081= rioxarray.open_rasterio(path.join('s3://', avng_rfl_081_path), drivers='ENVI', chunks=True, parse_coordinates=True)\n",
    "avng_rfl_093 = rioxarray.open_rasterio(path.join('s3://', avng_rfl_093_path), drivers='ENVI', chunks=True, parse_coordinates=True)\n",
    "avng_rfl_201 = rioxarray.open_rasterio(path.join('s3://', avng_rfl_201_path), drivers='ENVI', chunks=True, parse_coordinates=True)\n",
    "\n",
    "T081_ang_wl[bblist == 0] = np.nan\n",
    "T093_ang_wl = avng_rfl_093.sel(y=T093_y, x=T093_x, method='nearest')\n",
    "T093_ang_wl[bblist == 0] = np.nan\n",
    "T201_ang_wl = avng_rfl_201.sel(y=T201_y, x=T201_x, method='nearest')\n",
    "T201_ang_wl[bblist == 0] = np.nan\n",
    "T069_ang_wl = avng_rfl_201.sel(y=T069_y, x=T069_x, method='nearest')\n",
    "T069_ang_wl[bblist == 0] = np.nan\n",
    "T195_ang_wl = avng_rfl_201.sel(y=T195_y, x=T195_x, method='nearest')\n",
    "T195_ang_wl[bblist == 0] = np.nan\n",
    "\n",
    "# plot spectra from a pixel\n",
    "\n",
    "T081_ang_wl.plot.line(ylim=(0,.4), color = 'g', label=\"Proteaceae\")\n",
    "T093_ang_wl.plot.line(ylim=(0,.4),color = 'r', label=\"Asteraceae\")\n",
    "T201_ang_wl.plot.line(ylim=(0,.4),color = 'y', label=\"Ericaceae\")\n",
    "T069_ang_wl.plot.line(ylim=(0,.4),color = 'purple', label=\"Rosaceae\")\n",
    "T195_ang_wl.plot.line(ylim=(0,.4),color = 'black', label=\"Restionaceae\")\n",
    "\n",
    "plt.rcParams['figure.figsize'] = [8,6]\n",
    "plt.xlabel('band', fontsize=20)\n",
    "plt.ylabel('Reflectance', fontsize=20)\n",
    "plt.legend(loc=\"upper left\")\n",
    "plt.show()"
   ]
  },
  {
   "cell_type": "code",
   "execution_count": null,
   "id": "d77fde75-07a9-4633-af07-49259747035d",
   "metadata": {},
   "outputs": [],
   "source": []
  },
  {
   "cell_type": "code",
   "execution_count": null,
   "id": "8a97b29b-d503-4519-8c26-e3fb8d89bd24",
   "metadata": {},
   "outputs": [],
   "source": []
  }
 ],
 "metadata": {
  "kernelspec": {
   "display_name": "global-global-BioSCape",
   "language": "python",
   "name": "conda-env-global-global-BioSCape-py"
  },
  "language_info": {
   "codemirror_mode": {
    "name": "ipython",
    "version": 3
   },
   "file_extension": ".py",
   "mimetype": "text/x-python",
   "name": "python",
   "nbconvert_exporter": "python",
   "pygments_lexer": "ipython3",
   "version": "3.12.3"
  }
 },
 "nbformat": 4,
 "nbformat_minor": 5
}

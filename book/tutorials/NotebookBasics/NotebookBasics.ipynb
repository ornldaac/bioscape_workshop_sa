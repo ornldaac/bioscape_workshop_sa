{
 "cells": [
  {
   "cell_type": "markdown",
   "id": "594d16a2-9f32-4bd3-a226-19e21ffd450b",
   "metadata": {},
   "source": [
    "# Jupyter Notebook Basics\n",
    "\n",
    "## This is Markdown\n",
    "![Bioscape](images/121229-87.png)\n",
    "\n",
    "- Run a code block with `shift` `enter`, or the **>** symbol above\n",
    "- double click on this cell to expose the markdown\n",
    "- notice the single `#` that marks the Title\n",
    "- notice the markup around the **`#`** that adds _formatting_\n",
    "- add new lines with starting with ## and ### and see what happens"
   ]
  },
  {
   "cell_type": "markdown",
   "id": "c9f5f59b-48c5-48e0-9eb5-63bce50a2e39",
   "metadata": {},
   "source": [
    "## This is code"
   ]
  },
  {
   "cell_type": "code",
   "execution_count": 1,
   "id": "076a95f9-6092-4755-9830-f47268d9a1cc",
   "metadata": {},
   "outputs": [
    {
     "name": "stdout",
     "output_type": "stream",
     "text": [
      "Hello World\n"
     ]
    }
   ],
   "source": [
    "# here is a code block that runs a simple line of python\n",
    "# print statements\n",
    "print('Hello World')"
   ]
  },
  {
   "cell_type": "code",
   "execution_count": 2,
   "id": "481222be-aef0-45eb-9569-06ba813f7918",
   "metadata": {},
   "outputs": [
    {
     "name": "stdout",
     "output_type": "stream",
     "text": [
      "10\n"
     ]
    }
   ],
   "source": [
    "# assign a variable and print\n",
    "num = 10\n",
    "print(num)"
   ]
  },
  {
   "cell_type": "code",
   "execution_count": 3,
   "id": "353cad84-2246-4acf-bc3b-8d489a7134ba",
   "metadata": {},
   "outputs": [
    {
     "name": "stdout",
     "output_type": "stream",
     "text": [
      "12\n"
     ]
    }
   ],
   "source": [
    "num2 = 2\n",
    "print(num + num2)"
   ]
  },
  {
   "cell_type": "code",
   "execution_count": 4,
   "id": "e03e27bb-4cc5-4e16-b17f-0021be015bde",
   "metadata": {},
   "outputs": [],
   "source": [
    "# import python modules and libraries\n",
    "import numpy as np"
   ]
  },
  {
   "cell_type": "markdown",
   "id": "69a2cc16-3e9d-4772-b7e5-cd29af79c5a9",
   "metadata": {},
   "source": [
    "## Import python modules\n",
    "\n",
    "**NumPy** is a library for the Python programming language, adding support for large, multi-dimensional arrays and matrices, along with a large collection of high-level mathematical functions to operate on these arrays.\n"
   ]
  },
  {
   "cell_type": "code",
   "execution_count": 5,
   "id": "bbfafc54-2c1d-483d-8d10-fe36265a1857",
   "metadata": {},
   "outputs": [
    {
     "name": "stdout",
     "output_type": "stream",
     "text": [
      "[1 2 3 4 5]\n",
      "<class 'numpy.ndarray'>\n"
     ]
    }
   ],
   "source": [
    "# create a basic array\n",
    "arr = np.array([1, 2, 3, 4, 5])\n",
    "print(arr)\n",
    "print(type(arr))"
   ]
  },
  {
   "cell_type": "markdown",
   "id": "3560fb67-cf4f-4261-a5b5-beef268c2462",
   "metadata": {},
   "source": [
    "## Earthaccess\n",
    "\n",
    "**[earthaccess](https://github.com/nsidc/earthaccess)**  is a python library to search for, and download or stream NASA Earth science data with just a few lines of code.\n",
    "\n",
    "![Bioscape](images/earthaccesslogostatement_rs.png)\n",
    "\n",
    "- Here, We'll use **earthaccess** to create a persistent login for your NASA Earthdata Login.  Earthaccess is very helpful for accessing data in NASA Earthdata with a few lines of code."
   ]
  },
  {
   "cell_type": "code",
   "execution_count": 6,
   "id": "87b62777-5ddb-443f-93cc-3750fd40749b",
   "metadata": {},
   "outputs": [
    {
     "data": {
      "text/plain": [
       "<earthaccess.auth.Auth at 0x7fedc237a7e0>"
      ]
     },
     "execution_count": 6,
     "metadata": {},
     "output_type": "execute_result"
    }
   ],
   "source": [
    "import earthaccess \n",
    "# ask for EDL credentials and persist them in a .netrc file\n",
    "earthaccess.login(strategy=\"interactive\", persist=True)"
   ]
  },
  {
   "cell_type": "code",
   "execution_count": 7,
   "id": "f31f9652-305c-492c-a97c-60e1068facd1",
   "metadata": {},
   "outputs": [],
   "source": [
    "# your earthdata login credentials will persist in the Hub where you created it"
   ]
  },
  {
   "cell_type": "markdown",
   "id": "c4bf6fe6-ce37-4381-825b-6196402cf12e",
   "metadata": {},
   "source": [
    "### We'll use earthaccess a few times throughout the course "
   ]
  },
  {
   "cell_type": "code",
   "execution_count": null,
   "id": "9703698e-2ce9-423f-89b4-203960bfa90c",
   "metadata": {},
   "outputs": [],
   "source": []
  }
 ],
 "metadata": {
  "kernelspec": {
   "display_name": "global-global-BioSCape",
   "language": "python",
   "name": "conda-env-global-global-BioSCape-py"
  },
  "language_info": {
   "codemirror_mode": {
    "name": "ipython",
    "version": 3
   },
   "file_extension": ".py",
   "mimetype": "text/x-python",
   "name": "python",
   "nbconvert_exporter": "python",
   "pygments_lexer": "ipython3",
   "version": "3.12.3"
  }
 },
 "nbformat": 4,
 "nbformat_minor": 5
}

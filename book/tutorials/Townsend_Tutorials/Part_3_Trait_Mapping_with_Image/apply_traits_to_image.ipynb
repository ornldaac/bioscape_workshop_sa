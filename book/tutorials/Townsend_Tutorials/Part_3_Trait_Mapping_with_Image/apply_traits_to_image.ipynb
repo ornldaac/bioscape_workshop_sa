{
 "cells": [
  {
   "cell_type": "markdown",
   "id": "3c101b17-2aa1-4a82-a042-8795a4bc5f4d",
   "metadata": {
    "tags": []
   },
   "source": [
    "#### Import dependencies"
   ]
  },
  {
   "cell_type": "code",
   "execution_count": null,
   "id": "e2cb8de1-2d9e-4845-918f-a88cf37e236e",
   "metadata": {},
   "outputs": [],
   "source": [
    "import os, json\n",
    "\n",
    "import numpy as np\n",
    "import pandas as pd\n",
    "import matplotlib.pyplot as plt\n",
    "from scipy import interpolate\n",
    "\n",
    "try:\n",
    "    from osgeo import gdal\n",
    "except:\n",
    "    import gdal\n",
    "    \n",
    "import time\n",
    "\n",
    "try:\n",
    "    import dask.array as da\n",
    "    bool_dask=True\n",
    "except:\n",
    "    print(\"dask is not installed\")\n",
    "    bool_dask=False\n"
   ]
  },
  {
   "cell_type": "markdown",
   "id": "f1e2a6a8-1ce2-476b-bc3e-c70c135634b8",
   "metadata": {},
   "source": [
    "#### Setup input image model and output directory"
   ]
  },
  {
   "cell_type": "code",
   "execution_count": null,
   "id": "54f7bc35-eb9d-4e2c-b42e-496ef7ecf861",
   "metadata": {},
   "outputs": [],
   "source": [
    "in_img = './Data/ang20231109t131923_019_L2A_OE_main_27577724_RFL_ORT'\n",
    "in_coeff_json = './Data/Nitrogen_CWM_model_file.json'\n",
    "out_dir = './'"
   ]
  },
  {
   "cell_type": "code",
   "execution_count": null,
   "id": "9d4f8565-9a78-446c-8a9e-de7f4f43269c",
   "metadata": {},
   "outputs": [],
   "source": [
    "out_trait_img_bname = f\"{out_dir}/{os.path.basename(in_img)}_{os.path.basename(in_coeff_json[:-5])}_trait_map\"\n",
    "print(out_trait_img_bname)"
   ]
  },
  {
   "cell_type": "markdown",
   "id": "13f4eaee-85cc-49a8-9f56-f203b98bbeee",
   "metadata": {},
   "source": [
    "#### Setup constants"
   ]
  },
  {
   "cell_type": "code",
   "execution_count": null,
   "id": "82d776ae-314b-4ee0-8175-d929deae267e",
   "metadata": {},
   "outputs": [],
   "source": [
    "line_block_size=512\n",
    "bad_range = [[300,400],[1337,1430],[1800,1960],[2450,2600]]\n",
    "\n",
    "# gdal to numpy datatype conversion dictionary\n",
    "dtype_dict = {\n",
    "             gdal.GDT_Byte:np.uint8,\n",
    "             gdal.GDT_Int16:np.int16,\n",
    "             gdal.GDT_Int32:np.int32,\n",
    "             gdal.GDT_Float32:np.float32,\n",
    "             gdal.GDT_Float64:np.float64,\n",
    "             gdal.GDT_UInt16:np.uint16,\n",
    "             gdal.GDT_UInt32:np.uint32\n",
    "}\n"
   ]
  },
  {
   "cell_type": "markdown",
   "id": "6950f511-39a9-48bd-8522-aa47f6256670",
   "metadata": {},
   "source": [
    "#### Function definitions"
   ]
  },
  {
   "cell_type": "code",
   "execution_count": null,
   "id": "508151bb-6863-4979-9d74-9425c6511004",
   "metadata": {},
   "outputs": [],
   "source": [
    "def create_empty_image(new_shape, data_type, geotransform, projection, image_fn):\n",
    "    rows, cols = new_shape\n",
    "    driver = gdal.GetDriverByName('ENVI')\n",
    "    ds = driver.Create(image_fn, cols, rows, 2, data_type,options=[\"INTERLEAVE=BIP\"])\n",
    "    ds.SetGeoTransform(geotransform)\n",
    "    ds.SetProjection(projection)\n",
    "    name_list=['mean','stdev']\n",
    "    for iband in range(2):\n",
    "        band = ds.GetRasterBand(iband+1)\n",
    "        band.SetDescription(name_list[iband])\n",
    "        band.SetNoDataValue(-9999)\n",
    "        band = None\n",
    "        \n",
    "    ds = None\n",
    "    \n",
    "def image_memmap(in_bin, img_info_dict):\n",
    "    if img_info_dict['interleave']=='BAND':\n",
    "      img_shape=(img_info_dict['nbands'],img_info_dict['row'],img_info_dict['col'])\n",
    "    elif img_info_dict['interleave']=='LINE':\n",
    "      img_shape=(img_info_dict['row'],img_info_dict['nbands'],img_info_dict['col'])\n",
    "    elif img_info_dict['interleave']=='PIXEL':\n",
    "      img_shape=(img_info_dict['row'],img_info_dict['col'],img_info_dict['nbands'])\n",
    "\n",
    "    img_mem_pt = np.memmap(in_bin,dtype=dtype_dict[img_info_dict['DataType']], mode='r',\n",
    "                                  shape = img_shape)            \n",
    "    return img_mem_pt\n",
    "\n",
    "def read_image_info(in_bin, band_thres=20):\n",
    "\n",
    "    ds = gdal.Open(in_bin)\n",
    "    nbands = ds.RasterCount\n",
    "    col = ds.RasterXSize\n",
    "    row = ds.RasterYSize\n",
    "    \n",
    "    if nbands>=band_thres: # reflectance dataset\n",
    "        wave_list = [ float(ds.GetRasterBand(ii+1).GetMetadata()['wavelength'])  for ii in range(nbands)]\n",
    "        bname_list=None\n",
    "    else:  #other dataset\n",
    "        wave_list=None\n",
    "        bname_list = [ ds.GetRasterBand(ii+1).GetDescription()  for ii in range(nbands)]\n",
    "\n",
    "    md = ds.GetMetadata('IMAGE_STRUCTURE')\n",
    "    \n",
    "    proj_str = ds.GetProjection()\n",
    "    gt = ds.GetGeoTransform()  \n",
    "    img_dtype = ds.GetRasterBand(1).DataType\n",
    "    \n",
    "    ds=None\n",
    "    return {\n",
    "        'wave_list':wave_list,\n",
    "        'bname_list':bname_list,\n",
    "        'proj_str':proj_str,\n",
    "        'interleave':md[\"INTERLEAVE\"],\n",
    "        'col':col,\n",
    "        'row':row,\n",
    "        'nbands':nbands,\n",
    "        'DataType':img_dtype,\n",
    "        'gt':gt\n",
    "    }\n",
    "\n",
    "def get_model_valie_range(model_coeffs):\n",
    "    model_zero_list=np.all(model_coeffs==0,axis=0).astype(np.int8)\n",
    "    diff1 = model_zero_list[1:]-model_zero_list[:-1]\n",
    "    flag1=np.where(diff1==-1)[0]\n",
    "    flag2= np.where(diff1==1)[0]\n",
    "    \n",
    "    valid_range_list=[]\n",
    "    for jj in range(flag1.shape[0]):\n",
    "        valid_range_list+=[[flag1[jj]+1,flag2[jj]+1]]\n",
    "    \n",
    "    return valid_range_list\n",
    "\n",
    "def get_image_good_range(wavelist,bad_range):\n",
    "    good_mask = np.ones(len(wavelist))\n",
    "    list_array = np.array(wavelist)\n",
    "    for wave_min, wave_max in bad_range:\n",
    "        good_mask[(list_array>wave_min) & (list_array<wave_max)]=0\n",
    "        \n",
    "    return good_mask.astype(bool)"
   ]
  },
  {
   "cell_type": "code",
   "execution_count": null,
   "id": "cbd8ff4f-e853-49f3-a097-bfb9dabecbd7",
   "metadata": {},
   "outputs": [],
   "source": [
    "def process_chunk(chunk,coeffs, intercept, model_valid_range,img_good_range):\n",
    "    \n",
    "    # assum chunk is BIL based: n_row * n_band * n_col\n",
    "    mask = (chunk[:,10,:]<-9000)\n",
    "    norm_chunk = chunk / np.linalg.norm(chunk[:,img_good_range,:],axis=1)[:,None,:]\n",
    "\n",
    "    trait_est = np.zeros((chunk.shape[0],\n",
    "                          chunk.shape[2],\n",
    "                          2))\n",
    "                          \n",
    "    trait_pred = np.zeros((chunk.shape[0],\n",
    "                           coeffs.shape[0],\n",
    "                          chunk.shape[2]))\n",
    "                                    \n",
    "    for band_start, band_end in model_valid_range:\n",
    "        trait_pred += np.einsum('jlk,ml->jmk',norm_chunk[:,band_start:band_end,:],coeffs[:,band_start:band_end], optimize='optimal')\n",
    "        \n",
    "    trait_pred = trait_pred + intercept[None,:,None]\n",
    "    trait_est[:,:,0] = trait_pred.mean(axis=1)\n",
    "    trait_est[:,:,1] = trait_pred.std(ddof=1,axis=1)\n",
    "    trait_est[:,:,0][mask]=-9999\n",
    "    trait_est[:,:,1][mask]=-9999\n",
    "    return trait_est\n",
    "\n",
    "def process_chunk_dask(chunk0,coeffs, intercept, model_valid_range,img_good_range):\n",
    "    \n",
    "    # assum chunk is BIL based: n_row * n_band * n_col    \n",
    "    mask = (chunk0[:,10,:]<-9000)\n",
    "    \n",
    "    chunk = da.from_array(chunk0, chunks=(8,chunk0.shape[1],chunk0.shape[2]))    \n",
    "    \n",
    "    norm_chunk = chunk / da.linalg.norm(chunk[:,img_good_range,:],axis=1)[:,None,:]\n",
    "\n",
    "    trait_est = np.zeros((chunk.shape[0],\n",
    "                          chunk.shape[2],\n",
    "                          2))\n",
    "                          \n",
    "    trait_pred = np.zeros((chunk.shape[0],\n",
    "                           coeffs.shape[0],\n",
    "                          chunk.shape[2]))                    \n",
    "                                    \n",
    "    for band_start, band_end in model_valid_range:\n",
    "        trait_pred += da.einsum('jlk,ml->jmk',norm_chunk[:,band_start:band_end,:],coeffs[:,band_start:band_end], optimize='optimal').compute()\n",
    "        \n",
    "    trait_pred = trait_pred + intercept[None,:,None]\n",
    "    trait_est[:,:,0] = trait_pred.mean(axis=1)\n",
    "    trait_est[:,:,1] = trait_pred.std(ddof=1,axis=1)\n",
    "    trait_est[:,:,0][mask]=-9999\n",
    "    trait_est[:,:,1][mask]=-9999\n",
    "    return trait_est"
   ]
  },
  {
   "cell_type": "code",
   "execution_count": null,
   "id": "567e4371-83bd-4918-8495-02e7262baf1b",
   "metadata": {},
   "outputs": [],
   "source": [
    "def load_json_coeff(in_coeff_json, image_wave):\n",
    "    with open(in_coeff_json) as j_file:\n",
    "        coef_dict_new=json.load(j_file)\n",
    "        \n",
    "        model_wave_new = np.array(coef_dict_new['wavelengths'])\n",
    "        model_intercept_new = np.array(coef_dict_new['intercepts'])\n",
    "        model_coeff_2d_new = np.array(coef_dict_new['coefficients'])\n",
    "\n",
    "        input_weight_0 = np.identity(image_wave.shape[0])\n",
    "        interp_func_1d_new = interpolate.interp1d(image_wave,input_weight_0 , kind='nearest', axis=1, bounds_error=None, fill_value='extrapolate') # from image wavelength to model wavelength\n",
    "\n",
    "        output_weight_new=interp_func_1d_new(model_wave_new)\n",
    "\n",
    "        update_coeff_new  = model_coeff_2d_new@output_weight_new.T\n",
    "\n",
    "        return update_coeff_new, model_intercept_new.ravel()\n",
    "        "
   ]
  },
  {
   "cell_type": "markdown",
   "id": "e5260b1a-60a3-4be8-8346-4a8b61034031",
   "metadata": {},
   "source": [
    "#### Load input image and create output image"
   ]
  },
  {
   "cell_type": "code",
   "execution_count": null,
   "id": "6e0afff1-46c1-4442-a853-9bc2781b513b",
   "metadata": {},
   "outputs": [],
   "source": [
    "img_info_dict = read_image_info(in_img)\n",
    "img_good_range=get_image_good_range(img_info_dict['wave_list'],bad_range)\n",
    "\n",
    "create_empty_image((img_info_dict['row'],img_info_dict['col']),gdal.GDT_Float32, img_info_dict['gt'], img_info_dict['proj_str'], out_trait_img_bname)\n",
    "\n",
    "virtual_array = image_memmap(in_img, img_info_dict)\n",
    "\n",
    "trait_img_mem_pt = np.memmap(out_trait_img_bname,dtype=dtype_dict[img_info_dict['DataType']], mode='w+',\n",
    "                                  shape = (img_info_dict['row'],img_info_dict['col'],2))"
   ]
  },
  {
   "cell_type": "markdown",
   "id": "166bd4b9-f90d-4e7b-a47a-00423498da73",
   "metadata": {},
   "source": [
    "#### Load trait model"
   ]
  },
  {
   "cell_type": "code",
   "execution_count": null,
   "id": "be0b5e91-28fa-404c-af5a-a8579472f942",
   "metadata": {},
   "outputs": [],
   "source": [
    "model_coeffs, model_interception = load_json_coeff(in_coeff_json, np.array(img_info_dict['wave_list']))\n",
    "\n",
    "model_valid_range=get_model_valie_range(model_coeffs)\n",
    "print(model_valid_range)\n",
    "\n",
    "print(f\"Coefficients models: {model_coeffs.shape[0]},\\nBands: {model_coeffs.shape[1]}\")"
   ]
  },
  {
   "cell_type": "markdown",
   "id": "0c6832b8-096c-4b7e-bfe4-ed58da97ab18",
   "metadata": {},
   "source": [
    "#### Write data to output image"
   ]
  },
  {
   "cell_type": "code",
   "execution_count": null,
   "id": "8c54cde4-84ef-4bcf-a578-b51c06abf2f3",
   "metadata": {},
   "outputs": [],
   "source": [
    "if bool_dask:\n",
    "    for row_ind_0 in range(0, img_info_dict['row'], line_block_size):\n",
    "        row_start = row_ind_0\n",
    "        row_end = min(row_start+line_block_size,img_info_dict['row']+1)\n",
    "        trait_img_mem_pt[row_start:row_end,:,:] = process_chunk_dask(virtual_array[row_start:row_end,:,:],model_coeffs, model_interception, model_valid_range,img_good_range)\n",
    "else:\n",
    "    for row_ind_0 in range(0, img_info_dict['row'], line_block_size):\n",
    "        row_start = row_ind_0\n",
    "        row_end = min(row_start+line_block_size,img_info_dict['row']+1)\n",
    "        trait_img_mem_pt[row_start:row_end,:,:] = process_chunk(virtual_array[row_start:row_end,:,:],model_coeffs, model_interception, model_valid_range,img_good_range)        "
   ]
  },
  {
   "cell_type": "markdown",
   "id": "b292e5d7-2cae-4ccd-9852-0824a09d7e74",
   "metadata": {},
   "source": [
    "#### View the image RGB"
   ]
  },
  {
   "cell_type": "code",
   "execution_count": null,
   "id": "2fafeb43-e75b-4ae4-ba20-c573aa0f6610",
   "metadata": {},
   "outputs": [],
   "source": [
    "# Display the RGB image\n",
    "plt.figure(figsize=(10, 8))\n",
    "plt.imshow(np.dstack((virtual_array[:, 57, :]+0.4, virtual_array[:, 35, :]+0.4, virtual_array[:, 13, :]+0.4)))\n",
    "plt.title(\"RGB Image\")\n",
    "plt.show()"
   ]
  },
  {
   "cell_type": "markdown",
   "id": "0b36f298-4adc-4d3b-8bf9-e641c250526e",
   "metadata": {},
   "source": [
    "#### Visualize the first band (mean) of the trait map"
   ]
  },
  {
   "cell_type": "code",
   "execution_count": null,
   "id": "a47a29ea-7884-4e04-954c-bde8230c49f8",
   "metadata": {},
   "outputs": [],
   "source": [
    "plt.figure(figsize=(10, 8))\n",
    "plt.imshow(trait_img_mem_pt[:, :, 0], cmap='viridis',vmin=0,vmax=15)\n",
    "plt.colorbar(label=\"Mean Trait Value\")\n",
    "plt.title(\"Mean Trait\")\n",
    "plt.show()"
   ]
  },
  {
   "cell_type": "markdown",
   "id": "2da4fb7f-c5e1-4ecd-86bd-d6a2aa4786c3",
   "metadata": {},
   "source": [
    "#### Visualize the second band (uncertainty) of the trait map"
   ]
  },
  {
   "cell_type": "code",
   "execution_count": null,
   "id": "483119bd-d0b7-413b-a540-d44e65e165eb",
   "metadata": {},
   "outputs": [],
   "source": [
    "plt.figure(figsize=(10, 8))\n",
    "plt.imshow(trait_img_mem_pt[:, :, 1], cmap='viridis',vmin=0,vmax=2)\n",
    "plt.colorbar(label=\"Trait Uncertainty\")\n",
    "plt.title(\"Trait Uncertainty\")\n",
    "plt.show()"
   ]
  },
  {
   "cell_type": "markdown",
   "id": "97124230-8330-4515-8c2f-8fcb75ef9931",
   "metadata": {},
   "source": [
    "#### Close files"
   ]
  },
  {
   "cell_type": "code",
   "execution_count": null,
   "id": "a775b09b-2c7e-4eab-b4c4-6d809708d4bb",
   "metadata": {},
   "outputs": [],
   "source": [
    "coefd_df=None\n",
    "trait_img_mem_pt=None\n",
    "virtual_array=None"
   ]
  }
 ],
 "metadata": {
  "kernelspec": {
   "display_name": "Python 3 (ipykernel)",
   "language": "python",
   "name": "python3"
  },
  "language_info": {
   "codemirror_mode": {
    "name": "ipython",
    "version": 3
   },
   "file_extension": ".py",
   "mimetype": "text/x-python",
   "name": "python",
   "nbconvert_exporter": "python",
   "pygments_lexer": "ipython3",
   "version": "3.12.3"
  }
 },
 "nbformat": 4,
 "nbformat_minor": 5
}

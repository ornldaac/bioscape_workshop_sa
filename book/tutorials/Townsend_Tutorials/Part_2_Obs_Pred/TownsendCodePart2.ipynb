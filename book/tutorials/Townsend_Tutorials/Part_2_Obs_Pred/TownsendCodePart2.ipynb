{
 "cells": [
  {
   "cell_type": "markdown",
   "id": "d24930ba",
   "metadata": {},
   "source": [
    "# Townsend Part 2: Plotting the observed vs. predicted\n",
    "\n",
    "Code Contributor: Prabu Ravindran\n"
   ]
  },
  {
   "cell_type": "code",
   "execution_count": 11,
   "id": "3034237b",
   "metadata": {},
   "outputs": [],
   "source": [
    "%matplotlib inline\n",
    "from typing import List, Dict\n",
    "from pathlib import Path\n",
    "import json\n",
    "import pandas as pd\n",
    "import numpy as np\n",
    "import matplotlib\n",
    "import matplotlib.pyplot as plt\n",
    "\n",
    "from demo_utils import *"
   ]
  },
  {
   "cell_type": "code",
   "execution_count": 12,
   "id": "d9a5a174",
   "metadata": {},
   "outputs": [],
   "source": [
    "trait_cols = ['Nitrogen_CWM', 'Carbon_CWM', 'LMA_CWM', 'Water_CWM']\n",
    "data_csv = 'compatible_SpectraCWM.csv'"
   ]
  },
  {
   "cell_type": "code",
   "execution_count": 13,
   "id": "377b19e4",
   "metadata": {},
   "outputs": [
    {
     "name": "stdout",
     "output_type": "stream",
     "text": [
      "W.shape = (5, 353), b.shape = (1, 5)\n",
      "X_full.shape = (102, 353)\n",
      "predictions.shape = (102, 5), mean_predictions.shape = (102,), sdev_predictions.shape = (102,)\n"
     ]
    },
    {
     "data": {
      "image/png": "[encoded data removed]",
      "text/plain": [
       "<Figure size 432x288 with 1 Axes>"
      ]
     },
     "metadata": {
      "needs_background": "light"
     },
     "output_type": "display_data"
    }
   ],
   "source": [
    "# load the model\n",
    "# Change index of trait_cols[] to evaluate different trait\n",
    "trait_col = trait_cols[2]\n",
    "with open(f'{trait_col}_model_file.json', 'r') as reader:\n",
    "    d = json.load(reader)\n",
    "W = np.array(d['coefficients'])\n",
    "b = np.array(d['intercepts']).T\n",
    "print(f'{W.shape = }, {b.shape = }')\n",
    "\n",
    "# Change index of trait_cols[] to evaluate different trait\n",
    "# get the data\n",
    "(X_full, y_full, wavelengths) = read_data(data_csv=data_csv, trait_col=trait_cols[2])\n",
    "# preprocessing\n",
    "# remove bad bands\n",
    "(X_full, waves) = bad_bands_removal(X_full, wavelengths)\n",
    "# unit vector normalization\n",
    "X_full = unit_vector_normalization(X_full)\n",
    "print(f'{X_full.shape = }')\n",
    "\n",
    "# make predictions with all models\n",
    "# get the mean predictions as the sample predictions\n",
    "# the standard deviation of the predictions is the uncertainty\n",
    "predictions = X_full@W.T + b\n",
    "mean_predictions, sdev_predictions = np.mean(predictions, axis=1), np.std(predictions, axis=1)\n",
    "print(f'{predictions.shape = }, {mean_predictions.shape = }, {sdev_predictions.shape = }')\n",
    "\n",
    "fig, ax = plt.subplots()\n",
    "\n",
    "ax.axline((1, 1), slope=1, color='black', linestyle='--')\n",
    "m, b = np.polyfit(y_full, mean_predictions, deg=1)\n",
    "ax.axline((0, b), slope=m, color='black', linestyle='-')\n",
    "ax.errorbar(y_full, mean_predictions, yerr=sdev_predictions, fmt='none', zorder=0, ecolor='#ccccff')\n",
    "ax.scatter(y_full, mean_predictions, color='#3232ff', zorder=1, s=2)\n",
    "ax.set_xlabel('True')\n",
    "ax.set_ylabel('Prediction')\n",
    "\n",
    "plt.axis('scaled')\n",
    "plt.show()\n",
    "plt.close()"
   ]
  },
  {
   "cell_type": "code",
   "execution_count": null,
   "id": "3dc82946",
   "metadata": {},
   "outputs": [],
   "source": []
  }
 ],
 "metadata": {
  "kernelspec": {
   "display_name": "Python 3 (ipykernel)",
   "language": "python",
   "name": "python3"
  },
  "language_info": {
   "codemirror_mode": {
    "name": "ipython",
    "version": 3
   },
   "file_extension": ".py",
   "mimetype": "text/x-python",
   "name": "python",
   "nbconvert_exporter": "python",
   "pygments_lexer": "ipython3",
   "version": "3.8.8"
  }
 },
 "nbformat": 4,
 "nbformat_minor": 5
}

{
 "cells": [
  {
   "cell_type": "markdown",
   "id": "b69cb867-e200-4b7d-8611-74a73f1a2160",
   "metadata": {},
   "source": [
    "# Exploring and Visualizing BioSCape PRISM Data\n",
    "## BioSCape Data Skills Workshop: From the Field to the Image\n",
    "![Bioscape](images/121229-87.png)\n",
    "\n",
    "[**BioSCape**](https://www.bioscape.io/), the Biodiversity Survey of the Cape, is NASA’s first biodiversity-focused airborne and field campaign that was conducted in South Africa in 2023. BioSCape’s primary objective is to study the structure, function, and composition of the region’s ecosystems, and how and why they are changing. \n",
    "\n",
    "BioSCape's airborne dataset is unprecedented, with `AVIRIS-NG`, `PRISM`, and `HyTES` imaging spectrometers capturing spectral data across the UV, visible and infrared at high resolution and `LVIS` acquiring coincident full-waveform lidar. BioSCape's `field dataset` is equally impressive, with 18 PI-led projects collecting data ranging from the diversity and phylogeny of plants, kelp and phytoplankton, eDNA, landscape acoustics, plant traits, blue carbon accounting, and more\n",
    "\n",
    "This workshop will equip participants with the skills to find, subset, and visualize the various BioSCape field and airborne (imaging spectroscopy and full-waveform lidar) data sets. Participants will learn data skills through worked examples in terrestrial and aquatic ecosystems, including: wrangling lidar data, performing band math calculations, calculating spectral diversity metrics, machine learning and image classification, and mapping functional traits using partial least squares regression. The workshop format is a mix of expert talks and interactive coding notebooks and will be run through the BioSCape Cloud computing environment.\n",
    "\n",
    "**Date:** October 9 - 11, 2024 Cape Town, South Africa</center>\n",
    "\n",
    "**Host:** NASA’s Oak Ridge National Laboratory Distributed Active Archive Center (ORNL DAAC), in close collaboration with BioSCape, the South African Environmental Observation Network (SAEON), the University of Wisconsin Madison (Phil Townsend), The Nature Conservancy (Glenn Moncrieff), the University of California Merced (Erin Hestir), the University of Cape Town (Jasper Slingsby), Jet Propulsion Laboratory (Kerry Cawse-Nicholson), and UNESCO.\n",
    "\n",
    "**Instructors:** \n",
    "- In-person contributors: Anabelle Cardoso, Erin Hestir, Phil Townsend, Henry Frye, Glenn Moncrieff, Jasper Slingsby, Michele Thornton, Rupesh Shrestha\n",
    "- Virtual contributors: Kerry Cawse-Nicholson, Nico Stork, Kyle Kovach\n",
    "\n",
    "**Audience:** This training is primarily intended for government natural resource management agency representatives and field technicians in South Africa, as well as local academics and students, especially those connected to the BioSCape Team. "
   ]
  },
  {
   "cell_type": "markdown",
   "id": "e9aa5c10-cd40-4040-8a12-648ad6f40118",
   "metadata": {},
   "source": [
    "## Overview \n",
    "\n",
    "This tutorial will demonstrate accessing and visualizing PRISM data available on the BioSCape SMCE.  The data available data are L2 reflectance data in ENVI file formats.\n",
    "\n",
    "The **Portable Remote Imaging Spectrometer (PRISM)** is comprised of a pushbroom imaging spectrometer covering the near UV to near IR range (350-1050 nm) and a separate spot radiometer. The PRISM two-channel spot radiometer at short-wave infrared (SWIR) bands (1240 nm and 1640 nm) provides accurate atmospheric correction of ocean and aquatic color measurements.  \n",
    "\n",
    "- pushbroom imaging spectrometer\n",
    "- two-channel spot radiometer\n",
    "\n",
    "PRISM was developed by the Jet Propulsion Laboratory (JPL) to survey coastal zones.  Coastal zones are home to a high fraction of humanity and are increasingly affected by natural and human-induced events from tsunamis to toxic blooms and oil spills. PRISM is a compact, lightweight imaging spectroMeter compatible with a wide range of piloted and Uninhabited Aerial Vehicle (UAV) platforms.  \n",
    "    \n",
    "![Image Cube](images/index_main_image_rs.png)\n",
    "\n",
    "\n",
    "| Dataset | Description | \n",
    "| -------- | --- |\n",
    "| L1B | Resampled calibrated data in units of spectral radiance.  Observed geometry and illumination parameters |\n",
    "| L2 | Orthocorrected and atmospherically corrected reflectance data.   (246 Spectral bands)|\n",
    "\n",
    "### Learning Objectives\n",
    "1.  Mount BioSCape SMCE S3 BioSCape object storage and explore file content\n",
    "2.  Examine PRISM Reflectance ENVI data using GDAL\n",
    "3.  Visualize a flight line of PRISM L2 data\n",
    "4.  Extract and graph spectral profiles for point locations\n",
    "5.  Create and save a 3-band RGB GeoTIFF file from the PRISM ENVI file\n",
    "6.  Visualize the true color geoTIFF in QGIS\n",
    "\n",
    "### Requirements\n"
   ]
  },
  {
   "cell_type": "markdown",
   "id": "69af23b1-8aae-44c7-860d-ca47e483dd99",
   "metadata": {},
   "source": [
    "### Load Python Modules"
   ]
  },
  {
   "cell_type": "code",
   "execution_count": null,
   "id": "1825a20c-ae71-4a5e-8f9d-684ecdae64d6",
   "metadata": {},
   "outputs": [],
   "source": [
    "import s3fs\n",
    "import matplotlib.pyplot as plt\n",
    "from osgeo import gdal\n",
    "import numpy as np\n",
    "import pandas as pd\n",
    "from os import path\n",
    "import rioxarray\n",
    "gdal.UseExceptions()"
   ]
  },
  {
   "cell_type": "markdown",
   "id": "9c98a703-3765-4031-b381-614990c7bb01",
   "metadata": {},
   "source": [
    "## Explore the BioSCape SMCE S3 PRISM data holdings\n",
    "\n",
    "Let's start by exploring the BioSCape Airborne currently data available on the cloud in Amazon Storage. This AWS S3 storage is specific to the SMCE that provides data access and analytics environment to the BioSCape Science Team as well as interested researchers.  \n",
    "We'll learn how to mount the S3 object storage on our local environment, as well as learning how to bring other data to the analysis.\n",
    "\n",
    "- **SMCE** = Science Managed Cloud Environment\n",
    "- **S3** = Amazon Simple Storage Service (S3) is a cloud storage service that allows users to store and retrieve data\n",
    "- **S3Fs** is a `Pythonic` open source tool that mounts S3 object storage locally.  S3Fs provides a filesystem-like interface for accessing objects on S3.\n",
    "    - The top-level class **`S3FileSystem`** holds connection information and allows typical file-system style operations like `ls`\n",
    "    - `ls` is a UNIX command to list computer files and directories"
   ]
  },
  {
   "cell_type": "code",
   "execution_count": null,
   "id": "dcf00951-817a-4ac6-8f36-996298d5eb14",
   "metadata": {},
   "outputs": [],
   "source": [
    "# Use S3Fs to list the BioSCape data on the BioSCape SMCE S3 storaage\n",
    "s3 = s3fs.S3FileSystem(anon=False)\n",
    "files = s3.ls('bioscape-data/')\n",
    "files"
   ]
  },
  {
   "cell_type": "markdown",
   "id": "8307c9ab-907c-4449-b0d4-71f54b27b63c",
   "metadata": {},
   "source": [
    "### Portable Remote Imaging Spectrometer (PRISM)"
   ]
  },
  {
   "cell_type": "code",
   "execution_count": null,
   "id": "e9d028fc-c863-4c60-8922-6388ffecdd47",
   "metadata": {},
   "outputs": [],
   "source": [
    "PRISM_flightlines = s3.ls('bioscape-data/PRISM')\n",
    "PRISM_flightlines"
   ]
  },
  {
   "cell_type": "markdown",
   "id": "ddeb24a6-62b6-45ea-93c2-635473a54180",
   "metadata": {},
   "source": [
    "### There are Level 2 (L2) Reflectance data for PRISM in the BioSCape SCME"
   ]
  },
  {
   "cell_type": "code",
   "execution_count": null,
   "id": "74aafdf3-7819-4a82-863a-b8835c7971eb",
   "metadata": {},
   "outputs": [],
   "source": [
    "PRISM_flightlines = s3.ls('bioscape-data/PRISM/L2')\n",
    "PRISM_flightlines[:10]\n",
    "#PRISM_flightlines"
   ]
  },
  {
   "cell_type": "code",
   "execution_count": null,
   "id": "8261058a-3809-4206-9e48-ebbc28f80e0f",
   "metadata": {},
   "outputs": [],
   "source": [
    "PRISM_flights_cnt = [x for x in PRISM_flightlines if x.endswith('rfl_ort')]\n",
    "len(PRISM_flights_cnt)"
   ]
  },
  {
   "cell_type": "markdown",
   "id": "956b4135-3659-46d3-8211-8906d281c2f5",
   "metadata": {},
   "source": [
    "### There are 84 PRISM flight lines in the BioSCape SMCE\n",
    "\n",
    "- PRISM files on the SMCE in ENVI file formats which are binary/header pairs\n",
    "    - prm20231126t080430_rfl_ort.hdr  \n",
    "    - prm20231126t080430_rfl_ort\n",
    "- Let's examine the header file of one of the ENVI tiles"
   ]
  },
  {
   "cell_type": "code",
   "execution_count": null,
   "id": "b556d5fb-8694-4c13-928b-cd519a1cee92",
   "metadata": {},
   "outputs": [],
   "source": [
    "# The next block prints only the first 12 lines of the header file. \n",
    "# Uncomment to see the whole header file\n",
    "\n",
    "#hdr_link = 'bioscape-data/PRISM/L2/prm20231126t080430_rfl_ort.hdr'\n",
    "#with s3.open(hdr_link, mode='r') as hdr:\n",
    "#    lines = (hdr.read())\n",
    "#    print(lines)  "
   ]
  },
  {
   "cell_type": "code",
   "execution_count": null,
   "id": "121f2024-af9d-4756-b9bf-d286f4697267",
   "metadata": {},
   "outputs": [],
   "source": [
    "# print the first 12 lines of the header file\n",
    "hdr_link = 'bioscape-data/PRISM/L2/prm20231126t080430_rfl_ort.hdr'\n",
    "hdr_link\n",
    "\n",
    "with s3.open(hdr_link, mode='r') as hdr:\n",
    "    for i in range(12):\n",
    "        line = next(hdr).strip()\n",
    "        print(line)  "
   ]
  },
  {
   "cell_type": "markdown",
   "id": "fd4843f7-641f-4521-b183-1aef5a0233e2",
   "metadata": {},
   "source": [
    "**`map info`** provides:\n",
    "- `Projection:` UTM, Zone 34, South, WGS-84\n",
    "- `Pixel Size:` 2.5 x 2.5 meters\n",
    "- `Grid Rotation:`  -81 degrees"
   ]
  },
  {
   "cell_type": "markdown",
   "id": "1c21809b-ffad-4aa6-816d-304e5b03c35b",
   "metadata": {},
   "source": [
    "## Examine PRISM Reflectance Data as a GDAL Raster Dataset\n",
    "\n",
    "- **`GDAL`** (Geospatial Data Abstraction Library) is a translator library for raster and vector geospatial data formats\n",
    "\n",
    "In this step, we will use GDAL to examine the PRISM reflectance data that is in ENVI binary format (a proprietary, but common distribution format)  \n",
    "- We need to configure our S3 credentials for GDAL\n",
    "- The GDAL utility expects S3 links to be formated with the `GDAL virtual file system (VSI)` S3 path.  We therefore have to use the VSI path to access the files with GDAL.  We'll substitute the S3 link with the VSI (`vsis3`) link(s). "
   ]
  },
  {
   "cell_type": "code",
   "execution_count": null,
   "id": "3476bdca-5e16-4528-a841-42837b20edd8",
   "metadata": {},
   "outputs": [],
   "source": [
    "rfl_link = 'bioscape-data/PRISM/L2/prm20231126t080430_rfl_ort'"
   ]
  },
  {
   "cell_type": "code",
   "execution_count": null,
   "id": "5af839f5-a8fc-433f-97a8-df6c32eb0b4f",
   "metadata": {},
   "outputs": [],
   "source": [
    "image_open = gdal.Open(path.join('/vsis3', rfl_link))\n",
    "#image_open.GetMetadata()"
   ]
  },
  {
   "cell_type": "code",
   "execution_count": null,
   "id": "72792054-1a89-4473-b5ae-bbb611843286",
   "metadata": {
    "scrolled": true
   },
   "outputs": [],
   "source": [
    "# lists of band numbers and band center\n",
    "band_numbers = [int(b.split(\"_\")[1]) for b in image_open.GetMetadata().keys() if b != \"wavelength_units\"]\n",
    "band_wavelength = [float(b.split(\" \")[0]) for b in image_open.GetMetadata().values() if b != \"Nanometers\"]\n",
    "\n",
    "# data frame describing bands\n",
    "bands = pd.DataFrame({ \n",
    "    \"Band number\": band_numbers, \n",
    "    \"Band wavelength (nm)\": band_wavelength}, index = band_wavelength).sort_index()\n",
    "\n",
    "print(bands.to_string())"
   ]
  },
  {
   "cell_type": "code",
   "execution_count": null,
   "id": "02b1ae4d-da6a-4199-b297-0aa74623ee01",
   "metadata": {},
   "outputs": [],
   "source": [
    "# need to sort the wavelengths for later plotting\n",
    "band_wavelength.sort()\n",
    "#print(band_wavelength)"
   ]
  },
  {
   "cell_type": "code",
   "execution_count": null,
   "id": "3000b018-d90b-475a-b781-66d7afa620ae",
   "metadata": {},
   "outputs": [],
   "source": [
    "# Open the PRISM ENVI file and read the file bands, row, cols\n",
    "#image_open = gdal.Open(gdal_url)\n",
    "\n",
    "nbands = image_open.RasterCount\n",
    "nrows = image_open.RasterYSize\n",
    "ncols = image_open.RasterXSize\n",
    "\n",
    "print(\"\\n\".join([\"Bands:\\t\"+str(nbands), \"Rows:\\t\"+str(nrows), \"Cols:\\t\"+str(ncols)]))"
   ]
  },
  {
   "cell_type": "code",
   "execution_count": null,
   "id": "0be80a17-3c14-47a7-b6d2-570f00d7f6d7",
   "metadata": {},
   "outputs": [],
   "source": [
    "# GDAL can interpret the ENVI Header the projection information\n",
    "print(\"ENVI image WKT: \\n\"+str(image_open.GetProjection()))\n",
    "image_proj = image_open.GetProjection()"
   ]
  },
  {
   "cell_type": "markdown",
   "id": "47bc2539-f66b-4414-a2ce-34891794a55a",
   "metadata": {},
   "source": [
    "### Using GDAL to read a raster file as a numerical array\n",
    "- convert an existing `Gdal Dataset` or a Band into a numpy array with the `ReadAsArray()` function"
   ]
  },
  {
   "cell_type": "code",
   "execution_count": null,
   "id": "4535a68f-598c-4fe8-86dc-e91875fda083",
   "metadata": {},
   "outputs": [],
   "source": [
    "#### This block takes a while to run.  The output is provided as an image below this block for workshop convenience.  \n",
    "\n",
    "#### uncomment ONE of the GetRaseterBand lines to GetRasterBand or plot.  \n",
    "#### The img_red is shown in the plot.\n",
    "\n",
    "#img_red = image_open.GetRasterBand(109).ReadAsArray()  # Band 109 is 657nm \n",
    "##img_green = image_open.GetRasterBand(70).ReadAsArray()  # Band 70 is 546nm \n",
    "####img_blue = image_open.GetRasterBand(47).ReadAsArray()  # Band 47 is 481nm \n",
    "#plt.scatter(300,770, color='red')\n",
    "#plt.scatter(75,770, color='black')\n",
    "#plt.rcParams['figure.figsize'] = [10,10]\n",
    "#plt.rcParams['figure.dpi'] = 100\n",
    "#plt.imshow(img_red, vmin=-0, vmax=.20)\n",
    "##plt.imshow(img_green, vmin=0, vmax=0.20)\n",
    "####plt.imshow(img_blue, vmin=0, vmax=0.20)\n",
    "#plt.colorbar()\n",
    "#plt.show()"
   ]
  },
  {
   "cell_type": "markdown",
   "id": "4dbc3d0e-c0e3-4a3b-abe7-04f8050258a3",
   "metadata": {},
   "source": [
    "![RGB Image](images/PRISM_redband2plots_grab.PNG)"
   ]
  },
  {
   "cell_type": "code",
   "execution_count": null,
   "id": "ddc4ed56-ef96-4e1c-9ece-18dceeb76481",
   "metadata": {},
   "outputs": [],
   "source": [
    "# Compare spectra of two different aquatic plots\n",
    "pixel1 = image_open.ReadAsArray(300, 770, 1, 1) #  pixel location: col, row\n",
    "pixel2 = image_open.ReadAsArray(75, 770, 1, 1) # pixel location: col, row\n",
    "pixel1 = np.reshape(pixel1, (246))\n",
    "pixel2 = np.reshape(pixel2, (246))\n",
    "\n",
    "plt.rcParams['figure.figsize'] = [15,7]\n",
    "plt.plot(band_wavelength, pixel1, color = 'red')\n",
    "plt.plot(band_wavelength, pixel2, color = 'black')\n",
    "plt.xlabel('PRISM Wavelength (nm)', fontsize=12)\n",
    "plt.ylabel('Reflectance', fontsize=12)\n",
    "plt.show()"
   ]
  },
  {
   "cell_type": "markdown",
   "id": "c33b4f3d-d184-4588-85ea-21d0258581d7",
   "metadata": {},
   "source": [
    "SEA WATER TURBIDITY ANALYSIS FROM SENTINEL-2 IMAGES: ATMOSPHERIC CORRECTION AND BANDS CORRELATION\n",
    "![sea water turbidity](images/turgidwater.png)\n",
    "Spectral signatures of water with sediments (orange), clear water (blue), water with chlorophyll content (green), water with Chromophoric Dissolved Organic Matter -CDOM (black). Rrs is the reflectance registered by the sensor. Source: Hafeez et al. (2018).  \n",
    "\n",
    "[SEA WATER TURBIDITY ANALYSIS FROM SENTINEL-2 IMAGES: ATMOSPHERIC CORRECTION AND BANDS CORRELATION](https://doi.org/10.5194/isprs-archives-XLVIII-4-W1-2022-371-2022)"
   ]
  },
  {
   "cell_type": "markdown",
   "id": "863ee982-1126-4b6f-abd4-fc6d99210c19",
   "metadata": {},
   "source": [
    "## Export R,G,B to a 3-band projected geoTIFF\n",
    "\n",
    "### GDAL's raster library uses the `GDALDataset` class to obtain properties of a raster image\n",
    "- GetRasterBand\n",
    "- GetProjection\n",
    "- GetGeoTransform"
   ]
  },
  {
   "cell_type": "code",
   "execution_count": null,
   "id": "6b9eb4bb-d719-4a1d-acb1-4d2ad4cdca9d",
   "metadata": {},
   "outputs": [],
   "source": [
    "img_red = image_open.GetRasterBand(109).ReadAsArray()  # Band 109 is 657nm red\n",
    "img_green = image_open.GetRasterBand(70).ReadAsArray()  # Band 70 is 546nm green\n",
    "img_blue = image_open.GetRasterBand(47).ReadAsArray()  # Band 47 is 481nm  blue\n",
    "\n",
    "outfile = ('prism_rgb.tif')\n",
    "rows = image_open.RasterYSize\n",
    "cols = image_open.RasterXSize\n",
    "datatype = image_open.GetRasterBand(1).DataType\n",
    "projection = image_open.GetProjection()\n",
    "transform = image_open.GetGeoTransform()\n",
    "\n",
    "driver = gdal.GetDriverByName(\"GTiff\")\n",
    "DataSetOut = driver.Create(outfile, cols, rows, 3, datatype)\n",
    "DataSetOut.GetRasterBand(1).WriteArray(img_red)\n",
    "DataSetOut.GetRasterBand(2).WriteArray(img_green)\n",
    "DataSetOut.GetRasterBand(3).WriteArray(img_blue)\n",
    "DataSetOut.SetProjection(projection)\n",
    "DataSetOut.SetGeoTransform(transform)\n",
    "DataSetOut = None"
   ]
  },
  {
   "cell_type": "markdown",
   "id": "69bcd91b-4a1f-46a4-8ba4-ec2338e683f7",
   "metadata": {},
   "source": [
    "### Open QGIS in the Hub Desktop, \n",
    "- From a **`Launcher`** tab, start the Desktop\n",
    "- At the bottom of the Desktop screen, use the Application Finder to find and launch QGIS\n",
    "- start QGIS,\n",
    "- using the **`Home`** file system, maneuver to the correct file folder containing the prism_rgb.tif file,\n",
    "- and view the prism_rgb.tif image you just created !\n",
    "    - HINT:  under Symbology, set the `Min/Max Value Settings` of the image in QGIS to Whole Raster | Actual (slow)\n",
    "    - HINT: under Transparency, set the `NoData` value to 0\n",
    "\n"
   ]
  },
  {
   "cell_type": "markdown",
   "id": "e5974265-8e83-4836-9330-8e753de8820a",
   "metadata": {},
   "source": [
    "![QGIS](images/Desktop_applicationfinder_QGIS.PNG)"
   ]
  },
  {
   "cell_type": "markdown",
   "id": "eddf4613-d295-4080-b866-ef5d1c904b58",
   "metadata": {},
   "source": [
    "- a copy of the output prism_rgb.tiff file is in the workshop folder `//shared/users/bioscape_ZA24workshop_data/RS_data/PRISM_Notebook`"
   ]
  }
 ],
 "metadata": {
  "kernelspec": {
   "display_name": "Python 3 (ipykernel)",
   "language": "python",
   "name": "python3"
  },
  "language_info": {
   "codemirror_mode": {
    "name": "ipython",
    "version": 3
   },
   "file_extension": ".py",
   "mimetype": "text/x-python",
   "name": "python",
   "nbconvert_exporter": "python",
   "pygments_lexer": "ipython3",
   "version": "3.10.13"
  }
 },
 "nbformat": 4,
 "nbformat_minor": 5
}

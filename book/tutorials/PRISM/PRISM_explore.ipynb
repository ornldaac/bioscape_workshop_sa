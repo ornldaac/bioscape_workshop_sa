{
 "cells": [
  {
   "cell_type": "markdown",
   "id": "b69cb867-e200-4b7d-8611-74a73f1a2160",
   "metadata": {},
   "source": [
    "# Exploring and Visualizing BioSCape PRISM Data\n",
    "## <center>BioSCape Data Skills Workshop: From the Field to the Image</center>\n",
    "<center><img src=\"images/121229-87.png\"/></center>\n",
    "\n",
    "[**BioSCape**](https://www.bioscape.io/), the Biodiversity Survey of the Cape, is NASA’s first biodiversity-focused airborne and field campaign that was conducted in South Africa in 2023. BioSCape’s primary objective is to study the structure, function, and composition of the region’s ecosystems, and how and why they are changing. \n",
    "\n",
    "BioSCape's airborne dataset is unprecedented, with `AVIRIS-NG`, `PRISM`, and `HyTES` imaging spectrometers capturing spectral data across the UV, visible and infrared at high resolution and `LVIS` acquiring coincident full-waveform lidar. BioSCape's `field dataset` is equally impressive, with 18 PI-led projects collecting data ranging from the diversity and phylogeny of plants, kelp and phytoplankton, eDNA, landscape acoustics, plant traits, blue carbon accounting, and more\n",
    "\n",
    "This workshop will equip participants with the skills to find, subset, and visualize the various BioSCape field and airborne (imaging spectroscopy and full-waveform lidar) data sets. Participants will learn data skills through worked examples in terrestrial and aquatic ecosystems, including: wrangling lidar data, performing band math calculations, calculating spectral diversity metrics, machine learning and image classification, and mapping functional traits using partial least squares regression. The workshop format is a mix of expert talks and interactive coding notebooks and will be run through the BioSCape Cloud computing environment.\n",
    "\n",
    "**Date:** October 9 - 11, 2024 Cape Town, South Africa</center>\n",
    "\n",
    "**Host:** NASA’s Oak Ridge National Laboratory Distributed Active Archive Center (ORNL DAAC), in close collaboration with BioSCape, the South African Environmental Observation Network (SAEON), the University of Wisconsin Madison (Phil Townsend), The Nature Conservancy (Glenn Moncrieff), the University of California Merced (Erin Hestir), the University of Cape Town (Jasper Slingsby), Jet Propulsion Laboratory (Kerry Cawse-Nicholson), and UNESCO.\n",
    "\n",
    "**Instructors:** \n",
    "- In-person contributors: Anabelle Cardoso, Erin Hestir, Phil Townsend, Henry Frye, Glenn Moncrieff, Jasper Slingsby, Michele Thornton, Rupesh Shrestha\n",
    "- Virtual contributors: Kerry Cawse-Nicholson, Nico Stork, Kyle Kovach\n",
    "\n",
    "**Audience:** This training is primarily intended for government natural resource management agency representatives and field technicians in South Africa, as well as local academics and students, especially those connected to the BioSCape Team. \n",
    "\n",
    "----"
   ]
  },
  {
   "cell_type": "markdown",
   "id": "e9aa5c10-cd40-4040-8a12-648ad6f40118",
   "metadata": {},
   "source": [
    "## Overview \n",
    "----\n",
    "\n",
    "This tutorial will demonstrate accessing and visualizing PRISM data available on the BioSCape SMCE.  The data available data are L2 reflectance data in ENVI file formats.\n",
    "\n",
    "The **Portable Remote Imaging Spectrometer (PRISM)** is comprised of a pushbroom imaging spectrometer covering the near UV to near IR range (350-1050 nm) and a separate spot radiometer. The PRISM two-channel spot radiometer at short-wave infrared (SWIR) bands (1240 nm and 1640 nm) provides accurate atmospheric correction of ocean and aquatic color measurements.  \n",
    "\n",
    "- pushbroom imaging spectrometer\n",
    "- two-channel spot radiometer\n",
    "\n",
    "PRISM was developed by the Jet Propulsion Laboratory (JPL) to survey coastal zones.  Coastal zones are home to a high fraction of humanity and are increasingly affected by natural and human-induced events from tsunamis to toxic blooms and oil spills. PRISM is a compact, lightweight imaging spectroMeter compatible with a wide range of piloted and Uninhabited Aerial Vehicle (UAV) platforms.  \n",
    "    \n",
    "\n",
    "<center><img src=\"images/index_main_image_rs.png\"/></center>\n",
    "\n",
    "| Dataset | Description | \n",
    "| -------- | --- |\n",
    "| L1B | Resampled calibrated data in units of spectral radiance.  Observed geometry and illumination parameters |\n",
    "| L2 | Orthocorrected and atmospherically corrected reflectance data.   (246 Spectral bands)|\n",
    "\n",
    "### Learning Objectives\n",
    "1.  Mount BioSCape SMCE S3 BioSCape object storage and explore file content\n",
    "2.  Examine PRISM Reflectance ENVI data using GDAL\n",
    "3.  Visualize a flight line of PRISM L2 data\n",
    "4.  Extract and graph spectral profiles for point locations\n",
    "5.  Create and save a 3-band RGB GeoTIFF file from the PRISM ENVI file\n",
    "6.  Visualize the true color geoTIFF in QGIS\n",
    "\n",
    "### Requirements\n",
    "----\n"
   ]
  },
  {
   "cell_type": "markdown",
   "id": "69af23b1-8aae-44c7-860d-ca47e483dd99",
   "metadata": {},
   "source": [
    "### Load Python Modules"
   ]
  },
  {
   "cell_type": "code",
   "execution_count": 1,
   "id": "1825a20c-ae71-4a5e-8f9d-684ecdae64d6",
   "metadata": {},
   "outputs": [],
   "source": [
    "import s3fs\n",
    "import matplotlib.pyplot as plt\n",
    "from osgeo import gdal\n",
    "import numpy as np\n",
    "import pandas as pd\n",
    "from os import path\n",
    "import rioxarray\n",
    "gdal.UseExceptions()"
   ]
  },
  {
   "cell_type": "markdown",
   "id": "9c98a703-3765-4031-b381-614990c7bb01",
   "metadata": {},
   "source": [
    "## Explore the BioSCape SMCE S3 PRISM data holdings\n",
    "\n",
    "Let's start by exploring the BioSCape Airborne currently data available on the cloud in Amazon Storage. This AWS S3 storage is specific to the SMCE that provides data access and analytics environment to the BioSCape Science Team as well as interested researchers.  \n",
    "We'll learn how to mount the S3 object storage on our local environment, as well as learning how to bring other data to the analysis.\n",
    "\n",
    "- **SMCE** = Science Managed Cloud Environment\n",
    "- **S3** = Amazon Simple Storage Service (S3) is a cloud storage service that allows users to store and retrieve data\n",
    "- **S3Fs** is a `Pythonic` open source tool that mounts S3 object storage locally.  S3Fs provides a filesystem-like interface for accessing objects on S3.\n",
    "    - The top-level class **`S3FileSystem`** holds connection information and allows typical file-system style operations like `ls`\n",
    "    - `ls` is a UNIX command to list computer files and directories"
   ]
  },
  {
   "cell_type": "code",
   "execution_count": 2,
   "id": "dcf00951-817a-4ac6-8f36-996298d5eb14",
   "metadata": {},
   "outputs": [
    {
     "data": {
      "text/plain": [
       "['bioscape-data/AVNG',\n",
       " 'bioscape-data/BioSCapeVegPolys2023_10_18',\n",
       " 'bioscape-data/BioSCapeVegPolys2023_10_18.geoparquet',\n",
       " 'bioscape-data/LVIS',\n",
       " 'bioscape-data/PRISM',\n",
       " 'bioscape-data/bioscape_avng.yaml']"
      ]
     },
     "execution_count": 2,
     "metadata": {},
     "output_type": "execute_result"
    }
   ],
   "source": [
    "# Use S3Fs to list the BioSCape data on the BioSCape SMCE S3 storaage\n",
    "s3 = s3fs.S3FileSystem(anon=False)\n",
    "files = s3.ls('bioscape-data/')\n",
    "files"
   ]
  },
  {
   "cell_type": "markdown",
   "id": "8307c9ab-907c-4449-b0d4-71f54b27b63c",
   "metadata": {},
   "source": [
    "### Portable Remote Imaging Spectrometer (PRISM)"
   ]
  },
  {
   "cell_type": "code",
   "execution_count": 3,
   "id": "e9d028fc-c863-4c60-8922-6388ffecdd47",
   "metadata": {},
   "outputs": [
    {
     "data": {
      "text/plain": [
       "['bioscape-data/PRISM/L2']"
      ]
     },
     "execution_count": 3,
     "metadata": {},
     "output_type": "execute_result"
    }
   ],
   "source": [
    "PRISM_flightlines = s3.ls('bioscape-data/PRISM')\n",
    "PRISM_flightlines"
   ]
  },
  {
   "cell_type": "markdown",
   "id": "ddeb24a6-62b6-45ea-93c2-635473a54180",
   "metadata": {},
   "source": [
    "### There are Level 2 (L2) Reflectance data for PRISM in the BioSCape SCME"
   ]
  },
  {
   "cell_type": "code",
   "execution_count": 4,
   "id": "74aafdf3-7819-4a82-863a-b8835c7971eb",
   "metadata": {},
   "outputs": [
    {
     "data": {
      "text/plain": [
       "['bioscape-data/PRISM/L2/prm20231022t141344_rfl_ort',\n",
       " 'bioscape-data/PRISM/L2/prm20231022t141344_rfl_ort.hdr',\n",
       " 'bioscape-data/PRISM/L2/prm20231025t060817_rfl_ort',\n",
       " 'bioscape-data/PRISM/L2/prm20231025t060817_rfl_ort.hdr',\n",
       " 'bioscape-data/PRISM/L2/prm20231025t062740_rfl_ort',\n",
       " 'bioscape-data/PRISM/L2/prm20231025t062740_rfl_ort.hdr',\n",
       " 'bioscape-data/PRISM/L2/prm20231025t063541_rfl_ort',\n",
       " 'bioscape-data/PRISM/L2/prm20231025t063541_rfl_ort.hdr',\n",
       " 'bioscape-data/PRISM/L2/prm20231025t064655_rfl_ort',\n",
       " 'bioscape-data/PRISM/L2/prm20231025t064655_rfl_ort.hdr']"
      ]
     },
     "execution_count": 4,
     "metadata": {},
     "output_type": "execute_result"
    }
   ],
   "source": [
    "PRISM_flightlines = s3.ls('bioscape-data/PRISM/L2')\n",
    "PRISM_flightlines[:10]\n",
    "#PRISM_flightlines"
   ]
  },
  {
   "cell_type": "code",
   "execution_count": 5,
   "id": "8261058a-3809-4206-9e48-ebbc28f80e0f",
   "metadata": {},
   "outputs": [
    {
     "data": {
      "text/plain": [
       "84"
      ]
     },
     "execution_count": 5,
     "metadata": {},
     "output_type": "execute_result"
    }
   ],
   "source": [
    "PRISM_flights_cnt = [x for x in PRISM_flightlines if x.endswith('rfl_ort')]\n",
    "len(PRISM_flights_cnt)"
   ]
  },
  {
   "cell_type": "markdown",
   "id": "956b4135-3659-46d3-8211-8906d281c2f5",
   "metadata": {},
   "source": [
    "### There are 84 PRISM flight lines in the BioSCape SMCE\n",
    "\n",
    "- PRISM files on the SMCE in ENVI file formats which are binary/header pairs\n",
    "    - prm20231126t080430_rfl_ort.hdr  \n",
    "    - prm20231126t080430_rfl_ort\n",
    "- Let's examine the header file of one of the ENVI tiles"
   ]
  },
  {
   "cell_type": "code",
   "execution_count": 6,
   "id": "b556d5fb-8694-4c13-928b-cd519a1cee92",
   "metadata": {},
   "outputs": [],
   "source": [
    "# The next block prints only the first 12 lines of the header file. \n",
    "# Uncomment to see the whole header file\n",
    "\n",
    "#hdr_link = 'bioscape-data/PRISM/L2/prm20231126t080430_rfl_ort.hdr'\n",
    "#with s3.open(hdr_link, mode='r') as hdr:\n",
    "#    lines = (hdr.read())\n",
    "#    print(lines)  "
   ]
  },
  {
   "cell_type": "code",
   "execution_count": 7,
   "id": "121f2024-af9d-4756-b9bf-d286f4697267",
   "metadata": {},
   "outputs": [
    {
     "name": "stdout",
     "output_type": "stream",
     "text": [
      "ENVI\n",
      "description = {\n",
      "}\n",
      "samples = 655\n",
      "lines = 2789\n",
      "bands = 246\n",
      "header offset = 0\n",
      "file type = ENVI\n",
      "data type = 4\n",
      "interleave = bil\n",
      "byte order = 0\n",
      "map info = {UTM, 1, 1, 334572.145865, 6235944.24235, 2.5, 2.5, 34, South, WGS-84, units=Meters, rotation=-81.0000000}\n"
     ]
    }
   ],
   "source": [
    "# print the first 12 lines of the header file\n",
    "hdr_link = 'bioscape-data/PRISM/L2/prm20231126t080430_rfl_ort.hdr'\n",
    "hdr_link\n",
    "\n",
    "with s3.open(hdr_link, mode='r') as hdr:\n",
    "    for i in range(12):\n",
    "        line = next(hdr).strip()\n",
    "        print(line)  "
   ]
  },
  {
   "cell_type": "markdown",
   "id": "fd4843f7-641f-4521-b183-1aef5a0233e2",
   "metadata": {},
   "source": [
    "**`map info`** provides:\n",
    "- `Projection:` UTM, Zone 34, South, WGS-84\n",
    "- `Pixel Size:` 2.5 x 2.5 meters\n",
    "- `Grid Rotation:`  -81 degrees"
   ]
  },
  {
   "cell_type": "markdown",
   "id": "1c21809b-ffad-4aa6-816d-304e5b03c35b",
   "metadata": {},
   "source": [
    "## Examine PRISM Reflectance Data as a GDAL Raster Dataset\n",
    "\n",
    "- **`GDAL`** (Geospatial Data Abstraction Library) is a translator library for raster and vector geospatial data formats\n",
    "\n",
    "In this step, we will use GDAL to examine the PRISM reflectance data that is in ENVI binary format (a proprietary, but common distribution format)  \n",
    "- We need to configure our S3 credentials for GDAL\n",
    "- The GDAL utility expects S3 links to be formated with the `GDAL virtual file system (VSI)` S3 path.  We therefore have to use the VSI path to access the files with GDAL.  We'll substitute the S3 link with the VSI (`vsis3`) link(s). "
   ]
  },
  {
   "cell_type": "code",
   "execution_count": 8,
   "id": "3476bdca-5e16-4528-a841-42837b20edd8",
   "metadata": {},
   "outputs": [],
   "source": [
    "rfl_link = 'bioscape-data/PRISM/L2/prm20231126t080430_rfl_ort'"
   ]
  },
  {
   "cell_type": "code",
   "execution_count": 9,
   "id": "5af839f5-a8fc-433f-97a8-df6c32eb0b4f",
   "metadata": {},
   "outputs": [],
   "source": [
    "image_open = gdal.Open(path.join('/vsis3', rfl_link))\n",
    "#image_open.GetMetadata()"
   ]
  },
  {
   "cell_type": "code",
   "execution_count": 10,
   "id": "72792054-1a89-4473-b5ae-bbb611843286",
   "metadata": {
    "scrolled": true
   },
   "outputs": [
    {
     "name": "stdout",
     "output_type": "stream",
     "text": [
      "             Band number  Band wavelength (nm)\n",
      "350.554829             1            350.554829\n",
      "353.385086             2            353.385086\n",
      "356.215399             3            356.215399\n",
      "359.045768             4            359.045768\n",
      "361.876193             5            361.876193\n",
      "364.706675             6            364.706675\n",
      "367.537213             7            367.537213\n",
      "370.367807             8            370.367807\n",
      "373.198457             9            373.198457\n",
      "376.029164            10            376.029164\n",
      "378.859927            11            378.859927\n",
      "381.690746            12            381.690746\n",
      "384.521621            13            384.521621\n",
      "387.352553            14            387.352553\n",
      "390.183541            15            390.183541\n",
      "393.014585            16            393.014585\n",
      "395.845685            17            395.845685\n",
      "398.676841            18            398.676841\n",
      "401.508054            19            401.508054\n",
      "404.339323            20            404.339323\n",
      "407.170649            21            407.170649\n",
      "410.002030            22            410.002030\n",
      "412.833468            23            412.833468\n",
      "415.664962            24            415.664962\n",
      "418.496512            25            418.496512\n",
      "421.328118            26            421.328118\n",
      "424.159781            27            424.159781\n",
      "426.991500            28            426.991500\n",
      "429.823275            29            429.823275\n",
      "432.655106            30            432.655106\n",
      "435.486994            31            435.486994\n",
      "438.318938            32            438.318938\n",
      "441.150938            33            441.150938\n",
      "443.982994            34            443.982994\n",
      "446.815107            35            446.815107\n",
      "449.647276            36            449.647276\n",
      "452.479501            37            452.479501\n",
      "455.311782            38            455.311782\n",
      "458.144120            39            458.144120\n",
      "460.976514            40            460.976514\n",
      "463.808964            41            463.808964\n",
      "466.641470            42            466.641470\n",
      "469.474033            43            469.474033\n",
      "472.306651            44            472.306651\n",
      "475.139326            45            475.139326\n",
      "477.972058            46            477.972058\n",
      "480.804845            47            480.804845\n",
      "483.637689            48            483.637689\n",
      "486.470589            49            486.470589\n",
      "489.303545            50            489.303545\n",
      "492.136557            51            492.136557\n",
      "494.969626            52            494.969626\n",
      "497.802751            53            497.802751\n",
      "500.635932            54            500.635932\n",
      "503.469169            55            503.469169\n",
      "506.302463            56            506.302463\n",
      "509.135813            57            509.135813\n",
      "511.969219            58            511.969219\n",
      "514.802681            59            514.802681\n",
      "517.636200            60            517.636200\n",
      "520.469775            61            520.469775\n",
      "523.303406            62            523.303406\n",
      "526.137093            63            526.137093\n",
      "528.970837            64            528.970837\n",
      "531.804637            65            531.804637\n",
      "534.638493            66            534.638493\n",
      "537.472405            67            537.472405\n",
      "540.306373            68            540.306373\n",
      "543.140398            69            543.140398\n",
      "545.974479            70            545.974479\n",
      "548.808616            71            548.808616\n",
      "551.642810            72            551.642810\n",
      "554.477060            73            554.477060\n",
      "557.311366            74            557.311366\n",
      "560.145728            75            560.145728\n",
      "562.980146            76            562.980146\n",
      "565.814621            77            565.814621\n",
      "568.649152            78            568.649152\n",
      "571.483739            79            571.483739\n",
      "574.318382            80            574.318382\n",
      "577.153082            81            577.153082\n",
      "579.987838            82            579.987838\n",
      "582.822650            83            582.822650\n",
      "585.657518            84            585.657518\n",
      "588.492443            85            588.492443\n",
      "591.327424            86            591.327424\n",
      "594.162461            87            594.162461\n",
      "596.997554            88            596.997554\n",
      "599.832704            89            599.832704\n",
      "602.667910            90            602.667910\n",
      "605.503172            91            605.503172\n",
      "608.338490            92            608.338490\n",
      "611.173865            93            611.173865\n",
      "614.009295            94            614.009295\n",
      "616.844782            95            616.844782\n",
      "619.680325            96            619.680325\n",
      "622.515925            97            622.515925\n",
      "625.351581            98            625.351581\n",
      "628.187293            99            628.187293\n",
      "631.023061           100            631.023061\n",
      "633.858885           101            633.858885\n",
      "636.694766           102            636.694766\n",
      "639.530703           103            639.530703\n",
      "642.366696           104            642.366696\n",
      "645.202745           105            645.202745\n",
      "648.038851           106            648.038851\n",
      "650.875013           107            650.875013\n",
      "653.711231           108            653.711231\n",
      "656.547505           109            656.547505\n",
      "659.383836           110            659.383836\n",
      "662.220223           111            662.220223\n",
      "665.056666           112            665.056666\n",
      "667.893165           113            667.893165\n",
      "670.729721           114            670.729721\n",
      "673.566333           115            673.566333\n",
      "676.403001           116            676.403001\n",
      "679.239725           117            679.239725\n",
      "682.076505           118            682.076505\n",
      "684.913342           119            684.913342\n",
      "687.750235           120            687.750235\n",
      "690.587185           121            690.587185\n",
      "693.424190           122            693.424190\n",
      "696.261252           123            696.261252\n",
      "699.098370           124            699.098370\n",
      "701.935544           125            701.935544\n",
      "704.772774           126            704.772774\n",
      "707.610061           127            707.610061\n",
      "710.447404           128            710.447404\n",
      "713.284803           129            713.284803\n",
      "716.122258           130            716.122258\n",
      "718.959770           131            718.959770\n",
      "721.797338           132            721.797338\n",
      "724.634962           133            724.634962\n",
      "727.472642           134            727.472642\n",
      "730.310379           135            730.310379\n",
      "733.148172           136            733.148172\n",
      "735.986021           137            735.986021\n",
      "738.823926           138            738.823926\n",
      "741.661888           139            741.661888\n",
      "744.499906           140            744.499906\n",
      "747.337980           141            747.337980\n",
      "750.176110           142            750.176110\n",
      "753.014297           143            753.014297\n",
      "755.852539           144            755.852539\n",
      "758.690838           145            758.690838\n",
      "761.529194           146            761.529194\n",
      "764.367605           147            764.367605\n",
      "767.206073           148            767.206073\n",
      "770.044597           149            770.044597\n",
      "772.883177           150            772.883177\n",
      "775.721813           151            775.721813\n",
      "778.560506           152            778.560506\n",
      "781.399255           153            781.399255\n",
      "784.238060           154            784.238060\n",
      "787.076921           155            787.076921\n",
      "789.915839           156            789.915839\n",
      "792.754813           157            792.754813\n",
      "795.593843           158            795.593843\n",
      "798.432929           159            798.432929\n",
      "801.272072           160            801.272072\n",
      "804.111271           161            804.111271\n",
      "806.950526           162            806.950526\n",
      "809.789837           163            809.789837\n",
      "812.629205           164            812.629205\n",
      "815.468629           165            815.468629\n",
      "818.308109           166            818.308109\n",
      "821.147645           167            821.147645\n",
      "823.987237           168            823.987237\n",
      "826.826886           169            826.826886\n",
      "829.666591           170            829.666591\n",
      "832.506353           171            832.506353\n",
      "835.346170           172            835.346170\n",
      "838.186044           173            838.186044\n",
      "841.025974           174            841.025974\n",
      "843.865960           175            843.865960\n",
      "846.706002           176            846.706002\n",
      "849.546101           177            849.546101\n",
      "852.386256           178            852.386256\n",
      "855.226467           179            855.226467\n",
      "858.066734           180            858.066734\n",
      "860.907058           181            860.907058\n",
      "863.747438           182            863.747438\n",
      "866.587874           183            866.587874\n",
      "869.428366           184            869.428366\n",
      "872.268915           185            872.268915\n",
      "875.109520           186            875.109520\n",
      "877.950181           187            877.950181\n",
      "880.790898           188            880.790898\n",
      "883.631672           189            883.631672\n",
      "886.472502           190            886.472502\n",
      "889.313388           191            889.313388\n",
      "892.154330           192            892.154330\n",
      "894.995328           193            894.995328\n",
      "897.836383           194            897.836383\n",
      "900.677494           195            900.677494\n",
      "903.518662           196            903.518662\n",
      "906.359885           197            906.359885\n",
      "909.201165           198            909.201165\n",
      "912.042501           199            912.042501\n",
      "914.883893           200            914.883893\n",
      "917.725341           201            917.725341\n",
      "920.566846           202            920.566846\n",
      "923.408407           203            923.408407\n",
      "926.250024           204            926.250024\n",
      "929.091697           205            929.091697\n",
      "931.933427           206            931.933427\n",
      "934.775213           207            934.775213\n",
      "937.617055           208            937.617055\n",
      "940.458953           209            940.458953\n",
      "943.300908           210            943.300908\n",
      "946.142919           211            946.142919\n",
      "948.984986           212            948.984986\n",
      "951.827109           213            951.827109\n",
      "954.669289           214            954.669289\n",
      "957.511525           215            957.511525\n",
      "960.353817           216            960.353817\n",
      "963.196165           217            963.196165\n",
      "966.038569           218            966.038569\n",
      "968.881030           219            968.881030\n",
      "971.723547           220            971.723547\n",
      "974.566121           221            974.566121\n",
      "977.408750           222            977.408750\n",
      "980.251436           223            980.251436\n",
      "983.094178           224            983.094178\n",
      "985.936976           225            985.936976\n",
      "988.779830           226            988.779830\n",
      "991.622741           227            991.622741\n",
      "994.465708           228            994.465708\n",
      "997.308731           229            997.308731\n",
      "1000.151810          230           1000.151810\n",
      "1002.994946          231           1002.994946\n",
      "1005.838138          232           1005.838138\n",
      "1008.681386          233           1008.681386\n",
      "1011.524690          234           1011.524690\n",
      "1014.368051          235           1014.368051\n",
      "1017.211468          236           1017.211468\n",
      "1020.054941          237           1020.054941\n",
      "1022.898470          238           1022.898470\n",
      "1025.742056          239           1025.742056\n",
      "1028.585698          240           1028.585698\n",
      "1031.429396          241           1031.429396\n",
      "1034.273150          242           1034.273150\n",
      "1037.116961          243           1037.116961\n",
      "1039.960827          244           1039.960827\n",
      "1042.804750          245           1042.804750\n",
      "1045.648730          246           1045.648730\n"
     ]
    }
   ],
   "source": [
    "# lists of band numbers and band center\n",
    "band_numbers = [int(b.split(\"_\")[1]) for b in image_open.GetMetadata().keys() if b != \"wavelength_units\"]\n",
    "band_wavelength = [float(b.split(\" \")[0]) for b in image_open.GetMetadata().values() if b != \"Nanometers\"]\n",
    "\n",
    "# data frame describing bands\n",
    "bands = pd.DataFrame({ \n",
    "    \"Band number\": band_numbers, \n",
    "    \"Band wavelength (nm)\": band_wavelength}, index = band_wavelength).sort_index()\n",
    "\n",
    "print(bands.to_string())"
   ]
  },
  {
   "cell_type": "code",
   "execution_count": 11,
   "id": "02b1ae4d-da6a-4199-b297-0aa74623ee01",
   "metadata": {},
   "outputs": [],
   "source": [
    "# need to sort the wavelengths for later plotting\n",
    "band_wavelength.sort()\n",
    "#print(band_wavelength)"
   ]
  },
  {
   "cell_type": "code",
   "execution_count": 12,
   "id": "3000b018-d90b-475a-b781-66d7afa620ae",
   "metadata": {},
   "outputs": [
    {
     "name": "stdout",
     "output_type": "stream",
     "text": [
      "Bands:\t246\n",
      "Rows:\t2789\n",
      "Cols:\t655\n"
     ]
    }
   ],
   "source": [
    "# Open the PRISM ENVI file and read the file bands, row, cols\n",
    "#image_open = gdal.Open(gdal_url)\n",
    "\n",
    "nbands = image_open.RasterCount\n",
    "nrows = image_open.RasterYSize\n",
    "ncols = image_open.RasterXSize\n",
    "\n",
    "print(\"\\n\".join([\"Bands:\\t\"+str(nbands), \"Rows:\\t\"+str(nrows), \"Cols:\\t\"+str(ncols)]))"
   ]
  },
  {
   "cell_type": "code",
   "execution_count": 13,
   "id": "0be80a17-3c14-47a7-b6d2-570f00d7f6d7",
   "metadata": {},
   "outputs": [
    {
     "name": "stdout",
     "output_type": "stream",
     "text": [
      "ENVI image WKT: \n",
      "PROJCS[\"unnamed\",GEOGCS[\"WGS 84\",DATUM[\"WGS_1984\",SPHEROID[\"WGS 84\",6378137,298.257223563,AUTHORITY[\"EPSG\",\"7030\"]],AUTHORITY[\"EPSG\",\"6326\"]],PRIMEM[\"Greenwich\",0,AUTHORITY[\"EPSG\",\"8901\"]],UNIT[\"degree\",0.0174532925199433,AUTHORITY[\"EPSG\",\"9122\"]],AUTHORITY[\"EPSG\",\"4326\"]],PROJECTION[\"Transverse_Mercator\"],PARAMETER[\"latitude_of_origin\",0],PARAMETER[\"central_meridian\",21],PARAMETER[\"scale_factor\",0.9996],PARAMETER[\"false_easting\",500000],PARAMETER[\"false_northing\",10000000],UNIT[\"Meter\",1],AXIS[\"Easting\",EAST],AXIS[\"Northing\",NORTH]]\n"
     ]
    }
   ],
   "source": [
    "# GDAL can interpret the ENVI Header the projection information\n",
    "print(\"ENVI image WKT: \\n\"+str(image_open.GetProjection()))\n",
    "image_proj = image_open.GetProjection()"
   ]
  },
  {
   "cell_type": "markdown",
   "id": "47bc2539-f66b-4414-a2ce-34891794a55a",
   "metadata": {},
   "source": [
    "### Using GDAL to read a raster file as a numerical array\n",
    "- convert an existing `Gdal Dataset` or a Band into a numpy array with the `ReadAsArray()` function"
   ]
  },
  {
   "cell_type": "code",
   "execution_count": 14,
   "id": "4535a68f-598c-4fe8-86dc-e91875fda083",
   "metadata": {},
   "outputs": [],
   "source": [
    "#### This block takes a while to run.  The output is provided as an image below this block for workshop convenience.  \n",
    "\n",
    "#### uncomment ONE of the GetRaseterBand lines to GetRasterBand or plot.  \n",
    "#### The img_red is shown in the plot.\n",
    "\n",
    "#img_red = image_open.GetRasterBand(109).ReadAsArray()  # Band 109 is 657nm \n",
    "##img_green = image_open.GetRasterBand(70).ReadAsArray()  # Band 70 is 546nm \n",
    "####img_blue = image_open.GetRasterBand(47).ReadAsArray()  # Band 47 is 481nm \n",
    "#plt.scatter(300,770, color='red')\n",
    "#plt.scatter(75,770, color='black')\n",
    "#plt.rcParams['figure.figsize'] = [10,10]\n",
    "#plt.rcParams['figure.dpi'] = 100\n",
    "#plt.imshow(img_red, vmin=-0, vmax=.20)\n",
    "##plt.imshow(img_green, vmin=0, vmax=0.20)\n",
    "####plt.imshow(img_blue, vmin=0, vmax=0.20)\n",
    "#plt.colorbar()\n",
    "#plt.show()"
   ]
  },
  {
   "cell_type": "markdown",
   "id": "4dbc3d0e-c0e3-4a3b-abe7-04f8050258a3",
   "metadata": {},
   "source": [
    "<center><img src=\"images/PRISM_redband2plots_grab.PNG\"/></center>"
   ]
  },
  {
   "cell_type": "code",
   "execution_count": 15,
   "id": "ddc4ed56-ef96-4e1c-9ece-18dceeb76481",
   "metadata": {},
   "outputs": [
    {
     "data": {
      "image/png": "[encoded data removed]",
      "text/plain": [
       "<Figure size 1500x700 with 1 Axes>"
      ]
     },
     "metadata": {},
     "output_type": "display_data"
    }
   ],
   "source": [
    "# Compare spectra of two different aquatic plots\n",
    "pixel1 = image_open.ReadAsArray(300, 770, 1, 1) #  pixel location: col, row\n",
    "pixel2 = image_open.ReadAsArray(75, 770, 1, 1) # pixel location: col, row\n",
    "pixel1 = np.reshape(pixel1, (246))\n",
    "pixel2 = np.reshape(pixel2, (246))\n",
    "\n",
    "plt.rcParams['figure.figsize'] = [15,7]\n",
    "plt.plot(band_wavelength, pixel1, color = 'red')\n",
    "plt.plot(band_wavelength, pixel2, color = 'black')\n",
    "plt.xlabel('PRISM Wavelength (nm)', fontsize=12)\n",
    "plt.ylabel('Reflectance', fontsize=12)\n",
    "plt.show()"
   ]
  },
  {
   "cell_type": "markdown",
   "id": "c33b4f3d-d184-4588-85ea-21d0258581d7",
   "metadata": {},
   "source": [
    "#\n",
    "##### <center>SEA WATER TURBIDITY ANALYSIS FROM SENTINEL-2 IMAGES: ATMOSPHERIC CORRECTION AND BANDS CORRELATION</center>\n",
    "<center><img src=\"images/turgidwater.png\"/></center>\n",
    "Spectral signatures of water with sediments (orange), clear water (blue), water with chlorophyll content (green), water with Chromophoric Dissolved Organic Matter -CDOM (black). Rrs is the reflectance registered by the sensor. Source: Hafeez et al. (2018).  \n",
    "\n",
    "[SEA WATER TURBIDITY ANALYSIS FROM SENTINEL-2 IMAGES: ATMOSPHERIC CORRECTION AND BANDS CORRELATION](https://doi.org/10.5194/isprs-archives-XLVIII-4-W1-2022-371-2022)"
   ]
  },
  {
   "cell_type": "markdown",
   "id": "863ee982-1126-4b6f-abd4-fc6d99210c19",
   "metadata": {},
   "source": [
    "## Export R,G,B to a 3-band projected geoTIFF\n",
    "\n",
    "### GDAL's raster library uses the `GDALDataset` class to obtain properties of a raster image\n",
    "- GetRasterBand\n",
    "- GetProjection\n",
    "- GetGeoTransform"
   ]
  },
  {
   "cell_type": "code",
   "execution_count": null,
   "id": "6b9eb4bb-d719-4a1d-acb1-4d2ad4cdca9d",
   "metadata": {},
   "outputs": [],
   "source": [
    "img_red = image_open.GetRasterBand(109).ReadAsArray()  # Band 109 is 657nm red\n",
    "img_green = image_open.GetRasterBand(70).ReadAsArray()  # Band 70 is 546nm green\n",
    "img_blue = image_open.GetRasterBand(47).ReadAsArray()  # Band 47 is 481nm  blue\n",
    "\n",
    "outfile = ('prism_rgb.tif')\n",
    "rows = image_open.RasterYSize\n",
    "cols = image_open.RasterXSize\n",
    "datatype = image_open.GetRasterBand(1).DataType\n",
    "projection = image_open.GetProjection()\n",
    "transform = image_open.GetGeoTransform()\n",
    "\n",
    "driver = gdal.GetDriverByName(\"GTiff\")\n",
    "DataSetOut = driver.Create(outfile, cols, rows, 3, datatype)\n",
    "DataSetOut.GetRasterBand(1).WriteArray(img_red)\n",
    "DataSetOut.GetRasterBand(2).WriteArray(img_green)\n",
    "DataSetOut.GetRasterBand(3).WriteArray(img_blue)\n",
    "DataSetOut.SetProjection(projection)\n",
    "DataSetOut.SetGeoTransform(transform)\n",
    "DataSetOut = None"
   ]
  },
  {
   "cell_type": "markdown",
   "id": "69bcd91b-4a1f-46a4-8ba4-ec2338e683f7",
   "metadata": {},
   "source": [
    "### Open QGIS in the Hub Desktop, \n",
    "- From a **`Launcher`** tab, start the Desktop\n",
    "- At the bottom of the Desktop screen, use the Application Finder to find and launch QGIS\n",
    "- start QGIS,\n",
    "- using the **`Home`** file system, maneuver to the correct file folder containing the prism_rgb.tif file,\n",
    "- and view the prism_rgb.tif image you just created !\n",
    "    - HINT:  under Symbology, set the `Min/Max Value Settings` of the image in QGIS to Whole Raster | Actual (slow)\n",
    "    - HINT: under Transparency, set the `NoData` value to 0\n",
    "\n"
   ]
  },
  {
   "cell_type": "markdown",
   "id": "e5974265-8e83-4836-9330-8e753de8820a",
   "metadata": {},
   "source": [
    "<center><img src=\"images/Desktop_applicationfinder_QGIS.PNG\"/></center>"
   ]
  },
  {
   "cell_type": "markdown",
   "id": "eddf4613-d295-4080-b866-ef5d1c904b58",
   "metadata": {},
   "source": [
    "- a copy of the output prism_rgb.tiff file is in the workshop folder `//shared/users/bioscape_ZA24workshop_data/RS_data/PRISM_Notebook`"
   ]
  }
 ],
 "metadata": {
  "kernelspec": {
   "display_name": "global-global-BioSCape",
   "language": "python",
   "name": "conda-env-global-global-BioSCape-py"
  },
  "language_info": {
   "codemirror_mode": {
    "name": "ipython",
    "version": 3
   },
   "file_extension": ".py",
   "mimetype": "text/x-python",
   "name": "python",
   "nbconvert_exporter": "python",
   "pygments_lexer": "ipython3",
   "version": "3.12.3"
  }
 },
 "nbformat": 4,
 "nbformat_minor": 5
}

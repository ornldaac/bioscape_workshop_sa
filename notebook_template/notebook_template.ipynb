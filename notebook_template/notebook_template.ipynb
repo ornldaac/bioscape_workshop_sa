{
 "cells": [
  {
   "cell_type": "markdown",
   "id": "3646013e-5822-4d9e-9758-052b61a67bec",
   "metadata": {},
   "source": [
    "# <center>BioSCape Data Skills Workshop: From the Field to the Image</center>\n",
    "<center><img src=\"images/121229-87.png\"/></center>\n",
    "\n",
    "[**BioSCape**](https://www.bioscape.io/), the Biodiversity Survey of the Cape, is NASA’s first biodiversity-focused airborne and field campaign that was conducted in South Africa in 2023. BioSCape’s primary objective is to study the structure, function, and composition of the region’s ecosystems, and how and why they are changing. \n",
    "\n",
    "BioSCape's airborne dataset is unprecedented, with `AVIRIS-NG`, `PRISM`, and `HyTES` imaging spectrometers capturing spectral data across the UV, visible and infrared at high resolution and `LVIS` acquiring coincident full-waveform lidar. BioSCape's `field dataset` is equally impressive, with 18 PI-led projects collecting data ranging from the diversity and phylogeny of plants, kelp and phytoplankton, eDNA, landscape acoustics, plant traits, blue carbon accounting, and more\n",
    "\n",
    "This workshop will equip participants with the skills to find, subset, and visualize the various BioSCape field and airborne (imaging spectroscopy and full-waveform lidar) data sets. Participants will learn data skills through worked examples in terrestrial and aquatic ecosystems, including: wrangling lidar data, performing band math calculations, calculating spectral diversity metrics, spectral unmixing, machine learning and image classification, and mapping functional traits using partial least squares regression. The workshop format is a mix of expert talks and interactive coding notebooks and will be run through the BioSCape Cloud computing environment.\n",
    "\n",
    "**Date:** October 9 - 11, 2024 Cape Town, South Africa</center>\n",
    "\n",
    "**Host:** NASA’s Oak Ridge National Laboratory Distributed Active Archive Center (ORNL DAAC), in close collaboration with BioSCape, the South African Environmental Observation Network (SAEON), the University of Wisconsin Madison (Phil Townsend), The Nature Conservancy (Glenn Moncrieff), the University of California Merced (Erin Hestir), the University of Cape Town (Jasper Slingsby), Jet Propulsion Laboratory (Kerry Cawse-Nicholson), and UNESCO.\n",
    "\n",
    "**Instructors:** \n",
    "- In-person contributors: Anabelle Cardoso, Erin Hestir, Phil Townsend, Henry Frye, Glenn Moncrieff, Jasper Slingsby, Michele Thornton, Rupesh Shrestha\n",
    "- Virtual contributors: Kerry Cawse-Nicholson, Nico Stork, Kyle Kovach\n",
    "\n",
    "**Audience:** This training is primarily intended for government natural resource management agency representatives and field technicians in South Africa, as well as local academics and students, especially those connected to the BioSCape Team. \n"
   ]
  },
  {
   "cell_type": "markdown",
   "id": "eafb9c74-866b-4d40-af37-9c7714fd81ca",
   "metadata": {},
   "source": [
    "## Notebook Title\n",
    "-----"
   ]
  },
  {
   "cell_type": "markdown",
   "id": "5aa52134-af0e-46af-a312-df6990c7a44b",
   "metadata": {},
   "source": [
    "### Overview\n",
    "-----\n",
    "Add Summary of data story/background information needed. 2-5 sentences."
   ]
  },
  {
   "cell_type": "markdown",
   "id": "b5a239cd-a69a-4af5-ac13-b22c6086f061",
   "metadata": {},
   "source": [
    "### Learning Objectives\n",
    "1. objective\n",
    "2. objective"
   ]
  },
  {
   "cell_type": "markdown",
   "id": "0bcf0f6b-881b-44c8-a608-72e92fc40e50",
   "metadata": {},
   "source": [
    "### Requirements\n",
    "----\n",
    "Required python modules, etc."
   ]
  },
  {
   "cell_type": "markdown",
   "id": "3b156d55-1de9-4d31-9d0a-cd6f39dd879a",
   "metadata": {},
   "source": [
    "### Content\n",
    "----"
   ]
  },
  {
   "cell_type": "code",
   "execution_count": null,
   "id": "1ad24ca1-50a1-4b93-8a62-46fd667544e1",
   "metadata": {},
   "outputs": [],
   "source": []
  }
 ],
 "metadata": {
  "kernelspec": {
   "display_name": "global-global-BioSCape",
   "language": "python",
   "name": "conda-env-global-global-BioSCape-py"
  },
  "language_info": {
   "codemirror_mode": {
    "name": "ipython",
    "version": 3
   },
   "file_extension": ".py",
   "mimetype": "text/x-python",
   "name": "python",
   "nbconvert_exporter": "python",
   "pygments_lexer": "ipython3",
   "version": "3.12.3"
  }
 },
 "nbformat": 4,
 "nbformat_minor": 5
}
